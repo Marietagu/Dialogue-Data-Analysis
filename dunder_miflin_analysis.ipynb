{
 "cells": [
  {
   "cell_type": "code",
   "execution_count": 20,
   "outputs": [],
   "source": [
    "import pandas as pd\n",
    "import sqlite3"
   ],
   "metadata": {
    "collapsed": false,
    "ExecuteTime": {
     "end_time": "2024-03-04T00:21:43.281777Z",
     "start_time": "2024-03-04T00:21:43.269163Z"
    }
   }
  },
  {
   "cell_type": "code",
   "execution_count": 24,
   "outputs": [],
   "source": [
    "conn = sqlite3.connect('dialogue_analysis.db')"
   ],
   "metadata": {
    "collapsed": false,
    "ExecuteTime": {
     "end_time": "2024-03-04T00:22:05.721659Z",
     "start_time": "2024-03-04T00:22:05.710760Z"
    }
   }
  },
  {
   "cell_type": "code",
   "execution_count": 22,
   "outputs": [],
   "source": [
    "episodes_df = pd.read_csv('Sample Data/episodes.csv')\n",
    "organizations_monthly_df = pd.read_csv('Sample Data/organizations_monthly.csv')\n",
    "cost_to_serve_monthly_df = pd.read_csv('Sample Data/cost_to_serve_monthly.csv')"
   ],
   "metadata": {
    "collapsed": false,
    "ExecuteTime": {
     "end_time": "2024-03-04T00:21:44.994863Z",
     "start_time": "2024-03-04T00:21:44.983887Z"
    }
   }
  },
  {
   "cell_type": "code",
   "execution_count": 25,
   "outputs": [
    {
     "data": {
      "text/plain": "12"
     },
     "execution_count": 25,
     "metadata": {},
     "output_type": "execute_result"
    }
   ],
   "source": [
    "episodes_df.to_sql('episodes', conn, if_exists='replace', index=False)\n",
    "organizations_monthly_df.to_sql('organizations_monthly', conn, if_exists='replace', index=False)\n",
    "cost_to_serve_monthly_df.to_sql('cost_to_serve_monthly', conn, if_exists='replace', index=False)"
   ],
   "metadata": {
    "collapsed": false,
    "ExecuteTime": {
     "end_time": "2024-03-04T00:33:02.455568Z",
     "start_time": "2024-03-04T00:33:02.422083Z"
    }
   }
  },
  {
   "cell_type": "markdown",
   "source": [
    "## Utilization Analysis"
   ],
   "metadata": {
    "collapsed": false
   }
  },
  {
   "cell_type": "markdown",
   "source": [
    "Previewing Tables"
   ],
   "metadata": {
    "collapsed": false
   }
  },
  {
   "cell_type": "code",
   "execution_count": 26,
   "outputs": [
    {
     "name": "stdout",
     "output_type": "stream",
     "text": [
      "Episodes Preview:\n"
     ]
    },
    {
     "data": {
      "text/plain": "                                 EPISODE_ID  ORGANIZATION_ID  \\\n0  d0d178b23004534a5ff6723959785ba20ce1971d                5   \n1  ea85cffb681a06788b364d9ce49b61649f8688a5                5   \n2  7624c12a4ef8847e1951c0918d7193a9c3326dc1                5   \n3  9d994173c5775829c6b6badd898972522f038794                5   \n4  6be180209d276715e9256a78e8a73b13fe6a460d                2   \n\n         EPISODE_CREATED_AT       PROGRAM            OUTCOME  \n0  2023-04-10T12:31:41.107Z  primary_care      walkin_clinic  \n1  2023-05-26T12:19:44.878Z  primary_care      walkin_clinic  \n2  2023-06-02T11:22:07.744Z  primary_care  md_np_appointment  \n3  2023-11-24T14:00:17.658Z  primary_care       mhs_coaching  \n4  2023-02-25T12:20:49.917Z  primary_care  md_np_appointment  ",
      "text/html": "<div>\n<style scoped>\n    .dataframe tbody tr th:only-of-type {\n        vertical-align: middle;\n    }\n\n    .dataframe tbody tr th {\n        vertical-align: top;\n    }\n\n    .dataframe thead th {\n        text-align: right;\n    }\n</style>\n<table border=\"1\" class=\"dataframe\">\n  <thead>\n    <tr style=\"text-align: right;\">\n      <th></th>\n      <th>EPISODE_ID</th>\n      <th>ORGANIZATION_ID</th>\n      <th>EPISODE_CREATED_AT</th>\n      <th>PROGRAM</th>\n      <th>OUTCOME</th>\n    </tr>\n  </thead>\n  <tbody>\n    <tr>\n      <th>0</th>\n      <td>d0d178b23004534a5ff6723959785ba20ce1971d</td>\n      <td>5</td>\n      <td>2023-04-10T12:31:41.107Z</td>\n      <td>primary_care</td>\n      <td>walkin_clinic</td>\n    </tr>\n    <tr>\n      <th>1</th>\n      <td>ea85cffb681a06788b364d9ce49b61649f8688a5</td>\n      <td>5</td>\n      <td>2023-05-26T12:19:44.878Z</td>\n      <td>primary_care</td>\n      <td>walkin_clinic</td>\n    </tr>\n    <tr>\n      <th>2</th>\n      <td>7624c12a4ef8847e1951c0918d7193a9c3326dc1</td>\n      <td>5</td>\n      <td>2023-06-02T11:22:07.744Z</td>\n      <td>primary_care</td>\n      <td>md_np_appointment</td>\n    </tr>\n    <tr>\n      <th>3</th>\n      <td>9d994173c5775829c6b6badd898972522f038794</td>\n      <td>5</td>\n      <td>2023-11-24T14:00:17.658Z</td>\n      <td>primary_care</td>\n      <td>mhs_coaching</td>\n    </tr>\n    <tr>\n      <th>4</th>\n      <td>6be180209d276715e9256a78e8a73b13fe6a460d</td>\n      <td>2</td>\n      <td>2023-02-25T12:20:49.917Z</td>\n      <td>primary_care</td>\n      <td>md_np_appointment</td>\n    </tr>\n  </tbody>\n</table>\n</div>"
     },
     "metadata": {},
     "output_type": "display_data"
    },
    {
     "name": "stdout",
     "output_type": "stream",
     "text": [
      "\n",
      "Organizations Monthly Preview:\n"
     ]
    },
    {
     "data": {
      "text/plain": "             DATE_MONTH  ORGANIZATION_ID  ELIGIBLE_MEMBERS   PEPM  \\\n0  2023-10-01T00:00:00Z                6               185   7.47   \n1  2023-06-01T00:00:00Z                6               219   7.47   \n2  2023-01-01T00:00:00Z                1               268  15.71   \n3  2023-03-01T00:00:00Z                1               272  15.71   \n4  2023-09-01T00:00:00Z                4              1436  14.21   \n\n  HAS_PRIMARY_CARE_SINCE    HAS_MENTAL_HEALTH_SINCE  \\\n0   2000-01-01T00:00:00Z                       None   \n1   2000-01-01T00:00:00Z                       None   \n2   2000-01-01T00:00:00Z  2021-01-19T22:58:24.2361Z   \n3   2000-01-01T00:00:00Z  2021-01-19T22:58:24.2361Z   \n4   2000-01-01T00:00:00Z  2021-06-01T12:15:33.8532Z   \n\n                HAS_EAP_SINCE  \n0                        None  \n1                        None  \n2   2021-11-01T16:05:28.0127Z  \n3   2021-11-01T16:05:28.0127Z  \n4  2023-04-05T21:32:35.77486Z  ",
      "text/html": "<div>\n<style scoped>\n    .dataframe tbody tr th:only-of-type {\n        vertical-align: middle;\n    }\n\n    .dataframe tbody tr th {\n        vertical-align: top;\n    }\n\n    .dataframe thead th {\n        text-align: right;\n    }\n</style>\n<table border=\"1\" class=\"dataframe\">\n  <thead>\n    <tr style=\"text-align: right;\">\n      <th></th>\n      <th>DATE_MONTH</th>\n      <th>ORGANIZATION_ID</th>\n      <th>ELIGIBLE_MEMBERS</th>\n      <th>PEPM</th>\n      <th>HAS_PRIMARY_CARE_SINCE</th>\n      <th>HAS_MENTAL_HEALTH_SINCE</th>\n      <th>HAS_EAP_SINCE</th>\n    </tr>\n  </thead>\n  <tbody>\n    <tr>\n      <th>0</th>\n      <td>2023-10-01T00:00:00Z</td>\n      <td>6</td>\n      <td>185</td>\n      <td>7.47</td>\n      <td>2000-01-01T00:00:00Z</td>\n      <td>None</td>\n      <td>None</td>\n    </tr>\n    <tr>\n      <th>1</th>\n      <td>2023-06-01T00:00:00Z</td>\n      <td>6</td>\n      <td>219</td>\n      <td>7.47</td>\n      <td>2000-01-01T00:00:00Z</td>\n      <td>None</td>\n      <td>None</td>\n    </tr>\n    <tr>\n      <th>2</th>\n      <td>2023-01-01T00:00:00Z</td>\n      <td>1</td>\n      <td>268</td>\n      <td>15.71</td>\n      <td>2000-01-01T00:00:00Z</td>\n      <td>2021-01-19T22:58:24.2361Z</td>\n      <td>2021-11-01T16:05:28.0127Z</td>\n    </tr>\n    <tr>\n      <th>3</th>\n      <td>2023-03-01T00:00:00Z</td>\n      <td>1</td>\n      <td>272</td>\n      <td>15.71</td>\n      <td>2000-01-01T00:00:00Z</td>\n      <td>2021-01-19T22:58:24.2361Z</td>\n      <td>2021-11-01T16:05:28.0127Z</td>\n    </tr>\n    <tr>\n      <th>4</th>\n      <td>2023-09-01T00:00:00Z</td>\n      <td>4</td>\n      <td>1436</td>\n      <td>14.21</td>\n      <td>2000-01-01T00:00:00Z</td>\n      <td>2021-06-01T12:15:33.8532Z</td>\n      <td>2023-04-05T21:32:35.77486Z</td>\n    </tr>\n  </tbody>\n</table>\n</div>"
     },
     "metadata": {},
     "output_type": "display_data"
    },
    {
     "name": "stdout",
     "output_type": "stream",
     "text": [
      "\n",
      "Cost to Serve Monthly Preview:\n"
     ]
    },
    {
     "data": {
      "text/plain": "   DATE_MONTH  COST_TO_SERVE_PRIMARY_CARE  COST_TO_SERVE_MENTAL_HEALTH  \\\n0  2023-01-01                       60.04                       334.29   \n1  2023-02-01                       62.90                       312.29   \n2  2023-03-01                       62.96                       298.27   \n3  2023-04-01                       63.77                       320.80   \n4  2023-05-01                       65.27                       276.54   \n\n   COST_TO_SERVE_EAP  \n0             112.27  \n1             111.19  \n2             119.29  \n3             120.93  \n4             114.95  ",
      "text/html": "<div>\n<style scoped>\n    .dataframe tbody tr th:only-of-type {\n        vertical-align: middle;\n    }\n\n    .dataframe tbody tr th {\n        vertical-align: top;\n    }\n\n    .dataframe thead th {\n        text-align: right;\n    }\n</style>\n<table border=\"1\" class=\"dataframe\">\n  <thead>\n    <tr style=\"text-align: right;\">\n      <th></th>\n      <th>DATE_MONTH</th>\n      <th>COST_TO_SERVE_PRIMARY_CARE</th>\n      <th>COST_TO_SERVE_MENTAL_HEALTH</th>\n      <th>COST_TO_SERVE_EAP</th>\n    </tr>\n  </thead>\n  <tbody>\n    <tr>\n      <th>0</th>\n      <td>2023-01-01</td>\n      <td>60.04</td>\n      <td>334.29</td>\n      <td>112.27</td>\n    </tr>\n    <tr>\n      <th>1</th>\n      <td>2023-02-01</td>\n      <td>62.90</td>\n      <td>312.29</td>\n      <td>111.19</td>\n    </tr>\n    <tr>\n      <th>2</th>\n      <td>2023-03-01</td>\n      <td>62.96</td>\n      <td>298.27</td>\n      <td>119.29</td>\n    </tr>\n    <tr>\n      <th>3</th>\n      <td>2023-04-01</td>\n      <td>63.77</td>\n      <td>320.80</td>\n      <td>120.93</td>\n    </tr>\n    <tr>\n      <th>4</th>\n      <td>2023-05-01</td>\n      <td>65.27</td>\n      <td>276.54</td>\n      <td>114.95</td>\n    </tr>\n  </tbody>\n</table>\n</div>"
     },
     "metadata": {},
     "output_type": "display_data"
    }
   ],
   "source": [
    "# episodes table\n",
    "episodes_preview = pd.read_sql_query(\"SELECT * FROM episodes LIMIT 5;\", conn)\n",
    "print(\"Episodes Preview:\")\n",
    "display(episodes_preview)\n",
    "\n",
    "# organizations_monthly table\n",
    "org_monthly_preview = pd.read_sql_query(\"SELECT * FROM organizations_monthly LIMIT 5;\", conn)\n",
    "print(\"\\nOrganizations Monthly Preview:\")\n",
    "display(org_monthly_preview)\n",
    "\n",
    "# cost_to_serve_monthly table\n",
    "cost_serve_monthly_preview = pd.read_sql_query(\"SELECT * FROM cost_to_serve_monthly LIMIT 5;\", conn)\n",
    "print(\"\\nCost to Serve Monthly Preview:\")\n",
    "display(cost_serve_monthly_preview)"
   ],
   "metadata": {
    "collapsed": false,
    "ExecuteTime": {
     "end_time": "2024-03-04T00:38:14.919614Z",
     "start_time": "2024-03-04T00:38:14.887247Z"
    }
   }
  },
  {
   "cell_type": "markdown",
   "source": [
    "Number of episodes by category for the year 2023"
   ],
   "metadata": {
    "collapsed": false
   }
  },
  {
   "cell_type": "code",
   "execution_count": 27,
   "outputs": [
    {
     "data": {
      "text/plain": "         PROGRAM  EPISODES_COUNT\n0            eap              67\n1  mental_health             112\n2   primary_care             550",
      "text/html": "<div>\n<style scoped>\n    .dataframe tbody tr th:only-of-type {\n        vertical-align: middle;\n    }\n\n    .dataframe tbody tr th {\n        vertical-align: top;\n    }\n\n    .dataframe thead th {\n        text-align: right;\n    }\n</style>\n<table border=\"1\" class=\"dataframe\">\n  <thead>\n    <tr style=\"text-align: right;\">\n      <th></th>\n      <th>PROGRAM</th>\n      <th>EPISODES_COUNT</th>\n    </tr>\n  </thead>\n  <tbody>\n    <tr>\n      <th>0</th>\n      <td>eap</td>\n      <td>67</td>\n    </tr>\n    <tr>\n      <th>1</th>\n      <td>mental_health</td>\n      <td>112</td>\n    </tr>\n    <tr>\n      <th>2</th>\n      <td>primary_care</td>\n      <td>550</td>\n    </tr>\n  </tbody>\n</table>\n</div>"
     },
     "metadata": {},
     "output_type": "display_data"
    }
   ],
   "source": [
    "query = \"\"\"\n",
    "SELECT PROGRAM, COUNT(*) AS EPISODES_COUNT\n",
    "FROM episodes\n",
    "WHERE ORGANIZATION_ID = 4\n",
    "GROUP BY PROGRAM;\n",
    "\"\"\"\n",
    "df = pd.read_sql_query(query, conn)\n",
    "display(df)"
   ],
   "metadata": {
    "collapsed": false,
    "ExecuteTime": {
     "end_time": "2024-03-04T00:39:24.762563Z",
     "start_time": "2024-03-04T00:39:24.743069Z"
    }
   }
  },
  {
   "cell_type": "markdown",
   "source": [
    "Episodes opened by month"
   ],
   "metadata": {
    "collapsed": false
   }
  },
  {
   "cell_type": "code",
   "execution_count": 28,
   "outputs": [
    {
     "data": {
      "text/plain": "     month  episodes_opened\n0  2023-01                1\n1  2023-02                1\n2  2023-05              158\n3  2023-06               89\n4  2023-07               78\n5  2023-08               76\n6  2023-09               58\n7  2023-10               90\n8  2023-11               90\n9  2023-12               88",
      "text/html": "<div>\n<style scoped>\n    .dataframe tbody tr th:only-of-type {\n        vertical-align: middle;\n    }\n\n    .dataframe tbody tr th {\n        vertical-align: top;\n    }\n\n    .dataframe thead th {\n        text-align: right;\n    }\n</style>\n<table border=\"1\" class=\"dataframe\">\n  <thead>\n    <tr style=\"text-align: right;\">\n      <th></th>\n      <th>month</th>\n      <th>episodes_opened</th>\n    </tr>\n  </thead>\n  <tbody>\n    <tr>\n      <th>0</th>\n      <td>2023-01</td>\n      <td>1</td>\n    </tr>\n    <tr>\n      <th>1</th>\n      <td>2023-02</td>\n      <td>1</td>\n    </tr>\n    <tr>\n      <th>2</th>\n      <td>2023-05</td>\n      <td>158</td>\n    </tr>\n    <tr>\n      <th>3</th>\n      <td>2023-06</td>\n      <td>89</td>\n    </tr>\n    <tr>\n      <th>4</th>\n      <td>2023-07</td>\n      <td>78</td>\n    </tr>\n    <tr>\n      <th>5</th>\n      <td>2023-08</td>\n      <td>76</td>\n    </tr>\n    <tr>\n      <th>6</th>\n      <td>2023-09</td>\n      <td>58</td>\n    </tr>\n    <tr>\n      <th>7</th>\n      <td>2023-10</td>\n      <td>90</td>\n    </tr>\n    <tr>\n      <th>8</th>\n      <td>2023-11</td>\n      <td>90</td>\n    </tr>\n    <tr>\n      <th>9</th>\n      <td>2023-12</td>\n      <td>88</td>\n    </tr>\n  </tbody>\n</table>\n</div>"
     },
     "metadata": {},
     "output_type": "display_data"
    }
   ],
   "source": [
    "query_monthly_episodes = \"\"\"\n",
    "SELECT\n",
    "  strftime('%Y-%m', EPISODE_CREATED_AT) AS month,\n",
    "  COUNT(EPISODE_ID) AS episodes_opened\n",
    "FROM episodes\n",
    "WHERE organization_id = 4\n",
    "GROUP BY month\n",
    "ORDER BY month;\n",
    "\n",
    "\n",
    "\"\"\"\n",
    "\n",
    "df = pd.read_sql_query(query_monthly_episodes, conn)\n",
    "display(df)"
   ],
   "metadata": {
    "collapsed": false,
    "ExecuteTime": {
     "end_time": "2024-03-04T00:44:07.366818Z",
     "start_time": "2024-03-04T00:44:07.348622Z"
    }
   }
  },
  {
   "cell_type": "markdown",
   "source": [
    "Eligible members per month"
   ],
   "metadata": {
    "collapsed": false
   }
  },
  {
   "cell_type": "code",
   "execution_count": 29,
   "outputs": [
    {
     "data": {
      "text/plain": "      month  ELIGIBLE_MEMBERS\n0   2023-01                59\n1   2023-02                43\n2   2023-03                42\n3   2023-04                43\n4   2023-05              1478\n5   2023-06              1466\n6   2023-07              1453\n7   2023-08              1429\n8   2023-09              1436\n9   2023-10              1497\n10  2023-11              1500\n11  2023-12              1528",
      "text/html": "<div>\n<style scoped>\n    .dataframe tbody tr th:only-of-type {\n        vertical-align: middle;\n    }\n\n    .dataframe tbody tr th {\n        vertical-align: top;\n    }\n\n    .dataframe thead th {\n        text-align: right;\n    }\n</style>\n<table border=\"1\" class=\"dataframe\">\n  <thead>\n    <tr style=\"text-align: right;\">\n      <th></th>\n      <th>month</th>\n      <th>ELIGIBLE_MEMBERS</th>\n    </tr>\n  </thead>\n  <tbody>\n    <tr>\n      <th>0</th>\n      <td>2023-01</td>\n      <td>59</td>\n    </tr>\n    <tr>\n      <th>1</th>\n      <td>2023-02</td>\n      <td>43</td>\n    </tr>\n    <tr>\n      <th>2</th>\n      <td>2023-03</td>\n      <td>42</td>\n    </tr>\n    <tr>\n      <th>3</th>\n      <td>2023-04</td>\n      <td>43</td>\n    </tr>\n    <tr>\n      <th>4</th>\n      <td>2023-05</td>\n      <td>1478</td>\n    </tr>\n    <tr>\n      <th>5</th>\n      <td>2023-06</td>\n      <td>1466</td>\n    </tr>\n    <tr>\n      <th>6</th>\n      <td>2023-07</td>\n      <td>1453</td>\n    </tr>\n    <tr>\n      <th>7</th>\n      <td>2023-08</td>\n      <td>1429</td>\n    </tr>\n    <tr>\n      <th>8</th>\n      <td>2023-09</td>\n      <td>1436</td>\n    </tr>\n    <tr>\n      <th>9</th>\n      <td>2023-10</td>\n      <td>1497</td>\n    </tr>\n    <tr>\n      <th>10</th>\n      <td>2023-11</td>\n      <td>1500</td>\n    </tr>\n    <tr>\n      <th>11</th>\n      <td>2023-12</td>\n      <td>1528</td>\n    </tr>\n  </tbody>\n</table>\n</div>"
     },
     "metadata": {},
     "output_type": "display_data"
    }
   ],
   "source": [
    "query_monthly_members = \"\"\"\n",
    "SELECT\n",
    "  strftime('%Y-%m', date_month) AS month,\n",
    "  eligible_members\n",
    "FROM organizations_monthly\n",
    "WHERE organization_id = 4\n",
    "GROUP BY month\n",
    "ORDER BY month;\n",
    "\"\"\"\n",
    "\n",
    "df = pd.read_sql_query(query_monthly_members, conn)\n",
    "display(df)"
   ],
   "metadata": {
    "collapsed": false,
    "ExecuteTime": {
     "end_time": "2024-03-04T00:45:19.452709Z",
     "start_time": "2024-03-04T00:45:19.447235Z"
    }
   }
  },
  {
   "cell_type": "markdown",
   "source": [
    "Combining queries in order to obtain member's utilization rate"
   ],
   "metadata": {
    "collapsed": false
   }
  },
  {
   "cell_type": "code",
   "execution_count": 30,
   "outputs": [
    {
     "data": {
      "text/plain": "     month  episodes_opened  eligible_members  utilization_rate_percentage\n0  2023-01                1                59                         1.69\n1  2023-02                1                43                         2.33\n2  2023-05              158              1478                        10.69\n3  2023-06               89              1466                         6.07\n4  2023-07               78              1453                         5.37\n5  2023-08               76              1429                         5.32\n6  2023-09               58              1436                         4.04\n7  2023-10               90              1497                         6.01\n8  2023-11               90              1500                         6.00\n9  2023-12               88              1528                         5.76",
      "text/html": "<div>\n<style scoped>\n    .dataframe tbody tr th:only-of-type {\n        vertical-align: middle;\n    }\n\n    .dataframe tbody tr th {\n        vertical-align: top;\n    }\n\n    .dataframe thead th {\n        text-align: right;\n    }\n</style>\n<table border=\"1\" class=\"dataframe\">\n  <thead>\n    <tr style=\"text-align: right;\">\n      <th></th>\n      <th>month</th>\n      <th>episodes_opened</th>\n      <th>eligible_members</th>\n      <th>utilization_rate_percentage</th>\n    </tr>\n  </thead>\n  <tbody>\n    <tr>\n      <th>0</th>\n      <td>2023-01</td>\n      <td>1</td>\n      <td>59</td>\n      <td>1.69</td>\n    </tr>\n    <tr>\n      <th>1</th>\n      <td>2023-02</td>\n      <td>1</td>\n      <td>43</td>\n      <td>2.33</td>\n    </tr>\n    <tr>\n      <th>2</th>\n      <td>2023-05</td>\n      <td>158</td>\n      <td>1478</td>\n      <td>10.69</td>\n    </tr>\n    <tr>\n      <th>3</th>\n      <td>2023-06</td>\n      <td>89</td>\n      <td>1466</td>\n      <td>6.07</td>\n    </tr>\n    <tr>\n      <th>4</th>\n      <td>2023-07</td>\n      <td>78</td>\n      <td>1453</td>\n      <td>5.37</td>\n    </tr>\n    <tr>\n      <th>5</th>\n      <td>2023-08</td>\n      <td>76</td>\n      <td>1429</td>\n      <td>5.32</td>\n    </tr>\n    <tr>\n      <th>6</th>\n      <td>2023-09</td>\n      <td>58</td>\n      <td>1436</td>\n      <td>4.04</td>\n    </tr>\n    <tr>\n      <th>7</th>\n      <td>2023-10</td>\n      <td>90</td>\n      <td>1497</td>\n      <td>6.01</td>\n    </tr>\n    <tr>\n      <th>8</th>\n      <td>2023-11</td>\n      <td>90</td>\n      <td>1500</td>\n      <td>6.00</td>\n    </tr>\n    <tr>\n      <th>9</th>\n      <td>2023-12</td>\n      <td>88</td>\n      <td>1528</td>\n      <td>5.76</td>\n    </tr>\n  </tbody>\n</table>\n</div>"
     },
     "metadata": {},
     "output_type": "display_data"
    }
   ],
   "source": [
    "query_utilization_rate = \"\"\"\n",
    "WITH monthly_episodes AS (\n",
    "  SELECT\n",
    "    strftime('%Y-%m', EPISODE_CREATED_AT) AS month,\n",
    "    COUNT(EPISODE_ID) AS episodes_opened\n",
    "  FROM episodes\n",
    "  WHERE organization_id = 4\n",
    "  GROUP BY month\n",
    "),\n",
    "monthly_members AS (\n",
    "  SELECT\n",
    "    strftime('%Y-%m', date_month) AS month,\n",
    "    eligible_members\n",
    "  FROM organizations_monthly\n",
    "  WHERE organization_id = 4\n",
    "  GROUP BY month\n",
    ")\n",
    "SELECT\n",
    "  me.month,\n",
    "  me.episodes_opened,\n",
    "  mm.eligible_members,\n",
    "  ROUND(((me.episodes_opened * 1.0/ mm.eligible_members) * 100), 2) AS utilization_rate_percentage\n",
    "FROM monthly_episodes me\n",
    "JOIN monthly_members mm ON me.month = mm.month\n",
    "ORDER BY me.month;\n",
    "\"\"\"\n",
    "\n",
    "df = pd.read_sql_query(query_utilization_rate, conn)\n",
    "display(df)"
   ],
   "metadata": {
    "collapsed": false,
    "ExecuteTime": {
     "end_time": "2024-03-04T00:51:44.739825Z",
     "start_time": "2024-03-04T00:51:44.723956Z"
    }
   }
  },
  {
   "cell_type": "markdown",
   "source": [
    "Trends in utilization"
   ],
   "metadata": {
    "collapsed": false
   }
  },
  {
   "cell_type": "code",
   "execution_count": 31,
   "outputs": [
    {
     "data": {
      "text/plain": "     month  utilization_rate_percentage  mom_change     trend\n0  2023-01                         1.69         NaN    Stable\n1  2023-02                         2.33        0.64  Increase\n2  2023-05                        10.69        8.36  Increase\n3  2023-06                         6.07       -4.62  Decrease\n4  2023-07                         5.37       -0.70  Decrease\n5  2023-08                         5.32       -0.05  Decrease\n6  2023-09                         4.04       -1.28  Decrease\n7  2023-10                         6.01        1.97  Increase\n8  2023-11                         6.00       -0.01  Decrease\n9  2023-12                         5.76       -0.24  Decrease",
      "text/html": "<div>\n<style scoped>\n    .dataframe tbody tr th:only-of-type {\n        vertical-align: middle;\n    }\n\n    .dataframe tbody tr th {\n        vertical-align: top;\n    }\n\n    .dataframe thead th {\n        text-align: right;\n    }\n</style>\n<table border=\"1\" class=\"dataframe\">\n  <thead>\n    <tr style=\"text-align: right;\">\n      <th></th>\n      <th>month</th>\n      <th>utilization_rate_percentage</th>\n      <th>mom_change</th>\n      <th>trend</th>\n    </tr>\n  </thead>\n  <tbody>\n    <tr>\n      <th>0</th>\n      <td>2023-01</td>\n      <td>1.69</td>\n      <td>NaN</td>\n      <td>Stable</td>\n    </tr>\n    <tr>\n      <th>1</th>\n      <td>2023-02</td>\n      <td>2.33</td>\n      <td>0.64</td>\n      <td>Increase</td>\n    </tr>\n    <tr>\n      <th>2</th>\n      <td>2023-05</td>\n      <td>10.69</td>\n      <td>8.36</td>\n      <td>Increase</td>\n    </tr>\n    <tr>\n      <th>3</th>\n      <td>2023-06</td>\n      <td>6.07</td>\n      <td>-4.62</td>\n      <td>Decrease</td>\n    </tr>\n    <tr>\n      <th>4</th>\n      <td>2023-07</td>\n      <td>5.37</td>\n      <td>-0.70</td>\n      <td>Decrease</td>\n    </tr>\n    <tr>\n      <th>5</th>\n      <td>2023-08</td>\n      <td>5.32</td>\n      <td>-0.05</td>\n      <td>Decrease</td>\n    </tr>\n    <tr>\n      <th>6</th>\n      <td>2023-09</td>\n      <td>4.04</td>\n      <td>-1.28</td>\n      <td>Decrease</td>\n    </tr>\n    <tr>\n      <th>7</th>\n      <td>2023-10</td>\n      <td>6.01</td>\n      <td>1.97</td>\n      <td>Increase</td>\n    </tr>\n    <tr>\n      <th>8</th>\n      <td>2023-11</td>\n      <td>6.00</td>\n      <td>-0.01</td>\n      <td>Decrease</td>\n    </tr>\n    <tr>\n      <th>9</th>\n      <td>2023-12</td>\n      <td>5.76</td>\n      <td>-0.24</td>\n      <td>Decrease</td>\n    </tr>\n  </tbody>\n</table>\n</div>"
     },
     "metadata": {},
     "output_type": "display_data"
    }
   ],
   "source": [
    "query_utilization_trends = \"\"\"\n",
    "WITH monthly_episodes AS (\n",
    "  SELECT\n",
    "    strftime('%Y-%m', EPISODE_CREATED_AT) AS month,\n",
    "    COUNT(EPISODE_ID) AS episodes_opened\n",
    "  FROM episodes\n",
    "  WHERE ORGANIZATION_ID = 4\n",
    "  GROUP BY month\n",
    "),\n",
    "monthly_members AS (\n",
    "  SELECT\n",
    "    strftime('%Y-%m', date_month) AS month,\n",
    "    eligible_members\n",
    "  FROM organizations_monthly\n",
    "  WHERE ORGANIZATION_ID = 4\n",
    "  GROUP BY month\n",
    "),\n",
    "utilization_rates AS (\n",
    "  SELECT\n",
    "    me.month,\n",
    "    me.episodes_opened,\n",
    "    mm.eligible_members,\n",
    "    ROUND(((me.episodes_opened * 1.0 / mm.eligible_members) * 100), 2) AS utilization_rate_percentage\n",
    "  FROM monthly_episodes me\n",
    "  JOIN monthly_members mm ON me.month = mm.month\n",
    "),\n",
    "utilization_trends AS (\n",
    "  SELECT\n",
    "    month,\n",
    "    utilization_rate_percentage,\n",
    "    utilization_rate_percentage - LAG(utilization_rate_percentage) OVER (ORDER BY month) AS mom_change\n",
    "  FROM utilization_rates\n",
    ")\n",
    "SELECT\n",
    "  month,\n",
    "  utilization_rate_percentage,\n",
    "  mom_change,\n",
    "  CASE\n",
    "    WHEN mom_change > 0 THEN 'Increase'\n",
    "    WHEN mom_change < 0 THEN 'Decrease'\n",
    "    ELSE 'Stable'\n",
    "  END AS trend\n",
    "FROM utilization_trends\n",
    "ORDER BY month;\n",
    "\"\"\"\n",
    "\n",
    "df = pd.read_sql_query(query_utilization_trends, conn)\n",
    "display(df)"
   ],
   "metadata": {
    "collapsed": false,
    "ExecuteTime": {
     "end_time": "2024-03-04T00:55:50.159827Z",
     "start_time": "2024-03-04T00:55:50.154780Z"
    }
   }
  },
  {
   "cell_type": "markdown",
   "source": [
    "Potential causes for changes in utilization: Episodes by program type per month"
   ],
   "metadata": {
    "collapsed": false
   }
  },
  {
   "cell_type": "code",
   "execution_count": 32,
   "outputs": [
    {
     "data": {
      "text/plain": "      month        PROGRAM  episodes_count\n0   2023-01   primary_care               1\n1   2023-02   primary_care               1\n2   2023-05            eap              21\n3   2023-05  mental_health              27\n4   2023-05   primary_care             110\n5   2023-06            eap               7\n6   2023-06  mental_health              19\n7   2023-06   primary_care              63\n8   2023-07            eap               9\n9   2023-07  mental_health               9\n10  2023-07   primary_care              60\n11  2023-08            eap              10\n12  2023-08  mental_health               5\n13  2023-08   primary_care              61\n14  2023-09            eap               2\n15  2023-09  mental_health              12\n16  2023-09   primary_care              44\n17  2023-10            eap               8\n18  2023-10  mental_health              15\n19  2023-10   primary_care              67\n20  2023-11            eap               5\n21  2023-11  mental_health              18\n22  2023-11   primary_care              67\n23  2023-12            eap               5\n24  2023-12  mental_health               7\n25  2023-12   primary_care              76",
      "text/html": "<div>\n<style scoped>\n    .dataframe tbody tr th:only-of-type {\n        vertical-align: middle;\n    }\n\n    .dataframe tbody tr th {\n        vertical-align: top;\n    }\n\n    .dataframe thead th {\n        text-align: right;\n    }\n</style>\n<table border=\"1\" class=\"dataframe\">\n  <thead>\n    <tr style=\"text-align: right;\">\n      <th></th>\n      <th>month</th>\n      <th>PROGRAM</th>\n      <th>episodes_count</th>\n    </tr>\n  </thead>\n  <tbody>\n    <tr>\n      <th>0</th>\n      <td>2023-01</td>\n      <td>primary_care</td>\n      <td>1</td>\n    </tr>\n    <tr>\n      <th>1</th>\n      <td>2023-02</td>\n      <td>primary_care</td>\n      <td>1</td>\n    </tr>\n    <tr>\n      <th>2</th>\n      <td>2023-05</td>\n      <td>eap</td>\n      <td>21</td>\n    </tr>\n    <tr>\n      <th>3</th>\n      <td>2023-05</td>\n      <td>mental_health</td>\n      <td>27</td>\n    </tr>\n    <tr>\n      <th>4</th>\n      <td>2023-05</td>\n      <td>primary_care</td>\n      <td>110</td>\n    </tr>\n    <tr>\n      <th>5</th>\n      <td>2023-06</td>\n      <td>eap</td>\n      <td>7</td>\n    </tr>\n    <tr>\n      <th>6</th>\n      <td>2023-06</td>\n      <td>mental_health</td>\n      <td>19</td>\n    </tr>\n    <tr>\n      <th>7</th>\n      <td>2023-06</td>\n      <td>primary_care</td>\n      <td>63</td>\n    </tr>\n    <tr>\n      <th>8</th>\n      <td>2023-07</td>\n      <td>eap</td>\n      <td>9</td>\n    </tr>\n    <tr>\n      <th>9</th>\n      <td>2023-07</td>\n      <td>mental_health</td>\n      <td>9</td>\n    </tr>\n    <tr>\n      <th>10</th>\n      <td>2023-07</td>\n      <td>primary_care</td>\n      <td>60</td>\n    </tr>\n    <tr>\n      <th>11</th>\n      <td>2023-08</td>\n      <td>eap</td>\n      <td>10</td>\n    </tr>\n    <tr>\n      <th>12</th>\n      <td>2023-08</td>\n      <td>mental_health</td>\n      <td>5</td>\n    </tr>\n    <tr>\n      <th>13</th>\n      <td>2023-08</td>\n      <td>primary_care</td>\n      <td>61</td>\n    </tr>\n    <tr>\n      <th>14</th>\n      <td>2023-09</td>\n      <td>eap</td>\n      <td>2</td>\n    </tr>\n    <tr>\n      <th>15</th>\n      <td>2023-09</td>\n      <td>mental_health</td>\n      <td>12</td>\n    </tr>\n    <tr>\n      <th>16</th>\n      <td>2023-09</td>\n      <td>primary_care</td>\n      <td>44</td>\n    </tr>\n    <tr>\n      <th>17</th>\n      <td>2023-10</td>\n      <td>eap</td>\n      <td>8</td>\n    </tr>\n    <tr>\n      <th>18</th>\n      <td>2023-10</td>\n      <td>mental_health</td>\n      <td>15</td>\n    </tr>\n    <tr>\n      <th>19</th>\n      <td>2023-10</td>\n      <td>primary_care</td>\n      <td>67</td>\n    </tr>\n    <tr>\n      <th>20</th>\n      <td>2023-11</td>\n      <td>eap</td>\n      <td>5</td>\n    </tr>\n    <tr>\n      <th>21</th>\n      <td>2023-11</td>\n      <td>mental_health</td>\n      <td>18</td>\n    </tr>\n    <tr>\n      <th>22</th>\n      <td>2023-11</td>\n      <td>primary_care</td>\n      <td>67</td>\n    </tr>\n    <tr>\n      <th>23</th>\n      <td>2023-12</td>\n      <td>eap</td>\n      <td>5</td>\n    </tr>\n    <tr>\n      <th>24</th>\n      <td>2023-12</td>\n      <td>mental_health</td>\n      <td>7</td>\n    </tr>\n    <tr>\n      <th>25</th>\n      <td>2023-12</td>\n      <td>primary_care</td>\n      <td>76</td>\n    </tr>\n  </tbody>\n</table>\n</div>"
     },
     "metadata": {},
     "output_type": "display_data"
    }
   ],
   "source": [
    "query_changes_utilization_rate = \"\"\"\n",
    "SELECT\n",
    "  strftime('%Y-%m', EPISODE_CREATED_AT) AS month,\n",
    "  PROGRAM,\n",
    "  COUNT(EPISODE_ID) AS episodes_count\n",
    "FROM episodes\n",
    "WHERE organization_id = 4\n",
    "GROUP BY month, PROGRAM\n",
    "ORDER BY month, PROGRAM;\n",
    "\"\"\"\n",
    "\n",
    "df = pd.read_sql_query(query_changes_utilization_rate, conn)\n",
    "display(df)"
   ],
   "metadata": {
    "collapsed": false,
    "ExecuteTime": {
     "end_time": "2024-03-04T01:17:01.646839Z",
     "start_time": "2024-03-04T01:17:01.637913Z"
    }
   }
  },
  {
   "cell_type": "markdown",
   "source": [
    "Adjusting the query to create separate columns for each program type"
   ],
   "metadata": {
    "collapsed": false
   }
  },
  {
   "cell_type": "code",
   "execution_count": 35,
   "outputs": [
    {
     "data": {
      "text/plain": "     month  primary_care  eap  mental_health\n0  2023-01             1    0              0\n1  2023-02             1    0              0\n2  2023-05           110   21             27\n3  2023-06            63    7             19\n4  2023-07            60    9              9\n5  2023-08            61   10              5\n6  2023-09            44    2             12\n7  2023-10            67    8             15\n8  2023-11            67    5             18\n9  2023-12            76    5              7",
      "text/html": "<div>\n<style scoped>\n    .dataframe tbody tr th:only-of-type {\n        vertical-align: middle;\n    }\n\n    .dataframe tbody tr th {\n        vertical-align: top;\n    }\n\n    .dataframe thead th {\n        text-align: right;\n    }\n</style>\n<table border=\"1\" class=\"dataframe\">\n  <thead>\n    <tr style=\"text-align: right;\">\n      <th></th>\n      <th>month</th>\n      <th>primary_care</th>\n      <th>eap</th>\n      <th>mental_health</th>\n    </tr>\n  </thead>\n  <tbody>\n    <tr>\n      <th>0</th>\n      <td>2023-01</td>\n      <td>1</td>\n      <td>0</td>\n      <td>0</td>\n    </tr>\n    <tr>\n      <th>1</th>\n      <td>2023-02</td>\n      <td>1</td>\n      <td>0</td>\n      <td>0</td>\n    </tr>\n    <tr>\n      <th>2</th>\n      <td>2023-05</td>\n      <td>110</td>\n      <td>21</td>\n      <td>27</td>\n    </tr>\n    <tr>\n      <th>3</th>\n      <td>2023-06</td>\n      <td>63</td>\n      <td>7</td>\n      <td>19</td>\n    </tr>\n    <tr>\n      <th>4</th>\n      <td>2023-07</td>\n      <td>60</td>\n      <td>9</td>\n      <td>9</td>\n    </tr>\n    <tr>\n      <th>5</th>\n      <td>2023-08</td>\n      <td>61</td>\n      <td>10</td>\n      <td>5</td>\n    </tr>\n    <tr>\n      <th>6</th>\n      <td>2023-09</td>\n      <td>44</td>\n      <td>2</td>\n      <td>12</td>\n    </tr>\n    <tr>\n      <th>7</th>\n      <td>2023-10</td>\n      <td>67</td>\n      <td>8</td>\n      <td>15</td>\n    </tr>\n    <tr>\n      <th>8</th>\n      <td>2023-11</td>\n      <td>67</td>\n      <td>5</td>\n      <td>18</td>\n    </tr>\n    <tr>\n      <th>9</th>\n      <td>2023-12</td>\n      <td>76</td>\n      <td>5</td>\n      <td>7</td>\n    </tr>\n  </tbody>\n</table>\n</div>"
     },
     "metadata": {},
     "output_type": "display_data"
    }
   ],
   "source": [
    "query_changes_utilization_rate_pivot = \"\"\"\n",
    "SELECT\n",
    "  strftime('%Y-%m', EPISODE_CREATED_AT) AS month,\n",
    "  SUM(CASE WHEN PROGRAM = 'primary_care' THEN 1 ELSE 0 END) AS primary_care,\n",
    "  SUM(CASE WHEN PROGRAM = 'eap' THEN 1 ELSE 0 END) AS eap,\n",
    "  SUM(CASE WHEN PROGRAM = 'mental_health' THEN 1 ELSE 0 END) AS mental_health\n",
    "FROM episodes\n",
    "WHERE ORGANIZATION_ID = 4\n",
    "GROUP BY month\n",
    "ORDER BY month;\n",
    "\"\"\"\n",
    "\n",
    "df = pd.read_sql_query(query_changes_utilization_rate_pivot, conn)\n",
    "display(df)"
   ],
   "metadata": {
    "collapsed": false,
    "ExecuteTime": {
     "end_time": "2024-03-04T01:23:10.268363Z",
     "start_time": "2024-03-04T01:23:10.260005Z"
    }
   }
  },
  {
   "cell_type": "markdown",
   "source": [
    "## Financial Analysis"
   ],
   "metadata": {
    "collapsed": false
   }
  },
  {
   "cell_type": "markdown",
   "source": [
    "Monthly costs to serve per program type"
   ],
   "metadata": {
    "collapsed": false
   }
  },
  {
   "cell_type": "code",
   "execution_count": 46,
   "outputs": [
    {
     "data": {
      "text/plain": "     month  total_cost_primary_care  total_cost_eap  total_cost_mental_health  \\\n0  2023-01                    60.04            0.00                      0.00   \n1  2023-02                    62.90            0.00                      0.00   \n2  2023-05                  7179.70         2413.95                   7466.58   \n3  2023-06                  4261.32          931.14                   5548.19   \n4  2023-07                  3961.20         1144.71                   2809.44   \n5  2023-08                  3993.06         1321.00                   1505.25   \n6  2023-09                  2739.00          197.80                   2807.52   \n7  2023-10                  4014.64          679.68                   3097.50   \n8  2023-11                  3576.46          377.85                   4988.16   \n9  2023-12                  4138.96          736.25                   2706.27   \n\n   total_cost_to_serve  \n0                60.04  \n1                62.90  \n2             17060.23  \n3             10740.65  \n4              7915.35  \n5              6819.31  \n6              5744.32  \n7              7791.82  \n8              8942.47  \n9              7581.48  ",
      "text/html": "<div>\n<style scoped>\n    .dataframe tbody tr th:only-of-type {\n        vertical-align: middle;\n    }\n\n    .dataframe tbody tr th {\n        vertical-align: top;\n    }\n\n    .dataframe thead th {\n        text-align: right;\n    }\n</style>\n<table border=\"1\" class=\"dataframe\">\n  <thead>\n    <tr style=\"text-align: right;\">\n      <th></th>\n      <th>month</th>\n      <th>total_cost_primary_care</th>\n      <th>total_cost_eap</th>\n      <th>total_cost_mental_health</th>\n      <th>total_cost_to_serve</th>\n    </tr>\n  </thead>\n  <tbody>\n    <tr>\n      <th>0</th>\n      <td>2023-01</td>\n      <td>60.04</td>\n      <td>0.00</td>\n      <td>0.00</td>\n      <td>60.04</td>\n    </tr>\n    <tr>\n      <th>1</th>\n      <td>2023-02</td>\n      <td>62.90</td>\n      <td>0.00</td>\n      <td>0.00</td>\n      <td>62.90</td>\n    </tr>\n    <tr>\n      <th>2</th>\n      <td>2023-05</td>\n      <td>7179.70</td>\n      <td>2413.95</td>\n      <td>7466.58</td>\n      <td>17060.23</td>\n    </tr>\n    <tr>\n      <th>3</th>\n      <td>2023-06</td>\n      <td>4261.32</td>\n      <td>931.14</td>\n      <td>5548.19</td>\n      <td>10740.65</td>\n    </tr>\n    <tr>\n      <th>4</th>\n      <td>2023-07</td>\n      <td>3961.20</td>\n      <td>1144.71</td>\n      <td>2809.44</td>\n      <td>7915.35</td>\n    </tr>\n    <tr>\n      <th>5</th>\n      <td>2023-08</td>\n      <td>3993.06</td>\n      <td>1321.00</td>\n      <td>1505.25</td>\n      <td>6819.31</td>\n    </tr>\n    <tr>\n      <th>6</th>\n      <td>2023-09</td>\n      <td>2739.00</td>\n      <td>197.80</td>\n      <td>2807.52</td>\n      <td>5744.32</td>\n    </tr>\n    <tr>\n      <th>7</th>\n      <td>2023-10</td>\n      <td>4014.64</td>\n      <td>679.68</td>\n      <td>3097.50</td>\n      <td>7791.82</td>\n    </tr>\n    <tr>\n      <th>8</th>\n      <td>2023-11</td>\n      <td>3576.46</td>\n      <td>377.85</td>\n      <td>4988.16</td>\n      <td>8942.47</td>\n    </tr>\n    <tr>\n      <th>9</th>\n      <td>2023-12</td>\n      <td>4138.96</td>\n      <td>736.25</td>\n      <td>2706.27</td>\n      <td>7581.48</td>\n    </tr>\n  </tbody>\n</table>\n</div>"
     },
     "metadata": {},
     "output_type": "display_data"
    }
   ],
   "source": [
    "query_monthly_costs = \"\"\"\n",
    "WITH episodes_per_month AS (\n",
    "  SELECT\n",
    "    strftime('%Y-%m', EPISODE_CREATED_AT) AS month,\n",
    "    SUM(CASE WHEN PROGRAM = 'primary_care' THEN 1 ELSE 0 END) AS primary_care_episodes,\n",
    "    SUM(CASE WHEN PROGRAM = 'eap' THEN 1 ELSE 0 END) AS eap_episodes,\n",
    "    SUM(CASE WHEN PROGRAM = 'mental_health' THEN 1 ELSE 0 END) AS mental_health_episodes\n",
    "  FROM episodes\n",
    "  WHERE ORGANIZATION_ID = 4\n",
    "  GROUP BY month\n",
    ")\n",
    "SELECT\n",
    "   e.month,\n",
    "  (e.primary_care_episodes * c.cost_to_serve_primary_care) AS total_cost_primary_care,\n",
    "  (e.eap_episodes * c.cost_to_serve_eap) AS total_cost_eap,\n",
    "  (e.mental_health_episodes * c.cost_to_serve_mental_health) AS total_cost_mental_health,\n",
    "  (e.primary_care_episodes * c.cost_to_serve_primary_care) +\n",
    "  (e.eap_episodes * c.cost_to_serve_eap) +\n",
    "  (e.mental_health_episodes * c.cost_to_serve_mental_health) AS total_cost_to_serve\n",
    "FROM episodes_per_month e\n",
    "INNER JOIN cost_to_serve_monthly c ON e.month = strftime('%Y-%m', c.date_month)\n",
    "ORDER BY e.month;\n",
    "\"\"\"\n",
    "\n",
    "df = pd.read_sql_query(query_monthly_costs, conn)\n",
    "display(df)"
   ],
   "metadata": {
    "collapsed": false,
    "ExecuteTime": {
     "end_time": "2024-03-04T01:51:32.611340Z",
     "start_time": "2024-03-04T01:51:32.601791Z"
    }
   }
  }
 ],
 "metadata": {
  "kernelspec": {
   "display_name": "Python 3",
   "language": "python",
   "name": "python3"
  },
  "language_info": {
   "codemirror_mode": {
    "name": "ipython",
    "version": 2
   },
   "file_extension": ".py",
   "mimetype": "text/x-python",
   "name": "python",
   "nbconvert_exporter": "python",
   "pygments_lexer": "ipython2",
   "version": "2.7.6"
  }
 },
 "nbformat": 4,
 "nbformat_minor": 0
}
