{
 "cells": [
  {
   "cell_type": "code",
   "execution_count": 2,
   "outputs": [],
   "source": [
    "import pandas as pd\n",
    "import sqlite3"
   ],
   "metadata": {
    "collapsed": false,
    "ExecuteTime": {
     "end_time": "2024-03-04T05:43:05.933901Z",
     "start_time": "2024-03-04T05:43:05.931042Z"
    }
   }
  },
  {
   "cell_type": "code",
   "execution_count": 3,
   "outputs": [],
   "source": [
    "conn = sqlite3.connect('dialogue_analysis.db')"
   ],
   "metadata": {
    "collapsed": false,
    "ExecuteTime": {
     "end_time": "2024-03-04T05:43:06.662316Z",
     "start_time": "2024-03-04T05:43:06.658930Z"
    }
   }
  },
  {
   "cell_type": "code",
   "execution_count": 4,
   "outputs": [],
   "source": [
    "episodes_df = pd.read_csv('Sample Data/episodes.csv')\n",
    "organizations_monthly_df = pd.read_csv('Sample Data/organizations_monthly.csv')\n",
    "cost_to_serve_monthly_df = pd.read_csv('Sample Data/cost_to_serve_monthly.csv')"
   ],
   "metadata": {
    "collapsed": false,
    "ExecuteTime": {
     "end_time": "2024-03-04T05:43:08.139074Z",
     "start_time": "2024-03-04T05:43:08.125521Z"
    }
   }
  },
  {
   "cell_type": "code",
   "execution_count": 5,
   "outputs": [
    {
     "data": {
      "text/plain": "12"
     },
     "execution_count": 5,
     "metadata": {},
     "output_type": "execute_result"
    }
   ],
   "source": [
    "episodes_df.to_sql('episodes', conn, if_exists='replace', index=False)\n",
    "organizations_monthly_df.to_sql('organizations_monthly', conn, if_exists='replace', index=False)\n",
    "cost_to_serve_monthly_df.to_sql('cost_to_serve_monthly', conn, if_exists='replace', index=False)"
   ],
   "metadata": {
    "collapsed": false,
    "ExecuteTime": {
     "end_time": "2024-03-04T05:43:08.897633Z",
     "start_time": "2024-03-04T05:43:08.859358Z"
    }
   }
  },
  {
   "cell_type": "markdown",
   "source": [
    "## Utilization Analysis"
   ],
   "metadata": {
    "collapsed": false
   }
  },
  {
   "cell_type": "markdown",
   "source": [
    "Previewing Tables"
   ],
   "metadata": {
    "collapsed": false
   }
  },
  {
   "cell_type": "code",
   "execution_count": 6,
   "outputs": [
    {
     "name": "stdout",
     "output_type": "stream",
     "text": [
      "Episodes Preview:\n"
     ]
    },
    {
     "data": {
      "text/plain": "                                 EPISODE_ID  ORGANIZATION_ID  \\\n0  d0d178b23004534a5ff6723959785ba20ce1971d                5   \n1  ea85cffb681a06788b364d9ce49b61649f8688a5                5   \n2  7624c12a4ef8847e1951c0918d7193a9c3326dc1                5   \n3  9d994173c5775829c6b6badd898972522f038794                5   \n4  6be180209d276715e9256a78e8a73b13fe6a460d                2   \n\n         EPISODE_CREATED_AT       PROGRAM            OUTCOME  \n0  2023-04-10T12:31:41.107Z  primary_care      walkin_clinic  \n1  2023-05-26T12:19:44.878Z  primary_care      walkin_clinic  \n2  2023-06-02T11:22:07.744Z  primary_care  md_np_appointment  \n3  2023-11-24T14:00:17.658Z  primary_care       mhs_coaching  \n4  2023-02-25T12:20:49.917Z  primary_care  md_np_appointment  ",
      "text/html": "<div>\n<style scoped>\n    .dataframe tbody tr th:only-of-type {\n        vertical-align: middle;\n    }\n\n    .dataframe tbody tr th {\n        vertical-align: top;\n    }\n\n    .dataframe thead th {\n        text-align: right;\n    }\n</style>\n<table border=\"1\" class=\"dataframe\">\n  <thead>\n    <tr style=\"text-align: right;\">\n      <th></th>\n      <th>EPISODE_ID</th>\n      <th>ORGANIZATION_ID</th>\n      <th>EPISODE_CREATED_AT</th>\n      <th>PROGRAM</th>\n      <th>OUTCOME</th>\n    </tr>\n  </thead>\n  <tbody>\n    <tr>\n      <th>0</th>\n      <td>d0d178b23004534a5ff6723959785ba20ce1971d</td>\n      <td>5</td>\n      <td>2023-04-10T12:31:41.107Z</td>\n      <td>primary_care</td>\n      <td>walkin_clinic</td>\n    </tr>\n    <tr>\n      <th>1</th>\n      <td>ea85cffb681a06788b364d9ce49b61649f8688a5</td>\n      <td>5</td>\n      <td>2023-05-26T12:19:44.878Z</td>\n      <td>primary_care</td>\n      <td>walkin_clinic</td>\n    </tr>\n    <tr>\n      <th>2</th>\n      <td>7624c12a4ef8847e1951c0918d7193a9c3326dc1</td>\n      <td>5</td>\n      <td>2023-06-02T11:22:07.744Z</td>\n      <td>primary_care</td>\n      <td>md_np_appointment</td>\n    </tr>\n    <tr>\n      <th>3</th>\n      <td>9d994173c5775829c6b6badd898972522f038794</td>\n      <td>5</td>\n      <td>2023-11-24T14:00:17.658Z</td>\n      <td>primary_care</td>\n      <td>mhs_coaching</td>\n    </tr>\n    <tr>\n      <th>4</th>\n      <td>6be180209d276715e9256a78e8a73b13fe6a460d</td>\n      <td>2</td>\n      <td>2023-02-25T12:20:49.917Z</td>\n      <td>primary_care</td>\n      <td>md_np_appointment</td>\n    </tr>\n  </tbody>\n</table>\n</div>"
     },
     "metadata": {},
     "output_type": "display_data"
    },
    {
     "name": "stdout",
     "output_type": "stream",
     "text": [
      "\n",
      "Organizations Monthly Preview:\n"
     ]
    },
    {
     "data": {
      "text/plain": "             DATE_MONTH  ORGANIZATION_ID  ELIGIBLE_MEMBERS   PEPM  \\\n0  2023-10-01T00:00:00Z                6               185   7.47   \n1  2023-06-01T00:00:00Z                6               219   7.47   \n2  2023-01-01T00:00:00Z                1               268  15.71   \n3  2023-03-01T00:00:00Z                1               272  15.71   \n4  2023-09-01T00:00:00Z                4              1436  14.21   \n\n  HAS_PRIMARY_CARE_SINCE    HAS_MENTAL_HEALTH_SINCE  \\\n0   2000-01-01T00:00:00Z                       None   \n1   2000-01-01T00:00:00Z                       None   \n2   2000-01-01T00:00:00Z  2021-01-19T22:58:24.2361Z   \n3   2000-01-01T00:00:00Z  2021-01-19T22:58:24.2361Z   \n4   2000-01-01T00:00:00Z  2021-06-01T12:15:33.8532Z   \n\n                HAS_EAP_SINCE  \n0                        None  \n1                        None  \n2   2021-11-01T16:05:28.0127Z  \n3   2021-11-01T16:05:28.0127Z  \n4  2023-04-05T21:32:35.77486Z  ",
      "text/html": "<div>\n<style scoped>\n    .dataframe tbody tr th:only-of-type {\n        vertical-align: middle;\n    }\n\n    .dataframe tbody tr th {\n        vertical-align: top;\n    }\n\n    .dataframe thead th {\n        text-align: right;\n    }\n</style>\n<table border=\"1\" class=\"dataframe\">\n  <thead>\n    <tr style=\"text-align: right;\">\n      <th></th>\n      <th>DATE_MONTH</th>\n      <th>ORGANIZATION_ID</th>\n      <th>ELIGIBLE_MEMBERS</th>\n      <th>PEPM</th>\n      <th>HAS_PRIMARY_CARE_SINCE</th>\n      <th>HAS_MENTAL_HEALTH_SINCE</th>\n      <th>HAS_EAP_SINCE</th>\n    </tr>\n  </thead>\n  <tbody>\n    <tr>\n      <th>0</th>\n      <td>2023-10-01T00:00:00Z</td>\n      <td>6</td>\n      <td>185</td>\n      <td>7.47</td>\n      <td>2000-01-01T00:00:00Z</td>\n      <td>None</td>\n      <td>None</td>\n    </tr>\n    <tr>\n      <th>1</th>\n      <td>2023-06-01T00:00:00Z</td>\n      <td>6</td>\n      <td>219</td>\n      <td>7.47</td>\n      <td>2000-01-01T00:00:00Z</td>\n      <td>None</td>\n      <td>None</td>\n    </tr>\n    <tr>\n      <th>2</th>\n      <td>2023-01-01T00:00:00Z</td>\n      <td>1</td>\n      <td>268</td>\n      <td>15.71</td>\n      <td>2000-01-01T00:00:00Z</td>\n      <td>2021-01-19T22:58:24.2361Z</td>\n      <td>2021-11-01T16:05:28.0127Z</td>\n    </tr>\n    <tr>\n      <th>3</th>\n      <td>2023-03-01T00:00:00Z</td>\n      <td>1</td>\n      <td>272</td>\n      <td>15.71</td>\n      <td>2000-01-01T00:00:00Z</td>\n      <td>2021-01-19T22:58:24.2361Z</td>\n      <td>2021-11-01T16:05:28.0127Z</td>\n    </tr>\n    <tr>\n      <th>4</th>\n      <td>2023-09-01T00:00:00Z</td>\n      <td>4</td>\n      <td>1436</td>\n      <td>14.21</td>\n      <td>2000-01-01T00:00:00Z</td>\n      <td>2021-06-01T12:15:33.8532Z</td>\n      <td>2023-04-05T21:32:35.77486Z</td>\n    </tr>\n  </tbody>\n</table>\n</div>"
     },
     "metadata": {},
     "output_type": "display_data"
    },
    {
     "name": "stdout",
     "output_type": "stream",
     "text": [
      "\n",
      "Cost to Serve Monthly Preview:\n"
     ]
    },
    {
     "data": {
      "text/plain": "   DATE_MONTH  COST_TO_SERVE_PRIMARY_CARE  COST_TO_SERVE_MENTAL_HEALTH  \\\n0  2023-01-01                       60.04                       334.29   \n1  2023-02-01                       62.90                       312.29   \n2  2023-03-01                       62.96                       298.27   \n3  2023-04-01                       63.77                       320.80   \n4  2023-05-01                       65.27                       276.54   \n\n   COST_TO_SERVE_EAP  \n0             112.27  \n1             111.19  \n2             119.29  \n3             120.93  \n4             114.95  ",
      "text/html": "<div>\n<style scoped>\n    .dataframe tbody tr th:only-of-type {\n        vertical-align: middle;\n    }\n\n    .dataframe tbody tr th {\n        vertical-align: top;\n    }\n\n    .dataframe thead th {\n        text-align: right;\n    }\n</style>\n<table border=\"1\" class=\"dataframe\">\n  <thead>\n    <tr style=\"text-align: right;\">\n      <th></th>\n      <th>DATE_MONTH</th>\n      <th>COST_TO_SERVE_PRIMARY_CARE</th>\n      <th>COST_TO_SERVE_MENTAL_HEALTH</th>\n      <th>COST_TO_SERVE_EAP</th>\n    </tr>\n  </thead>\n  <tbody>\n    <tr>\n      <th>0</th>\n      <td>2023-01-01</td>\n      <td>60.04</td>\n      <td>334.29</td>\n      <td>112.27</td>\n    </tr>\n    <tr>\n      <th>1</th>\n      <td>2023-02-01</td>\n      <td>62.90</td>\n      <td>312.29</td>\n      <td>111.19</td>\n    </tr>\n    <tr>\n      <th>2</th>\n      <td>2023-03-01</td>\n      <td>62.96</td>\n      <td>298.27</td>\n      <td>119.29</td>\n    </tr>\n    <tr>\n      <th>3</th>\n      <td>2023-04-01</td>\n      <td>63.77</td>\n      <td>320.80</td>\n      <td>120.93</td>\n    </tr>\n    <tr>\n      <th>4</th>\n      <td>2023-05-01</td>\n      <td>65.27</td>\n      <td>276.54</td>\n      <td>114.95</td>\n    </tr>\n  </tbody>\n</table>\n</div>"
     },
     "metadata": {},
     "output_type": "display_data"
    }
   ],
   "source": [
    "# episodes table\n",
    "episodes_preview = pd.read_sql_query(\"SELECT * FROM episodes LIMIT 5;\", conn)\n",
    "print(\"Episodes Preview:\")\n",
    "display(episodes_preview)\n",
    "\n",
    "# organizations_monthly table\n",
    "org_monthly_preview = pd.read_sql_query(\"SELECT * FROM organizations_monthly LIMIT 5;\", conn)\n",
    "print(\"\\nOrganizations Monthly Preview:\")\n",
    "display(org_monthly_preview)\n",
    "\n",
    "# cost_to_serve_monthly table\n",
    "cost_serve_monthly_preview = pd.read_sql_query(\"SELECT * FROM cost_to_serve_monthly LIMIT 5;\", conn)\n",
    "print(\"\\nCost to Serve Monthly Preview:\")\n",
    "display(cost_serve_monthly_preview)"
   ],
   "metadata": {
    "collapsed": false,
    "ExecuteTime": {
     "end_time": "2024-03-04T05:43:10.830062Z",
     "start_time": "2024-03-04T05:43:10.790069Z"
    }
   }
  },
  {
   "cell_type": "markdown",
   "source": [
    "Number of episodes by category for the year 2023: According to the result. EAP was used 67 times, there were 112 mental health consultations and 550 consultations for primary care"
   ],
   "metadata": {
    "collapsed": false
   }
  },
  {
   "cell_type": "code",
   "execution_count": 7,
   "outputs": [
    {
     "data": {
      "text/plain": "         PROGRAM  EPISODES_COUNT\n0            eap              67\n1  mental_health             112\n2   primary_care             550",
      "text/html": "<div>\n<style scoped>\n    .dataframe tbody tr th:only-of-type {\n        vertical-align: middle;\n    }\n\n    .dataframe tbody tr th {\n        vertical-align: top;\n    }\n\n    .dataframe thead th {\n        text-align: right;\n    }\n</style>\n<table border=\"1\" class=\"dataframe\">\n  <thead>\n    <tr style=\"text-align: right;\">\n      <th></th>\n      <th>PROGRAM</th>\n      <th>EPISODES_COUNT</th>\n    </tr>\n  </thead>\n  <tbody>\n    <tr>\n      <th>0</th>\n      <td>eap</td>\n      <td>67</td>\n    </tr>\n    <tr>\n      <th>1</th>\n      <td>mental_health</td>\n      <td>112</td>\n    </tr>\n    <tr>\n      <th>2</th>\n      <td>primary_care</td>\n      <td>550</td>\n    </tr>\n  </tbody>\n</table>\n</div>"
     },
     "metadata": {},
     "output_type": "display_data"
    }
   ],
   "source": [
    "query = \"\"\"\n",
    "SELECT PROGRAM, COUNT(*) AS EPISODES_COUNT\n",
    "FROM episodes\n",
    "WHERE ORGANIZATION_ID = 4\n",
    "GROUP BY PROGRAM;\n",
    "\"\"\"\n",
    "df = pd.read_sql_query(query, conn)\n",
    "display(df)"
   ],
   "metadata": {
    "collapsed": false,
    "ExecuteTime": {
     "end_time": "2024-03-04T05:43:12.232144Z",
     "start_time": "2024-03-04T05:43:12.216841Z"
    }
   }
  },
  {
   "cell_type": "markdown",
   "source": [
    "Episodes opened by month. The following table represents the user engagement during the different months."
   ],
   "metadata": {
    "collapsed": false
   }
  },
  {
   "cell_type": "code",
   "execution_count": 8,
   "outputs": [
    {
     "data": {
      "text/plain": "     month  episodes_opened\n0  2023-01                1\n1  2023-02                1\n2  2023-05              158\n3  2023-06               89\n4  2023-07               78\n5  2023-08               76\n6  2023-09               58\n7  2023-10               90\n8  2023-11               90\n9  2023-12               88",
      "text/html": "<div>\n<style scoped>\n    .dataframe tbody tr th:only-of-type {\n        vertical-align: middle;\n    }\n\n    .dataframe tbody tr th {\n        vertical-align: top;\n    }\n\n    .dataframe thead th {\n        text-align: right;\n    }\n</style>\n<table border=\"1\" class=\"dataframe\">\n  <thead>\n    <tr style=\"text-align: right;\">\n      <th></th>\n      <th>month</th>\n      <th>episodes_opened</th>\n    </tr>\n  </thead>\n  <tbody>\n    <tr>\n      <th>0</th>\n      <td>2023-01</td>\n      <td>1</td>\n    </tr>\n    <tr>\n      <th>1</th>\n      <td>2023-02</td>\n      <td>1</td>\n    </tr>\n    <tr>\n      <th>2</th>\n      <td>2023-05</td>\n      <td>158</td>\n    </tr>\n    <tr>\n      <th>3</th>\n      <td>2023-06</td>\n      <td>89</td>\n    </tr>\n    <tr>\n      <th>4</th>\n      <td>2023-07</td>\n      <td>78</td>\n    </tr>\n    <tr>\n      <th>5</th>\n      <td>2023-08</td>\n      <td>76</td>\n    </tr>\n    <tr>\n      <th>6</th>\n      <td>2023-09</td>\n      <td>58</td>\n    </tr>\n    <tr>\n      <th>7</th>\n      <td>2023-10</td>\n      <td>90</td>\n    </tr>\n    <tr>\n      <th>8</th>\n      <td>2023-11</td>\n      <td>90</td>\n    </tr>\n    <tr>\n      <th>9</th>\n      <td>2023-12</td>\n      <td>88</td>\n    </tr>\n  </tbody>\n</table>\n</div>"
     },
     "metadata": {},
     "output_type": "display_data"
    }
   ],
   "source": [
    "query_monthly_episodes = \"\"\"\n",
    "SELECT\n",
    "  strftime('%Y-%m', EPISODE_CREATED_AT) AS month,\n",
    "  COUNT(EPISODE_ID) AS episodes_opened\n",
    "FROM episodes\n",
    "WHERE organization_id = 4\n",
    "GROUP BY month\n",
    "ORDER BY month;\n",
    "\"\"\"\n",
    "\n",
    "df = pd.read_sql_query(query_monthly_episodes, conn)\n",
    "display(df)"
   ],
   "metadata": {
    "collapsed": false,
    "ExecuteTime": {
     "end_time": "2024-03-04T05:43:14.023618Z",
     "start_time": "2024-03-04T05:43:13.963811Z"
    }
   }
  },
  {
   "cell_type": "markdown",
   "source": [
    "Eligible members per month. From the month of May there is a spike in user eligibility and the number of users slowly increase until it reaches 1500 users by the end of the year"
   ],
   "metadata": {
    "collapsed": false
   }
  },
  {
   "cell_type": "code",
   "execution_count": 9,
   "outputs": [
    {
     "data": {
      "text/plain": "      month  ELIGIBLE_MEMBERS\n0   2023-01                59\n1   2023-02                43\n2   2023-03                42\n3   2023-04                43\n4   2023-05              1478\n5   2023-06              1466\n6   2023-07              1453\n7   2023-08              1429\n8   2023-09              1436\n9   2023-10              1497\n10  2023-11              1500\n11  2023-12              1528",
      "text/html": "<div>\n<style scoped>\n    .dataframe tbody tr th:only-of-type {\n        vertical-align: middle;\n    }\n\n    .dataframe tbody tr th {\n        vertical-align: top;\n    }\n\n    .dataframe thead th {\n        text-align: right;\n    }\n</style>\n<table border=\"1\" class=\"dataframe\">\n  <thead>\n    <tr style=\"text-align: right;\">\n      <th></th>\n      <th>month</th>\n      <th>ELIGIBLE_MEMBERS</th>\n    </tr>\n  </thead>\n  <tbody>\n    <tr>\n      <th>0</th>\n      <td>2023-01</td>\n      <td>59</td>\n    </tr>\n    <tr>\n      <th>1</th>\n      <td>2023-02</td>\n      <td>43</td>\n    </tr>\n    <tr>\n      <th>2</th>\n      <td>2023-03</td>\n      <td>42</td>\n    </tr>\n    <tr>\n      <th>3</th>\n      <td>2023-04</td>\n      <td>43</td>\n    </tr>\n    <tr>\n      <th>4</th>\n      <td>2023-05</td>\n      <td>1478</td>\n    </tr>\n    <tr>\n      <th>5</th>\n      <td>2023-06</td>\n      <td>1466</td>\n    </tr>\n    <tr>\n      <th>6</th>\n      <td>2023-07</td>\n      <td>1453</td>\n    </tr>\n    <tr>\n      <th>7</th>\n      <td>2023-08</td>\n      <td>1429</td>\n    </tr>\n    <tr>\n      <th>8</th>\n      <td>2023-09</td>\n      <td>1436</td>\n    </tr>\n    <tr>\n      <th>9</th>\n      <td>2023-10</td>\n      <td>1497</td>\n    </tr>\n    <tr>\n      <th>10</th>\n      <td>2023-11</td>\n      <td>1500</td>\n    </tr>\n    <tr>\n      <th>11</th>\n      <td>2023-12</td>\n      <td>1528</td>\n    </tr>\n  </tbody>\n</table>\n</div>"
     },
     "metadata": {},
     "output_type": "display_data"
    }
   ],
   "source": [
    "query_monthly_members = \"\"\"\n",
    "SELECT\n",
    "  strftime('%Y-%m', date_month) AS month,\n",
    "  eligible_members\n",
    "FROM organizations_monthly\n",
    "WHERE organization_id = 4\n",
    "GROUP BY month\n",
    "ORDER BY month;\n",
    "\"\"\"\n",
    "\n",
    "df = pd.read_sql_query(query_monthly_members, conn)\n",
    "display(df)"
   ],
   "metadata": {
    "collapsed": false,
    "ExecuteTime": {
     "end_time": "2024-03-04T05:43:15.211469Z",
     "start_time": "2024-03-04T05:43:15.186395Z"
    }
   }
  },
  {
   "cell_type": "markdown",
   "source": [
    "Combining queries in order to obtain member's utilization rate. The utilization rate spikes when there is an increase in user eligibility which happens in May 2023."
   ],
   "metadata": {
    "collapsed": false
   }
  },
  {
   "cell_type": "code",
   "execution_count": 10,
   "outputs": [
    {
     "data": {
      "text/plain": "     month  episodes_opened  eligible_members  utilization_rate_percentage\n0  2023-01                1                59                         1.69\n1  2023-02                1                43                         2.33\n2  2023-05              158              1478                        10.69\n3  2023-06               89              1466                         6.07\n4  2023-07               78              1453                         5.37\n5  2023-08               76              1429                         5.32\n6  2023-09               58              1436                         4.04\n7  2023-10               90              1497                         6.01\n8  2023-11               90              1500                         6.00\n9  2023-12               88              1528                         5.76",
      "text/html": "<div>\n<style scoped>\n    .dataframe tbody tr th:only-of-type {\n        vertical-align: middle;\n    }\n\n    .dataframe tbody tr th {\n        vertical-align: top;\n    }\n\n    .dataframe thead th {\n        text-align: right;\n    }\n</style>\n<table border=\"1\" class=\"dataframe\">\n  <thead>\n    <tr style=\"text-align: right;\">\n      <th></th>\n      <th>month</th>\n      <th>episodes_opened</th>\n      <th>eligible_members</th>\n      <th>utilization_rate_percentage</th>\n    </tr>\n  </thead>\n  <tbody>\n    <tr>\n      <th>0</th>\n      <td>2023-01</td>\n      <td>1</td>\n      <td>59</td>\n      <td>1.69</td>\n    </tr>\n    <tr>\n      <th>1</th>\n      <td>2023-02</td>\n      <td>1</td>\n      <td>43</td>\n      <td>2.33</td>\n    </tr>\n    <tr>\n      <th>2</th>\n      <td>2023-05</td>\n      <td>158</td>\n      <td>1478</td>\n      <td>10.69</td>\n    </tr>\n    <tr>\n      <th>3</th>\n      <td>2023-06</td>\n      <td>89</td>\n      <td>1466</td>\n      <td>6.07</td>\n    </tr>\n    <tr>\n      <th>4</th>\n      <td>2023-07</td>\n      <td>78</td>\n      <td>1453</td>\n      <td>5.37</td>\n    </tr>\n    <tr>\n      <th>5</th>\n      <td>2023-08</td>\n      <td>76</td>\n      <td>1429</td>\n      <td>5.32</td>\n    </tr>\n    <tr>\n      <th>6</th>\n      <td>2023-09</td>\n      <td>58</td>\n      <td>1436</td>\n      <td>4.04</td>\n    </tr>\n    <tr>\n      <th>7</th>\n      <td>2023-10</td>\n      <td>90</td>\n      <td>1497</td>\n      <td>6.01</td>\n    </tr>\n    <tr>\n      <th>8</th>\n      <td>2023-11</td>\n      <td>90</td>\n      <td>1500</td>\n      <td>6.00</td>\n    </tr>\n    <tr>\n      <th>9</th>\n      <td>2023-12</td>\n      <td>88</td>\n      <td>1528</td>\n      <td>5.76</td>\n    </tr>\n  </tbody>\n</table>\n</div>"
     },
     "metadata": {},
     "output_type": "display_data"
    }
   ],
   "source": [
    "query_utilization_rate = \"\"\"\n",
    "WITH monthly_episodes AS (\n",
    "  SELECT\n",
    "    strftime('%Y-%m', EPISODE_CREATED_AT) AS month,\n",
    "    COUNT(EPISODE_ID) AS episodes_opened\n",
    "  FROM episodes\n",
    "  WHERE organization_id = 4\n",
    "  GROUP BY month\n",
    "),\n",
    "monthly_members AS (\n",
    "  SELECT\n",
    "    strftime('%Y-%m', date_month) AS month,\n",
    "    eligible_members\n",
    "  FROM organizations_monthly\n",
    "  WHERE organization_id = 4\n",
    "  GROUP BY month\n",
    ")\n",
    "SELECT\n",
    "  me.month,\n",
    "  me.episodes_opened,\n",
    "  mm.eligible_members,\n",
    "  ROUND(((me.episodes_opened * 1.0/ mm.eligible_members) * 100), 2) AS utilization_rate_percentage\n",
    "FROM monthly_episodes me\n",
    "JOIN monthly_members mm ON me.month = mm.month\n",
    "ORDER BY me.month;\n",
    "\"\"\"\n",
    "\n",
    "df = pd.read_sql_query(query_utilization_rate, conn)\n",
    "display(df)"
   ],
   "metadata": {
    "collapsed": false,
    "ExecuteTime": {
     "end_time": "2024-03-04T05:43:16.348227Z",
     "start_time": "2024-03-04T05:43:16.324229Z"
    }
   }
  },
  {
   "cell_type": "markdown",
   "source": [
    "Trends in utilization.\n",
    "- The spike in user eligibility in May increases the rates of the service utilization.\n",
    "- After the month of May, the rates decrease and only increase by 1.97% in October."
   ],
   "metadata": {
    "collapsed": false
   }
  },
  {
   "cell_type": "code",
   "execution_count": 11,
   "outputs": [
    {
     "data": {
      "text/plain": "     month  utilization_rate_percentage  mom_change     trend\n0  2023-01                         1.69         NaN    Stable\n1  2023-02                         2.33        0.64  Increase\n2  2023-05                        10.69        8.36  Increase\n3  2023-06                         6.07       -4.62  Decrease\n4  2023-07                         5.37       -0.70  Decrease\n5  2023-08                         5.32       -0.05  Decrease\n6  2023-09                         4.04       -1.28  Decrease\n7  2023-10                         6.01        1.97  Increase\n8  2023-11                         6.00       -0.01  Decrease\n9  2023-12                         5.76       -0.24  Decrease",
      "text/html": "<div>\n<style scoped>\n    .dataframe tbody tr th:only-of-type {\n        vertical-align: middle;\n    }\n\n    .dataframe tbody tr th {\n        vertical-align: top;\n    }\n\n    .dataframe thead th {\n        text-align: right;\n    }\n</style>\n<table border=\"1\" class=\"dataframe\">\n  <thead>\n    <tr style=\"text-align: right;\">\n      <th></th>\n      <th>month</th>\n      <th>utilization_rate_percentage</th>\n      <th>mom_change</th>\n      <th>trend</th>\n    </tr>\n  </thead>\n  <tbody>\n    <tr>\n      <th>0</th>\n      <td>2023-01</td>\n      <td>1.69</td>\n      <td>NaN</td>\n      <td>Stable</td>\n    </tr>\n    <tr>\n      <th>1</th>\n      <td>2023-02</td>\n      <td>2.33</td>\n      <td>0.64</td>\n      <td>Increase</td>\n    </tr>\n    <tr>\n      <th>2</th>\n      <td>2023-05</td>\n      <td>10.69</td>\n      <td>8.36</td>\n      <td>Increase</td>\n    </tr>\n    <tr>\n      <th>3</th>\n      <td>2023-06</td>\n      <td>6.07</td>\n      <td>-4.62</td>\n      <td>Decrease</td>\n    </tr>\n    <tr>\n      <th>4</th>\n      <td>2023-07</td>\n      <td>5.37</td>\n      <td>-0.70</td>\n      <td>Decrease</td>\n    </tr>\n    <tr>\n      <th>5</th>\n      <td>2023-08</td>\n      <td>5.32</td>\n      <td>-0.05</td>\n      <td>Decrease</td>\n    </tr>\n    <tr>\n      <th>6</th>\n      <td>2023-09</td>\n      <td>4.04</td>\n      <td>-1.28</td>\n      <td>Decrease</td>\n    </tr>\n    <tr>\n      <th>7</th>\n      <td>2023-10</td>\n      <td>6.01</td>\n      <td>1.97</td>\n      <td>Increase</td>\n    </tr>\n    <tr>\n      <th>8</th>\n      <td>2023-11</td>\n      <td>6.00</td>\n      <td>-0.01</td>\n      <td>Decrease</td>\n    </tr>\n    <tr>\n      <th>9</th>\n      <td>2023-12</td>\n      <td>5.76</td>\n      <td>-0.24</td>\n      <td>Decrease</td>\n    </tr>\n  </tbody>\n</table>\n</div>"
     },
     "metadata": {},
     "output_type": "display_data"
    }
   ],
   "source": [
    "query_utilization_trends = \"\"\"\n",
    "WITH monthly_episodes AS (\n",
    "  SELECT\n",
    "    strftime('%Y-%m', EPISODE_CREATED_AT) AS month,\n",
    "    COUNT(EPISODE_ID) AS episodes_opened\n",
    "  FROM episodes\n",
    "  WHERE ORGANIZATION_ID = 4\n",
    "  GROUP BY month\n",
    "),\n",
    "monthly_members AS (\n",
    "  SELECT\n",
    "    strftime('%Y-%m', date_month) AS month,\n",
    "    eligible_members\n",
    "  FROM organizations_monthly\n",
    "  WHERE ORGANIZATION_ID = 4\n",
    "  GROUP BY month\n",
    "),\n",
    "utilization_rates AS (\n",
    "  SELECT\n",
    "    me.month,\n",
    "    me.episodes_opened,\n",
    "    mm.eligible_members,\n",
    "    ROUND(((me.episodes_opened * 1.0 / mm.eligible_members) * 100), 2) AS utilization_rate_percentage\n",
    "  FROM monthly_episodes me\n",
    "  JOIN monthly_members mm ON me.month = mm.month\n",
    "),\n",
    "utilization_trends AS (\n",
    "  SELECT\n",
    "    month,\n",
    "    utilization_rate_percentage,\n",
    "    utilization_rate_percentage - LAG(utilization_rate_percentage) OVER (ORDER BY month) AS mom_change\n",
    "  FROM utilization_rates\n",
    ")\n",
    "SELECT\n",
    "  month,\n",
    "  utilization_rate_percentage,\n",
    "  mom_change,\n",
    "  CASE\n",
    "    WHEN mom_change > 0 THEN 'Increase'\n",
    "    WHEN mom_change < 0 THEN 'Decrease'\n",
    "    ELSE 'Stable'\n",
    "  END AS trend\n",
    "FROM utilization_trends\n",
    "ORDER BY month;\n",
    "\"\"\"\n",
    "\n",
    "df = pd.read_sql_query(query_utilization_trends, conn)\n",
    "display(df)"
   ],
   "metadata": {
    "collapsed": false,
    "ExecuteTime": {
     "end_time": "2024-03-04T05:43:17.378239Z",
     "start_time": "2024-03-04T05:43:17.351558Z"
    }
   }
  },
  {
   "cell_type": "markdown",
   "source": [
    "Episodes by program type per month. When the rates of utilization increase, the program that is used the most is primary care"
   ],
   "metadata": {
    "collapsed": false
   }
  },
  {
   "cell_type": "code",
   "execution_count": 12,
   "outputs": [
    {
     "data": {
      "text/plain": "      month        PROGRAM  episodes_count\n0   2023-01   primary_care               1\n1   2023-02   primary_care               1\n2   2023-05            eap              21\n3   2023-05  mental_health              27\n4   2023-05   primary_care             110\n5   2023-06            eap               7\n6   2023-06  mental_health              19\n7   2023-06   primary_care              63\n8   2023-07            eap               9\n9   2023-07  mental_health               9\n10  2023-07   primary_care              60\n11  2023-08            eap              10\n12  2023-08  mental_health               5\n13  2023-08   primary_care              61\n14  2023-09            eap               2\n15  2023-09  mental_health              12\n16  2023-09   primary_care              44\n17  2023-10            eap               8\n18  2023-10  mental_health              15\n19  2023-10   primary_care              67\n20  2023-11            eap               5\n21  2023-11  mental_health              18\n22  2023-11   primary_care              67\n23  2023-12            eap               5\n24  2023-12  mental_health               7\n25  2023-12   primary_care              76",
      "text/html": "<div>\n<style scoped>\n    .dataframe tbody tr th:only-of-type {\n        vertical-align: middle;\n    }\n\n    .dataframe tbody tr th {\n        vertical-align: top;\n    }\n\n    .dataframe thead th {\n        text-align: right;\n    }\n</style>\n<table border=\"1\" class=\"dataframe\">\n  <thead>\n    <tr style=\"text-align: right;\">\n      <th></th>\n      <th>month</th>\n      <th>PROGRAM</th>\n      <th>episodes_count</th>\n    </tr>\n  </thead>\n  <tbody>\n    <tr>\n      <th>0</th>\n      <td>2023-01</td>\n      <td>primary_care</td>\n      <td>1</td>\n    </tr>\n    <tr>\n      <th>1</th>\n      <td>2023-02</td>\n      <td>primary_care</td>\n      <td>1</td>\n    </tr>\n    <tr>\n      <th>2</th>\n      <td>2023-05</td>\n      <td>eap</td>\n      <td>21</td>\n    </tr>\n    <tr>\n      <th>3</th>\n      <td>2023-05</td>\n      <td>mental_health</td>\n      <td>27</td>\n    </tr>\n    <tr>\n      <th>4</th>\n      <td>2023-05</td>\n      <td>primary_care</td>\n      <td>110</td>\n    </tr>\n    <tr>\n      <th>5</th>\n      <td>2023-06</td>\n      <td>eap</td>\n      <td>7</td>\n    </tr>\n    <tr>\n      <th>6</th>\n      <td>2023-06</td>\n      <td>mental_health</td>\n      <td>19</td>\n    </tr>\n    <tr>\n      <th>7</th>\n      <td>2023-06</td>\n      <td>primary_care</td>\n      <td>63</td>\n    </tr>\n    <tr>\n      <th>8</th>\n      <td>2023-07</td>\n      <td>eap</td>\n      <td>9</td>\n    </tr>\n    <tr>\n      <th>9</th>\n      <td>2023-07</td>\n      <td>mental_health</td>\n      <td>9</td>\n    </tr>\n    <tr>\n      <th>10</th>\n      <td>2023-07</td>\n      <td>primary_care</td>\n      <td>60</td>\n    </tr>\n    <tr>\n      <th>11</th>\n      <td>2023-08</td>\n      <td>eap</td>\n      <td>10</td>\n    </tr>\n    <tr>\n      <th>12</th>\n      <td>2023-08</td>\n      <td>mental_health</td>\n      <td>5</td>\n    </tr>\n    <tr>\n      <th>13</th>\n      <td>2023-08</td>\n      <td>primary_care</td>\n      <td>61</td>\n    </tr>\n    <tr>\n      <th>14</th>\n      <td>2023-09</td>\n      <td>eap</td>\n      <td>2</td>\n    </tr>\n    <tr>\n      <th>15</th>\n      <td>2023-09</td>\n      <td>mental_health</td>\n      <td>12</td>\n    </tr>\n    <tr>\n      <th>16</th>\n      <td>2023-09</td>\n      <td>primary_care</td>\n      <td>44</td>\n    </tr>\n    <tr>\n      <th>17</th>\n      <td>2023-10</td>\n      <td>eap</td>\n      <td>8</td>\n    </tr>\n    <tr>\n      <th>18</th>\n      <td>2023-10</td>\n      <td>mental_health</td>\n      <td>15</td>\n    </tr>\n    <tr>\n      <th>19</th>\n      <td>2023-10</td>\n      <td>primary_care</td>\n      <td>67</td>\n    </tr>\n    <tr>\n      <th>20</th>\n      <td>2023-11</td>\n      <td>eap</td>\n      <td>5</td>\n    </tr>\n    <tr>\n      <th>21</th>\n      <td>2023-11</td>\n      <td>mental_health</td>\n      <td>18</td>\n    </tr>\n    <tr>\n      <th>22</th>\n      <td>2023-11</td>\n      <td>primary_care</td>\n      <td>67</td>\n    </tr>\n    <tr>\n      <th>23</th>\n      <td>2023-12</td>\n      <td>eap</td>\n      <td>5</td>\n    </tr>\n    <tr>\n      <th>24</th>\n      <td>2023-12</td>\n      <td>mental_health</td>\n      <td>7</td>\n    </tr>\n    <tr>\n      <th>25</th>\n      <td>2023-12</td>\n      <td>primary_care</td>\n      <td>76</td>\n    </tr>\n  </tbody>\n</table>\n</div>"
     },
     "metadata": {},
     "output_type": "display_data"
    }
   ],
   "source": [
    "query_changes_utilization_rate = \"\"\"\n",
    "SELECT\n",
    "  strftime('%Y-%m', EPISODE_CREATED_AT) AS month,\n",
    "  PROGRAM,\n",
    "  COUNT(EPISODE_ID) AS episodes_count\n",
    "FROM episodes\n",
    "WHERE organization_id = 4\n",
    "GROUP BY month, PROGRAM\n",
    "ORDER BY month, PROGRAM;\n",
    "\"\"\"\n",
    "\n",
    "df = pd.read_sql_query(query_changes_utilization_rate, conn)\n",
    "display(df)"
   ],
   "metadata": {
    "collapsed": false,
    "ExecuteTime": {
     "end_time": "2024-03-04T05:43:18.439656Z",
     "start_time": "2024-03-04T05:43:18.418446Z"
    }
   }
  },
  {
   "cell_type": "markdown",
   "source": [
    "Adjusting the query to create separate columns for each program type"
   ],
   "metadata": {
    "collapsed": false
   }
  },
  {
   "cell_type": "code",
   "execution_count": 13,
   "outputs": [
    {
     "data": {
      "text/plain": "     month  primary_care  eap  mental_health\n0  2023-01             1    0              0\n1  2023-02             1    0              0\n2  2023-05           110   21             27\n3  2023-06            63    7             19\n4  2023-07            60    9              9\n5  2023-08            61   10              5\n6  2023-09            44    2             12\n7  2023-10            67    8             15\n8  2023-11            67    5             18\n9  2023-12            76    5              7",
      "text/html": "<div>\n<style scoped>\n    .dataframe tbody tr th:only-of-type {\n        vertical-align: middle;\n    }\n\n    .dataframe tbody tr th {\n        vertical-align: top;\n    }\n\n    .dataframe thead th {\n        text-align: right;\n    }\n</style>\n<table border=\"1\" class=\"dataframe\">\n  <thead>\n    <tr style=\"text-align: right;\">\n      <th></th>\n      <th>month</th>\n      <th>primary_care</th>\n      <th>eap</th>\n      <th>mental_health</th>\n    </tr>\n  </thead>\n  <tbody>\n    <tr>\n      <th>0</th>\n      <td>2023-01</td>\n      <td>1</td>\n      <td>0</td>\n      <td>0</td>\n    </tr>\n    <tr>\n      <th>1</th>\n      <td>2023-02</td>\n      <td>1</td>\n      <td>0</td>\n      <td>0</td>\n    </tr>\n    <tr>\n      <th>2</th>\n      <td>2023-05</td>\n      <td>110</td>\n      <td>21</td>\n      <td>27</td>\n    </tr>\n    <tr>\n      <th>3</th>\n      <td>2023-06</td>\n      <td>63</td>\n      <td>7</td>\n      <td>19</td>\n    </tr>\n    <tr>\n      <th>4</th>\n      <td>2023-07</td>\n      <td>60</td>\n      <td>9</td>\n      <td>9</td>\n    </tr>\n    <tr>\n      <th>5</th>\n      <td>2023-08</td>\n      <td>61</td>\n      <td>10</td>\n      <td>5</td>\n    </tr>\n    <tr>\n      <th>6</th>\n      <td>2023-09</td>\n      <td>44</td>\n      <td>2</td>\n      <td>12</td>\n    </tr>\n    <tr>\n      <th>7</th>\n      <td>2023-10</td>\n      <td>67</td>\n      <td>8</td>\n      <td>15</td>\n    </tr>\n    <tr>\n      <th>8</th>\n      <td>2023-11</td>\n      <td>67</td>\n      <td>5</td>\n      <td>18</td>\n    </tr>\n    <tr>\n      <th>9</th>\n      <td>2023-12</td>\n      <td>76</td>\n      <td>5</td>\n      <td>7</td>\n    </tr>\n  </tbody>\n</table>\n</div>"
     },
     "metadata": {},
     "output_type": "display_data"
    }
   ],
   "source": [
    "query_changes_utilization_rate_pivot = \"\"\"\n",
    "SELECT\n",
    "  strftime('%Y-%m', EPISODE_CREATED_AT) AS month,\n",
    "  SUM(CASE WHEN PROGRAM = 'primary_care' THEN 1 ELSE 0 END) AS primary_care,\n",
    "  SUM(CASE WHEN PROGRAM = 'eap' THEN 1 ELSE 0 END) AS eap,\n",
    "  SUM(CASE WHEN PROGRAM = 'mental_health' THEN 1 ELSE 0 END) AS mental_health\n",
    "FROM episodes\n",
    "WHERE ORGANIZATION_ID = 4\n",
    "GROUP BY month\n",
    "ORDER BY month;\n",
    "\"\"\"\n",
    "\n",
    "df = pd.read_sql_query(query_changes_utilization_rate_pivot, conn)\n",
    "display(df)"
   ],
   "metadata": {
    "collapsed": false,
    "ExecuteTime": {
     "end_time": "2024-03-04T05:43:19.512119Z",
     "start_time": "2024-03-04T05:43:19.485556Z"
    }
   }
  },
  {
   "cell_type": "markdown",
   "source": [
    "## Financial Analysis"
   ],
   "metadata": {
    "collapsed": false
   }
  },
  {
   "cell_type": "markdown",
   "source": [
    "Monthly costs to serve per program type including total costs per month"
   ],
   "metadata": {
    "collapsed": false
   }
  },
  {
   "cell_type": "code",
   "execution_count": 14,
   "outputs": [
    {
     "data": {
      "text/plain": "     month  total_cost_primary_care  total_cost_eap  total_cost_mental_health  \\\n0  2023-01                    60.04            0.00                      0.00   \n1  2023-02                    62.90            0.00                      0.00   \n2  2023-05                  7179.70         2413.95                   7466.58   \n3  2023-06                  4261.32          931.14                   5548.19   \n4  2023-07                  3961.20         1144.71                   2809.44   \n5  2023-08                  3993.06         1321.00                   1505.25   \n6  2023-09                  2739.00          197.80                   2807.52   \n7  2023-10                  4014.64          679.68                   3097.50   \n8  2023-11                  3576.46          377.85                   4988.16   \n9  2023-12                  4138.96          736.25                   2706.27   \n\n   total_cost_to_serve  \n0                60.04  \n1                62.90  \n2             17060.23  \n3             10740.65  \n4              7915.35  \n5              6819.31  \n6              5744.32  \n7              7791.82  \n8              8942.47  \n9              7581.48  ",
      "text/html": "<div>\n<style scoped>\n    .dataframe tbody tr th:only-of-type {\n        vertical-align: middle;\n    }\n\n    .dataframe tbody tr th {\n        vertical-align: top;\n    }\n\n    .dataframe thead th {\n        text-align: right;\n    }\n</style>\n<table border=\"1\" class=\"dataframe\">\n  <thead>\n    <tr style=\"text-align: right;\">\n      <th></th>\n      <th>month</th>\n      <th>total_cost_primary_care</th>\n      <th>total_cost_eap</th>\n      <th>total_cost_mental_health</th>\n      <th>total_cost_to_serve</th>\n    </tr>\n  </thead>\n  <tbody>\n    <tr>\n      <th>0</th>\n      <td>2023-01</td>\n      <td>60.04</td>\n      <td>0.00</td>\n      <td>0.00</td>\n      <td>60.04</td>\n    </tr>\n    <tr>\n      <th>1</th>\n      <td>2023-02</td>\n      <td>62.90</td>\n      <td>0.00</td>\n      <td>0.00</td>\n      <td>62.90</td>\n    </tr>\n    <tr>\n      <th>2</th>\n      <td>2023-05</td>\n      <td>7179.70</td>\n      <td>2413.95</td>\n      <td>7466.58</td>\n      <td>17060.23</td>\n    </tr>\n    <tr>\n      <th>3</th>\n      <td>2023-06</td>\n      <td>4261.32</td>\n      <td>931.14</td>\n      <td>5548.19</td>\n      <td>10740.65</td>\n    </tr>\n    <tr>\n      <th>4</th>\n      <td>2023-07</td>\n      <td>3961.20</td>\n      <td>1144.71</td>\n      <td>2809.44</td>\n      <td>7915.35</td>\n    </tr>\n    <tr>\n      <th>5</th>\n      <td>2023-08</td>\n      <td>3993.06</td>\n      <td>1321.00</td>\n      <td>1505.25</td>\n      <td>6819.31</td>\n    </tr>\n    <tr>\n      <th>6</th>\n      <td>2023-09</td>\n      <td>2739.00</td>\n      <td>197.80</td>\n      <td>2807.52</td>\n      <td>5744.32</td>\n    </tr>\n    <tr>\n      <th>7</th>\n      <td>2023-10</td>\n      <td>4014.64</td>\n      <td>679.68</td>\n      <td>3097.50</td>\n      <td>7791.82</td>\n    </tr>\n    <tr>\n      <th>8</th>\n      <td>2023-11</td>\n      <td>3576.46</td>\n      <td>377.85</td>\n      <td>4988.16</td>\n      <td>8942.47</td>\n    </tr>\n    <tr>\n      <th>9</th>\n      <td>2023-12</td>\n      <td>4138.96</td>\n      <td>736.25</td>\n      <td>2706.27</td>\n      <td>7581.48</td>\n    </tr>\n  </tbody>\n</table>\n</div>"
     },
     "metadata": {},
     "output_type": "display_data"
    }
   ],
   "source": [
    "query_monthly_costs = \"\"\"\n",
    "WITH episodes_per_month AS (\n",
    "  SELECT\n",
    "    strftime('%Y-%m', EPISODE_CREATED_AT) AS month,\n",
    "    SUM(CASE WHEN PROGRAM = 'primary_care' THEN 1 ELSE 0 END) AS primary_care_episodes,\n",
    "    SUM(CASE WHEN PROGRAM = 'eap' THEN 1 ELSE 0 END) AS eap_episodes,\n",
    "    SUM(CASE WHEN PROGRAM = 'mental_health' THEN 1 ELSE 0 END) AS mental_health_episodes\n",
    "  FROM episodes\n",
    "  WHERE ORGANIZATION_ID = 4\n",
    "  GROUP BY month\n",
    ")\n",
    "SELECT\n",
    "   e.month,\n",
    "  (e.primary_care_episodes * c.cost_to_serve_primary_care) AS total_cost_primary_care,\n",
    "  (e.eap_episodes * c.cost_to_serve_eap) AS total_cost_eap,\n",
    "  (e.mental_health_episodes * c.cost_to_serve_mental_health) AS total_cost_mental_health,\n",
    "  (e.primary_care_episodes * c.cost_to_serve_primary_care) +\n",
    "  (e.eap_episodes * c.cost_to_serve_eap) +\n",
    "  (e.mental_health_episodes * c.cost_to_serve_mental_health) AS total_cost_to_serve\n",
    "FROM episodes_per_month e\n",
    "INNER JOIN cost_to_serve_monthly c ON e.month = strftime('%Y-%m', c.date_month)\n",
    "ORDER BY e.month;\n",
    "\"\"\"\n",
    "\n",
    "df = pd.read_sql_query(query_monthly_costs, conn)\n",
    "display(df)"
   ],
   "metadata": {
    "collapsed": false,
    "ExecuteTime": {
     "end_time": "2024-03-04T05:43:21.216046Z",
     "start_time": "2024-03-04T05:43:21.195354Z"
    }
   }
  },
  {
   "cell_type": "markdown",
   "source": [
    "Total_cost_to_serve per month\n",
    "As expected, the month of May drove the highest total cost followed by the month of June"
   ],
   "metadata": {
    "collapsed": false
   }
  },
  {
   "cell_type": "code",
   "execution_count": 15,
   "outputs": [
    {
     "data": {
      "text/plain": "     month  total_cost_to_serve\n0  2023-01                60.04\n1  2023-02                62.90\n2  2023-05             17060.23\n3  2023-06             10740.65\n4  2023-07              7915.35\n5  2023-08              6819.31\n6  2023-09              5744.32\n7  2023-10              7791.82\n8  2023-11              8942.47\n9  2023-12              7581.48",
      "text/html": "<div>\n<style scoped>\n    .dataframe tbody tr th:only-of-type {\n        vertical-align: middle;\n    }\n\n    .dataframe tbody tr th {\n        vertical-align: top;\n    }\n\n    .dataframe thead th {\n        text-align: right;\n    }\n</style>\n<table border=\"1\" class=\"dataframe\">\n  <thead>\n    <tr style=\"text-align: right;\">\n      <th></th>\n      <th>month</th>\n      <th>total_cost_to_serve</th>\n    </tr>\n  </thead>\n  <tbody>\n    <tr>\n      <th>0</th>\n      <td>2023-01</td>\n      <td>60.04</td>\n    </tr>\n    <tr>\n      <th>1</th>\n      <td>2023-02</td>\n      <td>62.90</td>\n    </tr>\n    <tr>\n      <th>2</th>\n      <td>2023-05</td>\n      <td>17060.23</td>\n    </tr>\n    <tr>\n      <th>3</th>\n      <td>2023-06</td>\n      <td>10740.65</td>\n    </tr>\n    <tr>\n      <th>4</th>\n      <td>2023-07</td>\n      <td>7915.35</td>\n    </tr>\n    <tr>\n      <th>5</th>\n      <td>2023-08</td>\n      <td>6819.31</td>\n    </tr>\n    <tr>\n      <th>6</th>\n      <td>2023-09</td>\n      <td>5744.32</td>\n    </tr>\n    <tr>\n      <th>7</th>\n      <td>2023-10</td>\n      <td>7791.82</td>\n    </tr>\n    <tr>\n      <th>8</th>\n      <td>2023-11</td>\n      <td>8942.47</td>\n    </tr>\n    <tr>\n      <th>9</th>\n      <td>2023-12</td>\n      <td>7581.48</td>\n    </tr>\n  </tbody>\n</table>\n</div>"
     },
     "metadata": {},
     "output_type": "display_data"
    }
   ],
   "source": [
    "query_monthly_costs_total = \"\"\"\n",
    "WITH episodes_per_month AS (\n",
    "  SELECT\n",
    "    strftime('%Y-%m', EPISODE_CREATED_AT) AS month,\n",
    "    SUM(CASE WHEN PROGRAM = 'primary_care' THEN 1 ELSE 0 END) AS primary_care_episodes,\n",
    "    SUM(CASE WHEN PROGRAM = 'eap' THEN 1 ELSE 0 END) AS eap_episodes,\n",
    "    SUM(CASE WHEN PROGRAM = 'mental_health' THEN 1 ELSE 0 END) AS mental_health_episodes\n",
    "  FROM episodes\n",
    "  WHERE ORGANIZATION_ID = 4\n",
    "  GROUP BY month\n",
    ")\n",
    "SELECT\n",
    "   e.month,\n",
    "  (e.primary_care_episodes * c.cost_to_serve_primary_care) +\n",
    "  (e.eap_episodes * c.cost_to_serve_eap) +\n",
    "  (e.mental_health_episodes * c.cost_to_serve_mental_health) AS total_cost_to_serve\n",
    "FROM episodes_per_month e\n",
    "INNER JOIN cost_to_serve_monthly c ON e.month = strftime('%Y-%m', c.date_month)\n",
    "ORDER BY e.month;\n",
    "\"\"\"\n",
    "\n",
    "df = pd.read_sql_query(query_monthly_costs_total, conn)\n",
    "display(df)"
   ],
   "metadata": {
    "collapsed": false,
    "ExecuteTime": {
     "end_time": "2024-03-04T05:43:22.492507Z",
     "start_time": "2024-03-04T05:43:22.471308Z"
    }
   }
  },
  {
   "cell_type": "markdown",
   "source": [
    "Calculating monthly revenue: The highest monthly revenue was in december."
   ],
   "metadata": {
    "collapsed": false
   }
  },
  {
   "cell_type": "code",
   "execution_count": 16,
   "outputs": [
    {
     "data": {
      "text/plain": "      month  monthly_revenue\n0   2023-09         20405.56\n1   2023-02           687.57\n2   2023-03           671.58\n3   2023-06         20831.86\n4   2023-12         21712.88\n5   2023-01           943.41\n6   2023-08         20306.09\n7   2023-11         21315.00\n8   2023-07         20647.13\n9   2023-05         21002.38\n10  2023-10         21272.37\n11  2023-04           687.57",
      "text/html": "<div>\n<style scoped>\n    .dataframe tbody tr th:only-of-type {\n        vertical-align: middle;\n    }\n\n    .dataframe tbody tr th {\n        vertical-align: top;\n    }\n\n    .dataframe thead th {\n        text-align: right;\n    }\n</style>\n<table border=\"1\" class=\"dataframe\">\n  <thead>\n    <tr style=\"text-align: right;\">\n      <th></th>\n      <th>month</th>\n      <th>monthly_revenue</th>\n    </tr>\n  </thead>\n  <tbody>\n    <tr>\n      <th>0</th>\n      <td>2023-09</td>\n      <td>20405.56</td>\n    </tr>\n    <tr>\n      <th>1</th>\n      <td>2023-02</td>\n      <td>687.57</td>\n    </tr>\n    <tr>\n      <th>2</th>\n      <td>2023-03</td>\n      <td>671.58</td>\n    </tr>\n    <tr>\n      <th>3</th>\n      <td>2023-06</td>\n      <td>20831.86</td>\n    </tr>\n    <tr>\n      <th>4</th>\n      <td>2023-12</td>\n      <td>21712.88</td>\n    </tr>\n    <tr>\n      <th>5</th>\n      <td>2023-01</td>\n      <td>943.41</td>\n    </tr>\n    <tr>\n      <th>6</th>\n      <td>2023-08</td>\n      <td>20306.09</td>\n    </tr>\n    <tr>\n      <th>7</th>\n      <td>2023-11</td>\n      <td>21315.00</td>\n    </tr>\n    <tr>\n      <th>8</th>\n      <td>2023-07</td>\n      <td>20647.13</td>\n    </tr>\n    <tr>\n      <th>9</th>\n      <td>2023-05</td>\n      <td>21002.38</td>\n    </tr>\n    <tr>\n      <th>10</th>\n      <td>2023-10</td>\n      <td>21272.37</td>\n    </tr>\n    <tr>\n      <th>11</th>\n      <td>2023-04</td>\n      <td>687.57</td>\n    </tr>\n  </tbody>\n</table>\n</div>"
     },
     "metadata": {},
     "output_type": "display_data"
    }
   ],
   "source": [
    "query_monthly_revenue = \"\"\"\n",
    "SELECT\n",
    "  strftime('%Y-%m', date_month) AS month,\n",
    "  pepm * eligible_members AS monthly_revenue\n",
    "FROM organizations_monthly\n",
    "WHERE organization_id = 4;\n",
    "\"\"\"\n",
    "\n",
    "df = pd.read_sql_query(query_monthly_revenue, conn)\n",
    "display(df)"
   ],
   "metadata": {
    "collapsed": false,
    "ExecuteTime": {
     "end_time": "2024-03-04T05:43:23.813597Z",
     "start_time": "2024-03-04T05:43:23.791680Z"
    }
   }
  },
  {
   "cell_type": "markdown",
   "source": [
    "Merging monthly costs and monthly revenue to find the gross margin for each month. Gross margin = (revenue - total costs to serve)"
   ],
   "metadata": {
    "collapsed": false
   }
  },
  {
   "cell_type": "code",
   "execution_count": 17,
   "outputs": [
    {
     "data": {
      "text/plain": "     month  monthly_revenue  total_cost_to_serve  gross_margin\n0  2023-01           943.41                60.04        883.37\n1  2023-02           687.57                62.90        624.67\n2  2023-05         21002.38             17060.23       3942.15\n3  2023-06         20831.86             10740.65      10091.21\n4  2023-07         20647.13              7915.35      12731.78\n5  2023-08         20306.09              6819.31      13486.78\n6  2023-09         20405.56              5744.32      14661.24\n7  2023-10         21272.37              7791.82      13480.55\n8  2023-11         21315.00              8942.47      12372.53\n9  2023-12         21712.88              7581.48      14131.40",
      "text/html": "<div>\n<style scoped>\n    .dataframe tbody tr th:only-of-type {\n        vertical-align: middle;\n    }\n\n    .dataframe tbody tr th {\n        vertical-align: top;\n    }\n\n    .dataframe thead th {\n        text-align: right;\n    }\n</style>\n<table border=\"1\" class=\"dataframe\">\n  <thead>\n    <tr style=\"text-align: right;\">\n      <th></th>\n      <th>month</th>\n      <th>monthly_revenue</th>\n      <th>total_cost_to_serve</th>\n      <th>gross_margin</th>\n    </tr>\n  </thead>\n  <tbody>\n    <tr>\n      <th>0</th>\n      <td>2023-01</td>\n      <td>943.41</td>\n      <td>60.04</td>\n      <td>883.37</td>\n    </tr>\n    <tr>\n      <th>1</th>\n      <td>2023-02</td>\n      <td>687.57</td>\n      <td>62.90</td>\n      <td>624.67</td>\n    </tr>\n    <tr>\n      <th>2</th>\n      <td>2023-05</td>\n      <td>21002.38</td>\n      <td>17060.23</td>\n      <td>3942.15</td>\n    </tr>\n    <tr>\n      <th>3</th>\n      <td>2023-06</td>\n      <td>20831.86</td>\n      <td>10740.65</td>\n      <td>10091.21</td>\n    </tr>\n    <tr>\n      <th>4</th>\n      <td>2023-07</td>\n      <td>20647.13</td>\n      <td>7915.35</td>\n      <td>12731.78</td>\n    </tr>\n    <tr>\n      <th>5</th>\n      <td>2023-08</td>\n      <td>20306.09</td>\n      <td>6819.31</td>\n      <td>13486.78</td>\n    </tr>\n    <tr>\n      <th>6</th>\n      <td>2023-09</td>\n      <td>20405.56</td>\n      <td>5744.32</td>\n      <td>14661.24</td>\n    </tr>\n    <tr>\n      <th>7</th>\n      <td>2023-10</td>\n      <td>21272.37</td>\n      <td>7791.82</td>\n      <td>13480.55</td>\n    </tr>\n    <tr>\n      <th>8</th>\n      <td>2023-11</td>\n      <td>21315.00</td>\n      <td>8942.47</td>\n      <td>12372.53</td>\n    </tr>\n    <tr>\n      <th>9</th>\n      <td>2023-12</td>\n      <td>21712.88</td>\n      <td>7581.48</td>\n      <td>14131.40</td>\n    </tr>\n  </tbody>\n</table>\n</div>"
     },
     "metadata": {},
     "output_type": "display_data"
    }
   ],
   "source": [
    "query_gross_margin = \"\"\"\n",
    "WITH episodes_per_month AS (\n",
    "  SELECT\n",
    "    strftime('%Y-%m', EPISODE_CREATED_AT) AS month,\n",
    "    SUM(CASE WHEN PROGRAM = 'primary_care' THEN 1 ELSE 0 END) AS primary_care_episodes,\n",
    "    SUM(CASE WHEN PROGRAM = 'eap' THEN 1 ELSE 0 END) AS eap_episodes,\n",
    "    SUM(CASE WHEN PROGRAM = 'mental_health' THEN 1 ELSE 0 END) AS mental_health_episodes\n",
    "  FROM episodes\n",
    "  WHERE ORGANIZATION_ID = 4\n",
    "  GROUP BY month\n",
    "),\n",
    "costs AS (\n",
    "  SELECT\n",
    "    e.month,\n",
    "    (e.primary_care_episodes * c.cost_to_serve_primary_care) +\n",
    "    (e.eap_episodes * c.cost_to_serve_eap) +\n",
    "    (e.mental_health_episodes * c.cost_to_serve_mental_health) AS total_cost_to_serve\n",
    "  FROM episodes_per_month e\n",
    "  INNER JOIN cost_to_serve_monthly c ON e.month = strftime('%Y-%m', c.date_month)\n",
    "),\n",
    "revenue AS (\n",
    "  SELECT\n",
    "    strftime('%Y-%m', date_month) AS month,\n",
    "    pepm * eligible_members AS monthly_revenue\n",
    "  FROM organizations_monthly\n",
    "  WHERE organization_id = 4\n",
    ")\n",
    "SELECT\n",
    "  r.month,\n",
    "  r.monthly_revenue,\n",
    "  c.total_cost_to_serve,\n",
    "  (r.monthly_revenue - c.total_cost_to_serve) AS gross_margin\n",
    "FROM revenue r\n",
    "JOIN costs c ON r.month = c.month\n",
    "ORDER BY r.month;\n",
    "\"\"\"\n",
    "\n",
    "df = pd.read_sql_query(query_gross_margin, conn)\n",
    "display(df)"
   ],
   "metadata": {
    "collapsed": false,
    "ExecuteTime": {
     "end_time": "2024-03-04T05:43:25.389329Z",
     "start_time": "2024-03-04T05:43:25.366718Z"
    }
   }
  },
  {
   "cell_type": "markdown",
   "source": [
    "Annual gross margin = -728834.84\n",
    "These results indicate that the costs associated with providing services to Dunder Miflin have exceeded the revenue generated from these services, leading to a negative gross margin for the year 2023.\n",
    "\n",
    "This means that pepm may not be covering the costs of the services provided, or that the services are being utilized at a higher rate than anticipated, which could be driving up costs."
   ],
   "metadata": {
    "collapsed": false
   }
  },
  {
   "cell_type": "code",
   "execution_count": 18,
   "outputs": [
    {
     "data": {
      "text/plain": "   total_revenue  total_cost  annual_gross_margin\n0       170483.4   899318.24           -728834.84",
      "text/html": "<div>\n<style scoped>\n    .dataframe tbody tr th:only-of-type {\n        vertical-align: middle;\n    }\n\n    .dataframe tbody tr th {\n        vertical-align: top;\n    }\n\n    .dataframe thead th {\n        text-align: right;\n    }\n</style>\n<table border=\"1\" class=\"dataframe\">\n  <thead>\n    <tr style=\"text-align: right;\">\n      <th></th>\n      <th>total_revenue</th>\n      <th>total_cost</th>\n      <th>annual_gross_margin</th>\n    </tr>\n  </thead>\n  <tbody>\n    <tr>\n      <th>0</th>\n      <td>170483.4</td>\n      <td>899318.24</td>\n      <td>-728834.84</td>\n    </tr>\n  </tbody>\n</table>\n</div>"
     },
     "metadata": {},
     "output_type": "display_data"
    }
   ],
   "source": [
    "query_annual_gross_margin = \"\"\"\n",
    "WITH episodes_per_year AS (\n",
    "  SELECT\n",
    "    SUM(CASE WHEN PROGRAM = 'primary_care' THEN 1 ELSE 0 END) AS primary_care_episodes,\n",
    "    SUM(CASE WHEN PROGRAM = 'eap' THEN 1 ELSE 0 END) AS eap_episodes,\n",
    "    SUM(CASE WHEN PROGRAM = 'mental_health' THEN 1 ELSE 0 END) AS mental_health_episodes\n",
    "  FROM episodes\n",
    "  WHERE ORGANIZATION_ID = 4\n",
    "  AND strftime('%Y', EPISODE_CREATED_AT) = '2023'\n",
    "),\n",
    "costs_per_year AS (\n",
    "  SELECT\n",
    "    SUM(primary_care_episodes * cost_to_serve_primary_care) +\n",
    "    SUM(eap_episodes * cost_to_serve_eap) +\n",
    "    SUM(mental_health_episodes * cost_to_serve_mental_health) AS total_cost_to_serve\n",
    "  FROM episodes_per_year, cost_to_serve_monthly\n",
    "  WHERE strftime('%Y', date_month) = '2023'\n",
    "),\n",
    "annual_revenue AS (\n",
    "  SELECT\n",
    "    SUM(pepm * eligible_members) AS annual_revenue\n",
    "  FROM organizations_monthly\n",
    "  WHERE organization_id = 4\n",
    "  AND strftime('%Y', date_month) = '2023'\n",
    ")\n",
    "SELECT\n",
    "  (SELECT annual_revenue FROM annual_revenue) AS total_revenue,\n",
    "  (SELECT total_cost_to_serve FROM costs_per_year) AS total_cost,\n",
    "  ((SELECT annual_revenue FROM annual_revenue) - (SELECT total_cost_to_serve FROM costs_per_year)) AS annual_gross_margin;\n",
    "\"\"\"\n",
    "\n",
    "df = pd.read_sql_query(query_annual_gross_margin, conn)\n",
    "display(df)"
   ],
   "metadata": {
    "collapsed": false,
    "ExecuteTime": {
     "end_time": "2024-03-04T05:43:26.609569Z",
     "start_time": "2024-03-04T05:43:26.593420Z"
    }
   }
  },
  {
   "cell_type": "markdown",
   "source": [
    "Projections for 2024"
   ],
   "metadata": {
    "collapsed": false
   }
  },
  {
   "cell_type": "code",
   "execution_count": 19,
   "outputs": [
    {
     "data": {
      "text/plain": "   year  projected_revenue  projected_cost  projected_gross_margin\n0  2024           202949.1       87262.284              115686.816",
      "text/html": "<div>\n<style scoped>\n    .dataframe tbody tr th:only-of-type {\n        vertical-align: middle;\n    }\n\n    .dataframe tbody tr th {\n        vertical-align: top;\n    }\n\n    .dataframe thead th {\n        text-align: right;\n    }\n</style>\n<table border=\"1\" class=\"dataframe\">\n  <thead>\n    <tr style=\"text-align: right;\">\n      <th></th>\n      <th>year</th>\n      <th>projected_revenue</th>\n      <th>projected_cost</th>\n      <th>projected_gross_margin</th>\n    </tr>\n  </thead>\n  <tbody>\n    <tr>\n      <th>0</th>\n      <td>2024</td>\n      <td>202949.1</td>\n      <td>87262.284</td>\n      <td>115686.816</td>\n    </tr>\n  </tbody>\n</table>\n</div>"
     },
     "metadata": {},
     "output_type": "display_data"
    }
   ],
   "source": [
    "query_projections = \"\"\"\n",
    "WITH episodes_per_month AS (\n",
    "  SELECT\n",
    "    strftime('%Y-%m', EPISODE_CREATED_AT) AS month,\n",
    "    SUM(CASE WHEN PROGRAM = 'primary_care' THEN 1 ELSE 0 END) AS primary_care_episodes,\n",
    "    SUM(CASE WHEN PROGRAM = 'eap' THEN 1 ELSE 0 END) AS eap_episodes,\n",
    "    SUM(CASE WHEN PROGRAM = 'mental_health' THEN 1 ELSE 0 END) AS mental_health_episodes\n",
    "  FROM episodes\n",
    "  WHERE ORGANIZATION_ID = 4\n",
    "  GROUP BY month\n",
    "),\n",
    "costs AS (\n",
    "  SELECT\n",
    "    e.month,\n",
    "    (e.primary_care_episodes * c.cost_to_serve_primary_care) +\n",
    "    (e.eap_episodes * c.cost_to_serve_eap) +\n",
    "    (e.mental_health_episodes * c.cost_to_serve_mental_health) AS total_cost_to_serve\n",
    "  FROM episodes_per_month e\n",
    "  INNER JOIN cost_to_serve_monthly c ON e.month = strftime('%Y-%m', c.date_month)\n",
    "),\n",
    "revenue AS (\n",
    "  SELECT\n",
    "    strftime('%Y-%m', date_month) AS month,\n",
    "    pepm * eligible_members AS monthly_revenue\n",
    "  FROM organizations_monthly\n",
    "  WHERE organization_id = 4\n",
    "),\n",
    "gross_margin_2023 AS (\n",
    "  SELECT\n",
    "    r.month,\n",
    "    r.monthly_revenue,\n",
    "    c.total_cost_to_serve,\n",
    "    (r.monthly_revenue - c.total_cost_to_serve) AS gross_margin\n",
    "  FROM revenue r\n",
    "  JOIN costs c ON r.month = c.month\n",
    "),\n",
    "annual_totals AS (\n",
    "  SELECT\n",
    "    SUM(monthly_revenue) AS total_revenue,\n",
    "    SUM(total_cost_to_serve) AS total_cost,\n",
    "    SUM(gross_margin) AS total_gross_margin,\n",
    "    COUNT(*) AS count_months -- Added to count the number of months\n",
    "  FROM gross_margin_2023\n",
    "),\n",
    "growth_rates AS (\n",
    "  SELECT\n",
    "    (total_revenue / count_months) AS avg_monthly_revenue,\n",
    "    (total_cost / count_months) AS avg_monthly_cost,\n",
    "    (total_gross_margin / count_months) AS avg_monthly_gross_margin\n",
    "  FROM annual_totals\n",
    "),\n",
    "projections AS (\n",
    "  SELECT\n",
    "    '2024' AS year,\n",
    "    avg_monthly_revenue * 12 AS projected_revenue,\n",
    "    avg_monthly_cost * 12 AS projected_cost,\n",
    "    avg_monthly_gross_margin * 12 AS projected_gross_margin\n",
    "  FROM growth_rates\n",
    ")\n",
    "SELECT * FROM projections;\n",
    "\"\"\"\n",
    "\n",
    "df = pd.read_sql_query(query_projections, conn)\n",
    "display(df)"
   ],
   "metadata": {
    "collapsed": false,
    "ExecuteTime": {
     "end_time": "2024-03-04T05:43:29.400134Z",
     "start_time": "2024-03-04T05:43:29.381701Z"
    }
   }
  },
  {
   "cell_type": "markdown",
   "source": [],
   "metadata": {
    "collapsed": false
   }
  },
  {
   "cell_type": "markdown",
   "source": [
    "Code to create the report using plotly and save it as a pdf file. Each image is interactive. At the end, the images are exported into a pdf file"
   ],
   "metadata": {
    "collapsed": false
   }
  },
  {
   "cell_type": "code",
   "execution_count": 28,
   "outputs": [
    {
     "data": {
      "application/vnd.plotly.v1+json": {
       "data": [
        {
         "alignmentgroup": "True",
         "hovertemplate": "month=%{x}<br>Eligible Members=%{marker.color}<extra></extra>",
         "legendgroup": "",
         "marker": {
          "color": [
           59,
           43,
           42,
           43,
           1478,
           1466,
           1453,
           1429,
           1436,
           1497,
           1500,
           1528
          ],
          "coloraxis": "coloraxis",
          "pattern": {
           "shape": ""
          }
         },
         "name": "",
         "offsetgroup": "",
         "orientation": "v",
         "showlegend": false,
         "textposition": "auto",
         "x": [
          "2023-01",
          "2023-02",
          "2023-03",
          "2023-04",
          "2023-05",
          "2023-06",
          "2023-07",
          "2023-08",
          "2023-09",
          "2023-10",
          "2023-11",
          "2023-12"
         ],
         "xaxis": "x",
         "y": [
          59,
          43,
          42,
          43,
          1478,
          1466,
          1453,
          1429,
          1436,
          1497,
          1500,
          1528
         ],
         "yaxis": "y",
         "type": "bar"
        }
       ],
       "layout": {
        "template": {
         "data": {
          "histogram2dcontour": [
           {
            "type": "histogram2dcontour",
            "colorbar": {
             "outlinewidth": 0,
             "ticks": ""
            },
            "colorscale": [
             [
              0.0,
              "#0d0887"
             ],
             [
              0.1111111111111111,
              "#46039f"
             ],
             [
              0.2222222222222222,
              "#7201a8"
             ],
             [
              0.3333333333333333,
              "#9c179e"
             ],
             [
              0.4444444444444444,
              "#bd3786"
             ],
             [
              0.5555555555555556,
              "#d8576b"
             ],
             [
              0.6666666666666666,
              "#ed7953"
             ],
             [
              0.7777777777777778,
              "#fb9f3a"
             ],
             [
              0.8888888888888888,
              "#fdca26"
             ],
             [
              1.0,
              "#f0f921"
             ]
            ]
           }
          ],
          "choropleth": [
           {
            "type": "choropleth",
            "colorbar": {
             "outlinewidth": 0,
             "ticks": ""
            }
           }
          ],
          "histogram2d": [
           {
            "type": "histogram2d",
            "colorbar": {
             "outlinewidth": 0,
             "ticks": ""
            },
            "colorscale": [
             [
              0.0,
              "#0d0887"
             ],
             [
              0.1111111111111111,
              "#46039f"
             ],
             [
              0.2222222222222222,
              "#7201a8"
             ],
             [
              0.3333333333333333,
              "#9c179e"
             ],
             [
              0.4444444444444444,
              "#bd3786"
             ],
             [
              0.5555555555555556,
              "#d8576b"
             ],
             [
              0.6666666666666666,
              "#ed7953"
             ],
             [
              0.7777777777777778,
              "#fb9f3a"
             ],
             [
              0.8888888888888888,
              "#fdca26"
             ],
             [
              1.0,
              "#f0f921"
             ]
            ]
           }
          ],
          "heatmap": [
           {
            "type": "heatmap",
            "colorbar": {
             "outlinewidth": 0,
             "ticks": ""
            },
            "colorscale": [
             [
              0.0,
              "#0d0887"
             ],
             [
              0.1111111111111111,
              "#46039f"
             ],
             [
              0.2222222222222222,
              "#7201a8"
             ],
             [
              0.3333333333333333,
              "#9c179e"
             ],
             [
              0.4444444444444444,
              "#bd3786"
             ],
             [
              0.5555555555555556,
              "#d8576b"
             ],
             [
              0.6666666666666666,
              "#ed7953"
             ],
             [
              0.7777777777777778,
              "#fb9f3a"
             ],
             [
              0.8888888888888888,
              "#fdca26"
             ],
             [
              1.0,
              "#f0f921"
             ]
            ]
           }
          ],
          "heatmapgl": [
           {
            "type": "heatmapgl",
            "colorbar": {
             "outlinewidth": 0,
             "ticks": ""
            },
            "colorscale": [
             [
              0.0,
              "#0d0887"
             ],
             [
              0.1111111111111111,
              "#46039f"
             ],
             [
              0.2222222222222222,
              "#7201a8"
             ],
             [
              0.3333333333333333,
              "#9c179e"
             ],
             [
              0.4444444444444444,
              "#bd3786"
             ],
             [
              0.5555555555555556,
              "#d8576b"
             ],
             [
              0.6666666666666666,
              "#ed7953"
             ],
             [
              0.7777777777777778,
              "#fb9f3a"
             ],
             [
              0.8888888888888888,
              "#fdca26"
             ],
             [
              1.0,
              "#f0f921"
             ]
            ]
           }
          ],
          "contourcarpet": [
           {
            "type": "contourcarpet",
            "colorbar": {
             "outlinewidth": 0,
             "ticks": ""
            }
           }
          ],
          "contour": [
           {
            "type": "contour",
            "colorbar": {
             "outlinewidth": 0,
             "ticks": ""
            },
            "colorscale": [
             [
              0.0,
              "#0d0887"
             ],
             [
              0.1111111111111111,
              "#46039f"
             ],
             [
              0.2222222222222222,
              "#7201a8"
             ],
             [
              0.3333333333333333,
              "#9c179e"
             ],
             [
              0.4444444444444444,
              "#bd3786"
             ],
             [
              0.5555555555555556,
              "#d8576b"
             ],
             [
              0.6666666666666666,
              "#ed7953"
             ],
             [
              0.7777777777777778,
              "#fb9f3a"
             ],
             [
              0.8888888888888888,
              "#fdca26"
             ],
             [
              1.0,
              "#f0f921"
             ]
            ]
           }
          ],
          "surface": [
           {
            "type": "surface",
            "colorbar": {
             "outlinewidth": 0,
             "ticks": ""
            },
            "colorscale": [
             [
              0.0,
              "#0d0887"
             ],
             [
              0.1111111111111111,
              "#46039f"
             ],
             [
              0.2222222222222222,
              "#7201a8"
             ],
             [
              0.3333333333333333,
              "#9c179e"
             ],
             [
              0.4444444444444444,
              "#bd3786"
             ],
             [
              0.5555555555555556,
              "#d8576b"
             ],
             [
              0.6666666666666666,
              "#ed7953"
             ],
             [
              0.7777777777777778,
              "#fb9f3a"
             ],
             [
              0.8888888888888888,
              "#fdca26"
             ],
             [
              1.0,
              "#f0f921"
             ]
            ]
           }
          ],
          "mesh3d": [
           {
            "type": "mesh3d",
            "colorbar": {
             "outlinewidth": 0,
             "ticks": ""
            }
           }
          ],
          "scatter": [
           {
            "marker": {
             "line": {
              "color": "#283442"
             }
            },
            "type": "scatter"
           }
          ],
          "parcoords": [
           {
            "type": "parcoords",
            "line": {
             "colorbar": {
              "outlinewidth": 0,
              "ticks": ""
             }
            }
           }
          ],
          "scatterpolargl": [
           {
            "type": "scatterpolargl",
            "marker": {
             "colorbar": {
              "outlinewidth": 0,
              "ticks": ""
             }
            }
           }
          ],
          "bar": [
           {
            "error_x": {
             "color": "#f2f5fa"
            },
            "error_y": {
             "color": "#f2f5fa"
            },
            "marker": {
             "line": {
              "color": "rgb(17,17,17)",
              "width": 0.5
             },
             "pattern": {
              "fillmode": "overlay",
              "size": 10,
              "solidity": 0.2
             }
            },
            "type": "bar"
           }
          ],
          "scattergeo": [
           {
            "type": "scattergeo",
            "marker": {
             "colorbar": {
              "outlinewidth": 0,
              "ticks": ""
             }
            }
           }
          ],
          "scatterpolar": [
           {
            "type": "scatterpolar",
            "marker": {
             "colorbar": {
              "outlinewidth": 0,
              "ticks": ""
             }
            }
           }
          ],
          "histogram": [
           {
            "marker": {
             "pattern": {
              "fillmode": "overlay",
              "size": 10,
              "solidity": 0.2
             }
            },
            "type": "histogram"
           }
          ],
          "scattergl": [
           {
            "marker": {
             "line": {
              "color": "#283442"
             }
            },
            "type": "scattergl"
           }
          ],
          "scatter3d": [
           {
            "type": "scatter3d",
            "line": {
             "colorbar": {
              "outlinewidth": 0,
              "ticks": ""
             }
            },
            "marker": {
             "colorbar": {
              "outlinewidth": 0,
              "ticks": ""
             }
            }
           }
          ],
          "scattermapbox": [
           {
            "type": "scattermapbox",
            "marker": {
             "colorbar": {
              "outlinewidth": 0,
              "ticks": ""
             }
            }
           }
          ],
          "scatterternary": [
           {
            "type": "scatterternary",
            "marker": {
             "colorbar": {
              "outlinewidth": 0,
              "ticks": ""
             }
            }
           }
          ],
          "scattercarpet": [
           {
            "type": "scattercarpet",
            "marker": {
             "colorbar": {
              "outlinewidth": 0,
              "ticks": ""
             }
            }
           }
          ],
          "carpet": [
           {
            "aaxis": {
             "endlinecolor": "#A2B1C6",
             "gridcolor": "#506784",
             "linecolor": "#506784",
             "minorgridcolor": "#506784",
             "startlinecolor": "#A2B1C6"
            },
            "baxis": {
             "endlinecolor": "#A2B1C6",
             "gridcolor": "#506784",
             "linecolor": "#506784",
             "minorgridcolor": "#506784",
             "startlinecolor": "#A2B1C6"
            },
            "type": "carpet"
           }
          ],
          "table": [
           {
            "cells": {
             "fill": {
              "color": "#506784"
             },
             "line": {
              "color": "rgb(17,17,17)"
             }
            },
            "header": {
             "fill": {
              "color": "#2a3f5f"
             },
             "line": {
              "color": "rgb(17,17,17)"
             }
            },
            "type": "table"
           }
          ],
          "barpolar": [
           {
            "marker": {
             "line": {
              "color": "rgb(17,17,17)",
              "width": 0.5
             },
             "pattern": {
              "fillmode": "overlay",
              "size": 10,
              "solidity": 0.2
             }
            },
            "type": "barpolar"
           }
          ],
          "pie": [
           {
            "automargin": true,
            "type": "pie"
           }
          ]
         },
         "layout": {
          "autotypenumbers": "strict",
          "colorway": [
           "#636efa",
           "#EF553B",
           "#00cc96",
           "#ab63fa",
           "#FFA15A",
           "#19d3f3",
           "#FF6692",
           "#B6E880",
           "#FF97FF",
           "#FECB52"
          ],
          "font": {
           "color": "#f2f5fa"
          },
          "hovermode": "closest",
          "hoverlabel": {
           "align": "left"
          },
          "paper_bgcolor": "rgb(17,17,17)",
          "plot_bgcolor": "rgb(17,17,17)",
          "polar": {
           "bgcolor": "rgb(17,17,17)",
           "angularaxis": {
            "gridcolor": "#506784",
            "linecolor": "#506784",
            "ticks": ""
           },
           "radialaxis": {
            "gridcolor": "#506784",
            "linecolor": "#506784",
            "ticks": ""
           }
          },
          "ternary": {
           "bgcolor": "rgb(17,17,17)",
           "aaxis": {
            "gridcolor": "#506784",
            "linecolor": "#506784",
            "ticks": ""
           },
           "baxis": {
            "gridcolor": "#506784",
            "linecolor": "#506784",
            "ticks": ""
           },
           "caxis": {
            "gridcolor": "#506784",
            "linecolor": "#506784",
            "ticks": ""
           }
          },
          "coloraxis": {
           "colorbar": {
            "outlinewidth": 0,
            "ticks": ""
           }
          },
          "colorscale": {
           "sequential": [
            [
             0.0,
             "#0d0887"
            ],
            [
             0.1111111111111111,
             "#46039f"
            ],
            [
             0.2222222222222222,
             "#7201a8"
            ],
            [
             0.3333333333333333,
             "#9c179e"
            ],
            [
             0.4444444444444444,
             "#bd3786"
            ],
            [
             0.5555555555555556,
             "#d8576b"
            ],
            [
             0.6666666666666666,
             "#ed7953"
            ],
            [
             0.7777777777777778,
             "#fb9f3a"
            ],
            [
             0.8888888888888888,
             "#fdca26"
            ],
            [
             1.0,
             "#f0f921"
            ]
           ],
           "sequentialminus": [
            [
             0.0,
             "#0d0887"
            ],
            [
             0.1111111111111111,
             "#46039f"
            ],
            [
             0.2222222222222222,
             "#7201a8"
            ],
            [
             0.3333333333333333,
             "#9c179e"
            ],
            [
             0.4444444444444444,
             "#bd3786"
            ],
            [
             0.5555555555555556,
             "#d8576b"
            ],
            [
             0.6666666666666666,
             "#ed7953"
            ],
            [
             0.7777777777777778,
             "#fb9f3a"
            ],
            [
             0.8888888888888888,
             "#fdca26"
            ],
            [
             1.0,
             "#f0f921"
            ]
           ],
           "diverging": [
            [
             0,
             "#8e0152"
            ],
            [
             0.1,
             "#c51b7d"
            ],
            [
             0.2,
             "#de77ae"
            ],
            [
             0.3,
             "#f1b6da"
            ],
            [
             0.4,
             "#fde0ef"
            ],
            [
             0.5,
             "#f7f7f7"
            ],
            [
             0.6,
             "#e6f5d0"
            ],
            [
             0.7,
             "#b8e186"
            ],
            [
             0.8,
             "#7fbc41"
            ],
            [
             0.9,
             "#4d9221"
            ],
            [
             1,
             "#276419"
            ]
           ]
          },
          "xaxis": {
           "gridcolor": "#283442",
           "linecolor": "#506784",
           "ticks": "",
           "title": {
            "standoff": 15
           },
           "zerolinecolor": "#283442",
           "automargin": true,
           "zerolinewidth": 2
          },
          "yaxis": {
           "gridcolor": "#283442",
           "linecolor": "#506784",
           "ticks": "",
           "title": {
            "standoff": 15
           },
           "zerolinecolor": "#283442",
           "automargin": true,
           "zerolinewidth": 2
          },
          "scene": {
           "xaxis": {
            "backgroundcolor": "rgb(17,17,17)",
            "gridcolor": "#506784",
            "linecolor": "#506784",
            "showbackground": true,
            "ticks": "",
            "zerolinecolor": "#C8D4E3",
            "gridwidth": 2
           },
           "yaxis": {
            "backgroundcolor": "rgb(17,17,17)",
            "gridcolor": "#506784",
            "linecolor": "#506784",
            "showbackground": true,
            "ticks": "",
            "zerolinecolor": "#C8D4E3",
            "gridwidth": 2
           },
           "zaxis": {
            "backgroundcolor": "rgb(17,17,17)",
            "gridcolor": "#506784",
            "linecolor": "#506784",
            "showbackground": true,
            "ticks": "",
            "zerolinecolor": "#C8D4E3",
            "gridwidth": 2
           }
          },
          "shapedefaults": {
           "line": {
            "color": "#f2f5fa"
           }
          },
          "annotationdefaults": {
           "arrowcolor": "#f2f5fa",
           "arrowhead": 0,
           "arrowwidth": 1
          },
          "geo": {
           "bgcolor": "rgb(17,17,17)",
           "landcolor": "rgb(17,17,17)",
           "subunitcolor": "#506784",
           "showland": true,
           "showlakes": true,
           "lakecolor": "rgb(17,17,17)"
          },
          "title": {
           "x": 0.05
          },
          "updatemenudefaults": {
           "bgcolor": "#506784",
           "borderwidth": 0
          },
          "sliderdefaults": {
           "bgcolor": "#C8D4E3",
           "borderwidth": 1,
           "bordercolor": "rgb(17,17,17)",
           "tickwidth": 0
          },
          "mapbox": {
           "style": "dark"
          }
         }
        },
        "xaxis": {
         "anchor": "y",
         "domain": [
          0.0,
          1.0
         ],
         "title": {
          "text": "month"
         }
        },
        "yaxis": {
         "anchor": "x",
         "domain": [
          0.0,
          1.0
         ],
         "title": {
          "text": "Eligible Members"
         }
        },
        "coloraxis": {
         "colorbar": {
          "title": {
           "text": "Eligible Members"
          }
         },
         "colorscale": [
          [
           0.0,
           "#0d0887"
          ],
          [
           0.1111111111111111,
           "#46039f"
          ],
          [
           0.2222222222222222,
           "#7201a8"
          ],
          [
           0.3333333333333333,
           "#9c179e"
          ],
          [
           0.4444444444444444,
           "#bd3786"
          ],
          [
           0.5555555555555556,
           "#d8576b"
          ],
          [
           0.6666666666666666,
           "#ed7953"
          ],
          [
           0.7777777777777778,
           "#fb9f3a"
          ],
          [
           0.8888888888888888,
           "#fdca26"
          ],
          [
           1.0,
           "#f0f921"
          ]
         ]
        },
        "legend": {
         "tracegroupgap": 0
        },
        "title": {
         "text": "Total Eligible Members per Month"
        },
        "barmode": "relative"
       },
       "config": {
        "plotlyServerURL": "https://plot.ly"
       }
      },
      "text/html": "<div>                            <div id=\"352a7947-9620-4091-9749-e24b38822b33\" class=\"plotly-graph-div\" style=\"height:525px; width:100%;\"></div>            <script type=\"text/javascript\">                require([\"plotly\"], function(Plotly) {                    window.PLOTLYENV=window.PLOTLYENV || {};                                    if (document.getElementById(\"352a7947-9620-4091-9749-e24b38822b33\")) {                    Plotly.newPlot(                        \"352a7947-9620-4091-9749-e24b38822b33\",                        [{\"alignmentgroup\":\"True\",\"hovertemplate\":\"month=%{x}<br>Eligible Members=%{marker.color}<extra></extra>\",\"legendgroup\":\"\",\"marker\":{\"color\":[59,43,42,43,1478,1466,1453,1429,1436,1497,1500,1528],\"coloraxis\":\"coloraxis\",\"pattern\":{\"shape\":\"\"}},\"name\":\"\",\"offsetgroup\":\"\",\"orientation\":\"v\",\"showlegend\":false,\"textposition\":\"auto\",\"x\":[\"2023-01\",\"2023-02\",\"2023-03\",\"2023-04\",\"2023-05\",\"2023-06\",\"2023-07\",\"2023-08\",\"2023-09\",\"2023-10\",\"2023-11\",\"2023-12\"],\"xaxis\":\"x\",\"y\":[59,43,42,43,1478,1466,1453,1429,1436,1497,1500,1528],\"yaxis\":\"y\",\"type\":\"bar\"}],                        {\"template\":{\"data\":{\"histogram2dcontour\":[{\"type\":\"histogram2dcontour\",\"colorbar\":{\"outlinewidth\":0,\"ticks\":\"\"},\"colorscale\":[[0.0,\"#0d0887\"],[0.1111111111111111,\"#46039f\"],[0.2222222222222222,\"#7201a8\"],[0.3333333333333333,\"#9c179e\"],[0.4444444444444444,\"#bd3786\"],[0.5555555555555556,\"#d8576b\"],[0.6666666666666666,\"#ed7953\"],[0.7777777777777778,\"#fb9f3a\"],[0.8888888888888888,\"#fdca26\"],[1.0,\"#f0f921\"]]}],\"choropleth\":[{\"type\":\"choropleth\",\"colorbar\":{\"outlinewidth\":0,\"ticks\":\"\"}}],\"histogram2d\":[{\"type\":\"histogram2d\",\"colorbar\":{\"outlinewidth\":0,\"ticks\":\"\"},\"colorscale\":[[0.0,\"#0d0887\"],[0.1111111111111111,\"#46039f\"],[0.2222222222222222,\"#7201a8\"],[0.3333333333333333,\"#9c179e\"],[0.4444444444444444,\"#bd3786\"],[0.5555555555555556,\"#d8576b\"],[0.6666666666666666,\"#ed7953\"],[0.7777777777777778,\"#fb9f3a\"],[0.8888888888888888,\"#fdca26\"],[1.0,\"#f0f921\"]]}],\"heatmap\":[{\"type\":\"heatmap\",\"colorbar\":{\"outlinewidth\":0,\"ticks\":\"\"},\"colorscale\":[[0.0,\"#0d0887\"],[0.1111111111111111,\"#46039f\"],[0.2222222222222222,\"#7201a8\"],[0.3333333333333333,\"#9c179e\"],[0.4444444444444444,\"#bd3786\"],[0.5555555555555556,\"#d8576b\"],[0.6666666666666666,\"#ed7953\"],[0.7777777777777778,\"#fb9f3a\"],[0.8888888888888888,\"#fdca26\"],[1.0,\"#f0f921\"]]}],\"heatmapgl\":[{\"type\":\"heatmapgl\",\"colorbar\":{\"outlinewidth\":0,\"ticks\":\"\"},\"colorscale\":[[0.0,\"#0d0887\"],[0.1111111111111111,\"#46039f\"],[0.2222222222222222,\"#7201a8\"],[0.3333333333333333,\"#9c179e\"],[0.4444444444444444,\"#bd3786\"],[0.5555555555555556,\"#d8576b\"],[0.6666666666666666,\"#ed7953\"],[0.7777777777777778,\"#fb9f3a\"],[0.8888888888888888,\"#fdca26\"],[1.0,\"#f0f921\"]]}],\"contourcarpet\":[{\"type\":\"contourcarpet\",\"colorbar\":{\"outlinewidth\":0,\"ticks\":\"\"}}],\"contour\":[{\"type\":\"contour\",\"colorbar\":{\"outlinewidth\":0,\"ticks\":\"\"},\"colorscale\":[[0.0,\"#0d0887\"],[0.1111111111111111,\"#46039f\"],[0.2222222222222222,\"#7201a8\"],[0.3333333333333333,\"#9c179e\"],[0.4444444444444444,\"#bd3786\"],[0.5555555555555556,\"#d8576b\"],[0.6666666666666666,\"#ed7953\"],[0.7777777777777778,\"#fb9f3a\"],[0.8888888888888888,\"#fdca26\"],[1.0,\"#f0f921\"]]}],\"surface\":[{\"type\":\"surface\",\"colorbar\":{\"outlinewidth\":0,\"ticks\":\"\"},\"colorscale\":[[0.0,\"#0d0887\"],[0.1111111111111111,\"#46039f\"],[0.2222222222222222,\"#7201a8\"],[0.3333333333333333,\"#9c179e\"],[0.4444444444444444,\"#bd3786\"],[0.5555555555555556,\"#d8576b\"],[0.6666666666666666,\"#ed7953\"],[0.7777777777777778,\"#fb9f3a\"],[0.8888888888888888,\"#fdca26\"],[1.0,\"#f0f921\"]]}],\"mesh3d\":[{\"type\":\"mesh3d\",\"colorbar\":{\"outlinewidth\":0,\"ticks\":\"\"}}],\"scatter\":[{\"marker\":{\"line\":{\"color\":\"#283442\"}},\"type\":\"scatter\"}],\"parcoords\":[{\"type\":\"parcoords\",\"line\":{\"colorbar\":{\"outlinewidth\":0,\"ticks\":\"\"}}}],\"scatterpolargl\":[{\"type\":\"scatterpolargl\",\"marker\":{\"colorbar\":{\"outlinewidth\":0,\"ticks\":\"\"}}}],\"bar\":[{\"error_x\":{\"color\":\"#f2f5fa\"},\"error_y\":{\"color\":\"#f2f5fa\"},\"marker\":{\"line\":{\"color\":\"rgb(17,17,17)\",\"width\":0.5},\"pattern\":{\"fillmode\":\"overlay\",\"size\":10,\"solidity\":0.2}},\"type\":\"bar\"}],\"scattergeo\":[{\"type\":\"scattergeo\",\"marker\":{\"colorbar\":{\"outlinewidth\":0,\"ticks\":\"\"}}}],\"scatterpolar\":[{\"type\":\"scatterpolar\",\"marker\":{\"colorbar\":{\"outlinewidth\":0,\"ticks\":\"\"}}}],\"histogram\":[{\"marker\":{\"pattern\":{\"fillmode\":\"overlay\",\"size\":10,\"solidity\":0.2}},\"type\":\"histogram\"}],\"scattergl\":[{\"marker\":{\"line\":{\"color\":\"#283442\"}},\"type\":\"scattergl\"}],\"scatter3d\":[{\"type\":\"scatter3d\",\"line\":{\"colorbar\":{\"outlinewidth\":0,\"ticks\":\"\"}},\"marker\":{\"colorbar\":{\"outlinewidth\":0,\"ticks\":\"\"}}}],\"scattermapbox\":[{\"type\":\"scattermapbox\",\"marker\":{\"colorbar\":{\"outlinewidth\":0,\"ticks\":\"\"}}}],\"scatterternary\":[{\"type\":\"scatterternary\",\"marker\":{\"colorbar\":{\"outlinewidth\":0,\"ticks\":\"\"}}}],\"scattercarpet\":[{\"type\":\"scattercarpet\",\"marker\":{\"colorbar\":{\"outlinewidth\":0,\"ticks\":\"\"}}}],\"carpet\":[{\"aaxis\":{\"endlinecolor\":\"#A2B1C6\",\"gridcolor\":\"#506784\",\"linecolor\":\"#506784\",\"minorgridcolor\":\"#506784\",\"startlinecolor\":\"#A2B1C6\"},\"baxis\":{\"endlinecolor\":\"#A2B1C6\",\"gridcolor\":\"#506784\",\"linecolor\":\"#506784\",\"minorgridcolor\":\"#506784\",\"startlinecolor\":\"#A2B1C6\"},\"type\":\"carpet\"}],\"table\":[{\"cells\":{\"fill\":{\"color\":\"#506784\"},\"line\":{\"color\":\"rgb(17,17,17)\"}},\"header\":{\"fill\":{\"color\":\"#2a3f5f\"},\"line\":{\"color\":\"rgb(17,17,17)\"}},\"type\":\"table\"}],\"barpolar\":[{\"marker\":{\"line\":{\"color\":\"rgb(17,17,17)\",\"width\":0.5},\"pattern\":{\"fillmode\":\"overlay\",\"size\":10,\"solidity\":0.2}},\"type\":\"barpolar\"}],\"pie\":[{\"automargin\":true,\"type\":\"pie\"}]},\"layout\":{\"autotypenumbers\":\"strict\",\"colorway\":[\"#636efa\",\"#EF553B\",\"#00cc96\",\"#ab63fa\",\"#FFA15A\",\"#19d3f3\",\"#FF6692\",\"#B6E880\",\"#FF97FF\",\"#FECB52\"],\"font\":{\"color\":\"#f2f5fa\"},\"hovermode\":\"closest\",\"hoverlabel\":{\"align\":\"left\"},\"paper_bgcolor\":\"rgb(17,17,17)\",\"plot_bgcolor\":\"rgb(17,17,17)\",\"polar\":{\"bgcolor\":\"rgb(17,17,17)\",\"angularaxis\":{\"gridcolor\":\"#506784\",\"linecolor\":\"#506784\",\"ticks\":\"\"},\"radialaxis\":{\"gridcolor\":\"#506784\",\"linecolor\":\"#506784\",\"ticks\":\"\"}},\"ternary\":{\"bgcolor\":\"rgb(17,17,17)\",\"aaxis\":{\"gridcolor\":\"#506784\",\"linecolor\":\"#506784\",\"ticks\":\"\"},\"baxis\":{\"gridcolor\":\"#506784\",\"linecolor\":\"#506784\",\"ticks\":\"\"},\"caxis\":{\"gridcolor\":\"#506784\",\"linecolor\":\"#506784\",\"ticks\":\"\"}},\"coloraxis\":{\"colorbar\":{\"outlinewidth\":0,\"ticks\":\"\"}},\"colorscale\":{\"sequential\":[[0.0,\"#0d0887\"],[0.1111111111111111,\"#46039f\"],[0.2222222222222222,\"#7201a8\"],[0.3333333333333333,\"#9c179e\"],[0.4444444444444444,\"#bd3786\"],[0.5555555555555556,\"#d8576b\"],[0.6666666666666666,\"#ed7953\"],[0.7777777777777778,\"#fb9f3a\"],[0.8888888888888888,\"#fdca26\"],[1.0,\"#f0f921\"]],\"sequentialminus\":[[0.0,\"#0d0887\"],[0.1111111111111111,\"#46039f\"],[0.2222222222222222,\"#7201a8\"],[0.3333333333333333,\"#9c179e\"],[0.4444444444444444,\"#bd3786\"],[0.5555555555555556,\"#d8576b\"],[0.6666666666666666,\"#ed7953\"],[0.7777777777777778,\"#fb9f3a\"],[0.8888888888888888,\"#fdca26\"],[1.0,\"#f0f921\"]],\"diverging\":[[0,\"#8e0152\"],[0.1,\"#c51b7d\"],[0.2,\"#de77ae\"],[0.3,\"#f1b6da\"],[0.4,\"#fde0ef\"],[0.5,\"#f7f7f7\"],[0.6,\"#e6f5d0\"],[0.7,\"#b8e186\"],[0.8,\"#7fbc41\"],[0.9,\"#4d9221\"],[1,\"#276419\"]]},\"xaxis\":{\"gridcolor\":\"#283442\",\"linecolor\":\"#506784\",\"ticks\":\"\",\"title\":{\"standoff\":15},\"zerolinecolor\":\"#283442\",\"automargin\":true,\"zerolinewidth\":2},\"yaxis\":{\"gridcolor\":\"#283442\",\"linecolor\":\"#506784\",\"ticks\":\"\",\"title\":{\"standoff\":15},\"zerolinecolor\":\"#283442\",\"automargin\":true,\"zerolinewidth\":2},\"scene\":{\"xaxis\":{\"backgroundcolor\":\"rgb(17,17,17)\",\"gridcolor\":\"#506784\",\"linecolor\":\"#506784\",\"showbackground\":true,\"ticks\":\"\",\"zerolinecolor\":\"#C8D4E3\",\"gridwidth\":2},\"yaxis\":{\"backgroundcolor\":\"rgb(17,17,17)\",\"gridcolor\":\"#506784\",\"linecolor\":\"#506784\",\"showbackground\":true,\"ticks\":\"\",\"zerolinecolor\":\"#C8D4E3\",\"gridwidth\":2},\"zaxis\":{\"backgroundcolor\":\"rgb(17,17,17)\",\"gridcolor\":\"#506784\",\"linecolor\":\"#506784\",\"showbackground\":true,\"ticks\":\"\",\"zerolinecolor\":\"#C8D4E3\",\"gridwidth\":2}},\"shapedefaults\":{\"line\":{\"color\":\"#f2f5fa\"}},\"annotationdefaults\":{\"arrowcolor\":\"#f2f5fa\",\"arrowhead\":0,\"arrowwidth\":1},\"geo\":{\"bgcolor\":\"rgb(17,17,17)\",\"landcolor\":\"rgb(17,17,17)\",\"subunitcolor\":\"#506784\",\"showland\":true,\"showlakes\":true,\"lakecolor\":\"rgb(17,17,17)\"},\"title\":{\"x\":0.05},\"updatemenudefaults\":{\"bgcolor\":\"#506784\",\"borderwidth\":0},\"sliderdefaults\":{\"bgcolor\":\"#C8D4E3\",\"borderwidth\":1,\"bordercolor\":\"rgb(17,17,17)\",\"tickwidth\":0},\"mapbox\":{\"style\":\"dark\"}}},\"xaxis\":{\"anchor\":\"y\",\"domain\":[0.0,1.0],\"title\":{\"text\":\"month\"}},\"yaxis\":{\"anchor\":\"x\",\"domain\":[0.0,1.0],\"title\":{\"text\":\"Eligible Members\"}},\"coloraxis\":{\"colorbar\":{\"title\":{\"text\":\"Eligible Members\"}},\"colorscale\":[[0.0,\"#0d0887\"],[0.1111111111111111,\"#46039f\"],[0.2222222222222222,\"#7201a8\"],[0.3333333333333333,\"#9c179e\"],[0.4444444444444444,\"#bd3786\"],[0.5555555555555556,\"#d8576b\"],[0.6666666666666666,\"#ed7953\"],[0.7777777777777778,\"#fb9f3a\"],[0.8888888888888888,\"#fdca26\"],[1.0,\"#f0f921\"]]},\"legend\":{\"tracegroupgap\":0},\"title\":{\"text\":\"Total Eligible Members per Month\"},\"barmode\":\"relative\"},                        {\"responsive\": true}                    ).then(function(){\n                            \nvar gd = document.getElementById('352a7947-9620-4091-9749-e24b38822b33');\nvar x = new MutationObserver(function (mutations, observer) {{\n        var display = window.getComputedStyle(gd).display;\n        if (!display || display === 'none') {{\n            console.log([gd, 'removed!']);\n            Plotly.purge(gd);\n            observer.disconnect();\n        }}\n}});\n\n// Listen for the removal of the full notebook cells\nvar notebookContainer = gd.closest('#notebook-container');\nif (notebookContainer) {{\n    x.observe(notebookContainer, {childList: true});\n}}\n\n// Listen for the clearing of the current output cell\nvar outputEl = gd.closest('.output');\nif (outputEl) {{\n    x.observe(outputEl, {childList: true});\n}}\n\n                        })                };                });            </script>        </div>"
     },
     "metadata": {},
     "output_type": "display_data"
    },
    {
     "data": {
      "application/vnd.plotly.v1+json": {
       "data": [
        {
         "domain": {
          "x": [
           0.0,
           1.0
          ],
          "y": [
           0.0,
           1.0
          ]
         },
         "hole": 0.3,
         "hovertemplate": "PROGRAM=%{label}<br>EPISODES_COUNT=%{value}<extra></extra>",
         "labels": [
          "eap",
          "mental_health",
          "primary_care"
         ],
         "legendgroup": "",
         "name": "",
         "showlegend": true,
         "values": [
          67,
          112,
          550
         ],
         "type": "pie"
        }
       ],
       "layout": {
        "template": {
         "data": {
          "histogram2dcontour": [
           {
            "type": "histogram2dcontour",
            "colorbar": {
             "outlinewidth": 0,
             "ticks": ""
            },
            "colorscale": [
             [
              0.0,
              "#0d0887"
             ],
             [
              0.1111111111111111,
              "#46039f"
             ],
             [
              0.2222222222222222,
              "#7201a8"
             ],
             [
              0.3333333333333333,
              "#9c179e"
             ],
             [
              0.4444444444444444,
              "#bd3786"
             ],
             [
              0.5555555555555556,
              "#d8576b"
             ],
             [
              0.6666666666666666,
              "#ed7953"
             ],
             [
              0.7777777777777778,
              "#fb9f3a"
             ],
             [
              0.8888888888888888,
              "#fdca26"
             ],
             [
              1.0,
              "#f0f921"
             ]
            ]
           }
          ],
          "choropleth": [
           {
            "type": "choropleth",
            "colorbar": {
             "outlinewidth": 0,
             "ticks": ""
            }
           }
          ],
          "histogram2d": [
           {
            "type": "histogram2d",
            "colorbar": {
             "outlinewidth": 0,
             "ticks": ""
            },
            "colorscale": [
             [
              0.0,
              "#0d0887"
             ],
             [
              0.1111111111111111,
              "#46039f"
             ],
             [
              0.2222222222222222,
              "#7201a8"
             ],
             [
              0.3333333333333333,
              "#9c179e"
             ],
             [
              0.4444444444444444,
              "#bd3786"
             ],
             [
              0.5555555555555556,
              "#d8576b"
             ],
             [
              0.6666666666666666,
              "#ed7953"
             ],
             [
              0.7777777777777778,
              "#fb9f3a"
             ],
             [
              0.8888888888888888,
              "#fdca26"
             ],
             [
              1.0,
              "#f0f921"
             ]
            ]
           }
          ],
          "heatmap": [
           {
            "type": "heatmap",
            "colorbar": {
             "outlinewidth": 0,
             "ticks": ""
            },
            "colorscale": [
             [
              0.0,
              "#0d0887"
             ],
             [
              0.1111111111111111,
              "#46039f"
             ],
             [
              0.2222222222222222,
              "#7201a8"
             ],
             [
              0.3333333333333333,
              "#9c179e"
             ],
             [
              0.4444444444444444,
              "#bd3786"
             ],
             [
              0.5555555555555556,
              "#d8576b"
             ],
             [
              0.6666666666666666,
              "#ed7953"
             ],
             [
              0.7777777777777778,
              "#fb9f3a"
             ],
             [
              0.8888888888888888,
              "#fdca26"
             ],
             [
              1.0,
              "#f0f921"
             ]
            ]
           }
          ],
          "heatmapgl": [
           {
            "type": "heatmapgl",
            "colorbar": {
             "outlinewidth": 0,
             "ticks": ""
            },
            "colorscale": [
             [
              0.0,
              "#0d0887"
             ],
             [
              0.1111111111111111,
              "#46039f"
             ],
             [
              0.2222222222222222,
              "#7201a8"
             ],
             [
              0.3333333333333333,
              "#9c179e"
             ],
             [
              0.4444444444444444,
              "#bd3786"
             ],
             [
              0.5555555555555556,
              "#d8576b"
             ],
             [
              0.6666666666666666,
              "#ed7953"
             ],
             [
              0.7777777777777778,
              "#fb9f3a"
             ],
             [
              0.8888888888888888,
              "#fdca26"
             ],
             [
              1.0,
              "#f0f921"
             ]
            ]
           }
          ],
          "contourcarpet": [
           {
            "type": "contourcarpet",
            "colorbar": {
             "outlinewidth": 0,
             "ticks": ""
            }
           }
          ],
          "contour": [
           {
            "type": "contour",
            "colorbar": {
             "outlinewidth": 0,
             "ticks": ""
            },
            "colorscale": [
             [
              0.0,
              "#0d0887"
             ],
             [
              0.1111111111111111,
              "#46039f"
             ],
             [
              0.2222222222222222,
              "#7201a8"
             ],
             [
              0.3333333333333333,
              "#9c179e"
             ],
             [
              0.4444444444444444,
              "#bd3786"
             ],
             [
              0.5555555555555556,
              "#d8576b"
             ],
             [
              0.6666666666666666,
              "#ed7953"
             ],
             [
              0.7777777777777778,
              "#fb9f3a"
             ],
             [
              0.8888888888888888,
              "#fdca26"
             ],
             [
              1.0,
              "#f0f921"
             ]
            ]
           }
          ],
          "surface": [
           {
            "type": "surface",
            "colorbar": {
             "outlinewidth": 0,
             "ticks": ""
            },
            "colorscale": [
             [
              0.0,
              "#0d0887"
             ],
             [
              0.1111111111111111,
              "#46039f"
             ],
             [
              0.2222222222222222,
              "#7201a8"
             ],
             [
              0.3333333333333333,
              "#9c179e"
             ],
             [
              0.4444444444444444,
              "#bd3786"
             ],
             [
              0.5555555555555556,
              "#d8576b"
             ],
             [
              0.6666666666666666,
              "#ed7953"
             ],
             [
              0.7777777777777778,
              "#fb9f3a"
             ],
             [
              0.8888888888888888,
              "#fdca26"
             ],
             [
              1.0,
              "#f0f921"
             ]
            ]
           }
          ],
          "mesh3d": [
           {
            "type": "mesh3d",
            "colorbar": {
             "outlinewidth": 0,
             "ticks": ""
            }
           }
          ],
          "scatter": [
           {
            "marker": {
             "line": {
              "color": "#283442"
             }
            },
            "type": "scatter"
           }
          ],
          "parcoords": [
           {
            "type": "parcoords",
            "line": {
             "colorbar": {
              "outlinewidth": 0,
              "ticks": ""
             }
            }
           }
          ],
          "scatterpolargl": [
           {
            "type": "scatterpolargl",
            "marker": {
             "colorbar": {
              "outlinewidth": 0,
              "ticks": ""
             }
            }
           }
          ],
          "bar": [
           {
            "error_x": {
             "color": "#f2f5fa"
            },
            "error_y": {
             "color": "#f2f5fa"
            },
            "marker": {
             "line": {
              "color": "rgb(17,17,17)",
              "width": 0.5
             },
             "pattern": {
              "fillmode": "overlay",
              "size": 10,
              "solidity": 0.2
             }
            },
            "type": "bar"
           }
          ],
          "scattergeo": [
           {
            "type": "scattergeo",
            "marker": {
             "colorbar": {
              "outlinewidth": 0,
              "ticks": ""
             }
            }
           }
          ],
          "scatterpolar": [
           {
            "type": "scatterpolar",
            "marker": {
             "colorbar": {
              "outlinewidth": 0,
              "ticks": ""
             }
            }
           }
          ],
          "histogram": [
           {
            "marker": {
             "pattern": {
              "fillmode": "overlay",
              "size": 10,
              "solidity": 0.2
             }
            },
            "type": "histogram"
           }
          ],
          "scattergl": [
           {
            "marker": {
             "line": {
              "color": "#283442"
             }
            },
            "type": "scattergl"
           }
          ],
          "scatter3d": [
           {
            "type": "scatter3d",
            "line": {
             "colorbar": {
              "outlinewidth": 0,
              "ticks": ""
             }
            },
            "marker": {
             "colorbar": {
              "outlinewidth": 0,
              "ticks": ""
             }
            }
           }
          ],
          "scattermapbox": [
           {
            "type": "scattermapbox",
            "marker": {
             "colorbar": {
              "outlinewidth": 0,
              "ticks": ""
             }
            }
           }
          ],
          "scatterternary": [
           {
            "type": "scatterternary",
            "marker": {
             "colorbar": {
              "outlinewidth": 0,
              "ticks": ""
             }
            }
           }
          ],
          "scattercarpet": [
           {
            "type": "scattercarpet",
            "marker": {
             "colorbar": {
              "outlinewidth": 0,
              "ticks": ""
             }
            }
           }
          ],
          "carpet": [
           {
            "aaxis": {
             "endlinecolor": "#A2B1C6",
             "gridcolor": "#506784",
             "linecolor": "#506784",
             "minorgridcolor": "#506784",
             "startlinecolor": "#A2B1C6"
            },
            "baxis": {
             "endlinecolor": "#A2B1C6",
             "gridcolor": "#506784",
             "linecolor": "#506784",
             "minorgridcolor": "#506784",
             "startlinecolor": "#A2B1C6"
            },
            "type": "carpet"
           }
          ],
          "table": [
           {
            "cells": {
             "fill": {
              "color": "#506784"
             },
             "line": {
              "color": "rgb(17,17,17)"
             }
            },
            "header": {
             "fill": {
              "color": "#2a3f5f"
             },
             "line": {
              "color": "rgb(17,17,17)"
             }
            },
            "type": "table"
           }
          ],
          "barpolar": [
           {
            "marker": {
             "line": {
              "color": "rgb(17,17,17)",
              "width": 0.5
             },
             "pattern": {
              "fillmode": "overlay",
              "size": 10,
              "solidity": 0.2
             }
            },
            "type": "barpolar"
           }
          ],
          "pie": [
           {
            "automargin": true,
            "type": "pie"
           }
          ]
         },
         "layout": {
          "autotypenumbers": "strict",
          "colorway": [
           "#636efa",
           "#EF553B",
           "#00cc96",
           "#ab63fa",
           "#FFA15A",
           "#19d3f3",
           "#FF6692",
           "#B6E880",
           "#FF97FF",
           "#FECB52"
          ],
          "font": {
           "color": "#f2f5fa"
          },
          "hovermode": "closest",
          "hoverlabel": {
           "align": "left"
          },
          "paper_bgcolor": "rgb(17,17,17)",
          "plot_bgcolor": "rgb(17,17,17)",
          "polar": {
           "bgcolor": "rgb(17,17,17)",
           "angularaxis": {
            "gridcolor": "#506784",
            "linecolor": "#506784",
            "ticks": ""
           },
           "radialaxis": {
            "gridcolor": "#506784",
            "linecolor": "#506784",
            "ticks": ""
           }
          },
          "ternary": {
           "bgcolor": "rgb(17,17,17)",
           "aaxis": {
            "gridcolor": "#506784",
            "linecolor": "#506784",
            "ticks": ""
           },
           "baxis": {
            "gridcolor": "#506784",
            "linecolor": "#506784",
            "ticks": ""
           },
           "caxis": {
            "gridcolor": "#506784",
            "linecolor": "#506784",
            "ticks": ""
           }
          },
          "coloraxis": {
           "colorbar": {
            "outlinewidth": 0,
            "ticks": ""
           }
          },
          "colorscale": {
           "sequential": [
            [
             0.0,
             "#0d0887"
            ],
            [
             0.1111111111111111,
             "#46039f"
            ],
            [
             0.2222222222222222,
             "#7201a8"
            ],
            [
             0.3333333333333333,
             "#9c179e"
            ],
            [
             0.4444444444444444,
             "#bd3786"
            ],
            [
             0.5555555555555556,
             "#d8576b"
            ],
            [
             0.6666666666666666,
             "#ed7953"
            ],
            [
             0.7777777777777778,
             "#fb9f3a"
            ],
            [
             0.8888888888888888,
             "#fdca26"
            ],
            [
             1.0,
             "#f0f921"
            ]
           ],
           "sequentialminus": [
            [
             0.0,
             "#0d0887"
            ],
            [
             0.1111111111111111,
             "#46039f"
            ],
            [
             0.2222222222222222,
             "#7201a8"
            ],
            [
             0.3333333333333333,
             "#9c179e"
            ],
            [
             0.4444444444444444,
             "#bd3786"
            ],
            [
             0.5555555555555556,
             "#d8576b"
            ],
            [
             0.6666666666666666,
             "#ed7953"
            ],
            [
             0.7777777777777778,
             "#fb9f3a"
            ],
            [
             0.8888888888888888,
             "#fdca26"
            ],
            [
             1.0,
             "#f0f921"
            ]
           ],
           "diverging": [
            [
             0,
             "#8e0152"
            ],
            [
             0.1,
             "#c51b7d"
            ],
            [
             0.2,
             "#de77ae"
            ],
            [
             0.3,
             "#f1b6da"
            ],
            [
             0.4,
             "#fde0ef"
            ],
            [
             0.5,
             "#f7f7f7"
            ],
            [
             0.6,
             "#e6f5d0"
            ],
            [
             0.7,
             "#b8e186"
            ],
            [
             0.8,
             "#7fbc41"
            ],
            [
             0.9,
             "#4d9221"
            ],
            [
             1,
             "#276419"
            ]
           ]
          },
          "xaxis": {
           "gridcolor": "#283442",
           "linecolor": "#506784",
           "ticks": "",
           "title": {
            "standoff": 15
           },
           "zerolinecolor": "#283442",
           "automargin": true,
           "zerolinewidth": 2
          },
          "yaxis": {
           "gridcolor": "#283442",
           "linecolor": "#506784",
           "ticks": "",
           "title": {
            "standoff": 15
           },
           "zerolinecolor": "#283442",
           "automargin": true,
           "zerolinewidth": 2
          },
          "scene": {
           "xaxis": {
            "backgroundcolor": "rgb(17,17,17)",
            "gridcolor": "#506784",
            "linecolor": "#506784",
            "showbackground": true,
            "ticks": "",
            "zerolinecolor": "#C8D4E3",
            "gridwidth": 2
           },
           "yaxis": {
            "backgroundcolor": "rgb(17,17,17)",
            "gridcolor": "#506784",
            "linecolor": "#506784",
            "showbackground": true,
            "ticks": "",
            "zerolinecolor": "#C8D4E3",
            "gridwidth": 2
           },
           "zaxis": {
            "backgroundcolor": "rgb(17,17,17)",
            "gridcolor": "#506784",
            "linecolor": "#506784",
            "showbackground": true,
            "ticks": "",
            "zerolinecolor": "#C8D4E3",
            "gridwidth": 2
           }
          },
          "shapedefaults": {
           "line": {
            "color": "#f2f5fa"
           }
          },
          "annotationdefaults": {
           "arrowcolor": "#f2f5fa",
           "arrowhead": 0,
           "arrowwidth": 1
          },
          "geo": {
           "bgcolor": "rgb(17,17,17)",
           "landcolor": "rgb(17,17,17)",
           "subunitcolor": "#506784",
           "showland": true,
           "showlakes": true,
           "lakecolor": "rgb(17,17,17)"
          },
          "title": {
           "x": 0.05
          },
          "updatemenudefaults": {
           "bgcolor": "#506784",
           "borderwidth": 0
          },
          "sliderdefaults": {
           "bgcolor": "#C8D4E3",
           "borderwidth": 1,
           "bordercolor": "rgb(17,17,17)",
           "tickwidth": 0
          },
          "mapbox": {
           "style": "dark"
          }
         }
        },
        "legend": {
         "tracegroupgap": 0
        },
        "title": {
         "text": "Usage by Program's Type"
        }
       },
       "config": {
        "plotlyServerURL": "https://plot.ly"
       }
      },
      "text/html": "<div>                            <div id=\"0d339b32-b6d7-4ec6-afe9-f88f9a4e9304\" class=\"plotly-graph-div\" style=\"height:525px; width:100%;\"></div>            <script type=\"text/javascript\">                require([\"plotly\"], function(Plotly) {                    window.PLOTLYENV=window.PLOTLYENV || {};                                    if (document.getElementById(\"0d339b32-b6d7-4ec6-afe9-f88f9a4e9304\")) {                    Plotly.newPlot(                        \"0d339b32-b6d7-4ec6-afe9-f88f9a4e9304\",                        [{\"domain\":{\"x\":[0.0,1.0],\"y\":[0.0,1.0]},\"hole\":0.3,\"hovertemplate\":\"PROGRAM=%{label}<br>EPISODES_COUNT=%{value}<extra></extra>\",\"labels\":[\"eap\",\"mental_health\",\"primary_care\"],\"legendgroup\":\"\",\"name\":\"\",\"showlegend\":true,\"values\":[67,112,550],\"type\":\"pie\"}],                        {\"template\":{\"data\":{\"histogram2dcontour\":[{\"type\":\"histogram2dcontour\",\"colorbar\":{\"outlinewidth\":0,\"ticks\":\"\"},\"colorscale\":[[0.0,\"#0d0887\"],[0.1111111111111111,\"#46039f\"],[0.2222222222222222,\"#7201a8\"],[0.3333333333333333,\"#9c179e\"],[0.4444444444444444,\"#bd3786\"],[0.5555555555555556,\"#d8576b\"],[0.6666666666666666,\"#ed7953\"],[0.7777777777777778,\"#fb9f3a\"],[0.8888888888888888,\"#fdca26\"],[1.0,\"#f0f921\"]]}],\"choropleth\":[{\"type\":\"choropleth\",\"colorbar\":{\"outlinewidth\":0,\"ticks\":\"\"}}],\"histogram2d\":[{\"type\":\"histogram2d\",\"colorbar\":{\"outlinewidth\":0,\"ticks\":\"\"},\"colorscale\":[[0.0,\"#0d0887\"],[0.1111111111111111,\"#46039f\"],[0.2222222222222222,\"#7201a8\"],[0.3333333333333333,\"#9c179e\"],[0.4444444444444444,\"#bd3786\"],[0.5555555555555556,\"#d8576b\"],[0.6666666666666666,\"#ed7953\"],[0.7777777777777778,\"#fb9f3a\"],[0.8888888888888888,\"#fdca26\"],[1.0,\"#f0f921\"]]}],\"heatmap\":[{\"type\":\"heatmap\",\"colorbar\":{\"outlinewidth\":0,\"ticks\":\"\"},\"colorscale\":[[0.0,\"#0d0887\"],[0.1111111111111111,\"#46039f\"],[0.2222222222222222,\"#7201a8\"],[0.3333333333333333,\"#9c179e\"],[0.4444444444444444,\"#bd3786\"],[0.5555555555555556,\"#d8576b\"],[0.6666666666666666,\"#ed7953\"],[0.7777777777777778,\"#fb9f3a\"],[0.8888888888888888,\"#fdca26\"],[1.0,\"#f0f921\"]]}],\"heatmapgl\":[{\"type\":\"heatmapgl\",\"colorbar\":{\"outlinewidth\":0,\"ticks\":\"\"},\"colorscale\":[[0.0,\"#0d0887\"],[0.1111111111111111,\"#46039f\"],[0.2222222222222222,\"#7201a8\"],[0.3333333333333333,\"#9c179e\"],[0.4444444444444444,\"#bd3786\"],[0.5555555555555556,\"#d8576b\"],[0.6666666666666666,\"#ed7953\"],[0.7777777777777778,\"#fb9f3a\"],[0.8888888888888888,\"#fdca26\"],[1.0,\"#f0f921\"]]}],\"contourcarpet\":[{\"type\":\"contourcarpet\",\"colorbar\":{\"outlinewidth\":0,\"ticks\":\"\"}}],\"contour\":[{\"type\":\"contour\",\"colorbar\":{\"outlinewidth\":0,\"ticks\":\"\"},\"colorscale\":[[0.0,\"#0d0887\"],[0.1111111111111111,\"#46039f\"],[0.2222222222222222,\"#7201a8\"],[0.3333333333333333,\"#9c179e\"],[0.4444444444444444,\"#bd3786\"],[0.5555555555555556,\"#d8576b\"],[0.6666666666666666,\"#ed7953\"],[0.7777777777777778,\"#fb9f3a\"],[0.8888888888888888,\"#fdca26\"],[1.0,\"#f0f921\"]]}],\"surface\":[{\"type\":\"surface\",\"colorbar\":{\"outlinewidth\":0,\"ticks\":\"\"},\"colorscale\":[[0.0,\"#0d0887\"],[0.1111111111111111,\"#46039f\"],[0.2222222222222222,\"#7201a8\"],[0.3333333333333333,\"#9c179e\"],[0.4444444444444444,\"#bd3786\"],[0.5555555555555556,\"#d8576b\"],[0.6666666666666666,\"#ed7953\"],[0.7777777777777778,\"#fb9f3a\"],[0.8888888888888888,\"#fdca26\"],[1.0,\"#f0f921\"]]}],\"mesh3d\":[{\"type\":\"mesh3d\",\"colorbar\":{\"outlinewidth\":0,\"ticks\":\"\"}}],\"scatter\":[{\"marker\":{\"line\":{\"color\":\"#283442\"}},\"type\":\"scatter\"}],\"parcoords\":[{\"type\":\"parcoords\",\"line\":{\"colorbar\":{\"outlinewidth\":0,\"ticks\":\"\"}}}],\"scatterpolargl\":[{\"type\":\"scatterpolargl\",\"marker\":{\"colorbar\":{\"outlinewidth\":0,\"ticks\":\"\"}}}],\"bar\":[{\"error_x\":{\"color\":\"#f2f5fa\"},\"error_y\":{\"color\":\"#f2f5fa\"},\"marker\":{\"line\":{\"color\":\"rgb(17,17,17)\",\"width\":0.5},\"pattern\":{\"fillmode\":\"overlay\",\"size\":10,\"solidity\":0.2}},\"type\":\"bar\"}],\"scattergeo\":[{\"type\":\"scattergeo\",\"marker\":{\"colorbar\":{\"outlinewidth\":0,\"ticks\":\"\"}}}],\"scatterpolar\":[{\"type\":\"scatterpolar\",\"marker\":{\"colorbar\":{\"outlinewidth\":0,\"ticks\":\"\"}}}],\"histogram\":[{\"marker\":{\"pattern\":{\"fillmode\":\"overlay\",\"size\":10,\"solidity\":0.2}},\"type\":\"histogram\"}],\"scattergl\":[{\"marker\":{\"line\":{\"color\":\"#283442\"}},\"type\":\"scattergl\"}],\"scatter3d\":[{\"type\":\"scatter3d\",\"line\":{\"colorbar\":{\"outlinewidth\":0,\"ticks\":\"\"}},\"marker\":{\"colorbar\":{\"outlinewidth\":0,\"ticks\":\"\"}}}],\"scattermapbox\":[{\"type\":\"scattermapbox\",\"marker\":{\"colorbar\":{\"outlinewidth\":0,\"ticks\":\"\"}}}],\"scatterternary\":[{\"type\":\"scatterternary\",\"marker\":{\"colorbar\":{\"outlinewidth\":0,\"ticks\":\"\"}}}],\"scattercarpet\":[{\"type\":\"scattercarpet\",\"marker\":{\"colorbar\":{\"outlinewidth\":0,\"ticks\":\"\"}}}],\"carpet\":[{\"aaxis\":{\"endlinecolor\":\"#A2B1C6\",\"gridcolor\":\"#506784\",\"linecolor\":\"#506784\",\"minorgridcolor\":\"#506784\",\"startlinecolor\":\"#A2B1C6\"},\"baxis\":{\"endlinecolor\":\"#A2B1C6\",\"gridcolor\":\"#506784\",\"linecolor\":\"#506784\",\"minorgridcolor\":\"#506784\",\"startlinecolor\":\"#A2B1C6\"},\"type\":\"carpet\"}],\"table\":[{\"cells\":{\"fill\":{\"color\":\"#506784\"},\"line\":{\"color\":\"rgb(17,17,17)\"}},\"header\":{\"fill\":{\"color\":\"#2a3f5f\"},\"line\":{\"color\":\"rgb(17,17,17)\"}},\"type\":\"table\"}],\"barpolar\":[{\"marker\":{\"line\":{\"color\":\"rgb(17,17,17)\",\"width\":0.5},\"pattern\":{\"fillmode\":\"overlay\",\"size\":10,\"solidity\":0.2}},\"type\":\"barpolar\"}],\"pie\":[{\"automargin\":true,\"type\":\"pie\"}]},\"layout\":{\"autotypenumbers\":\"strict\",\"colorway\":[\"#636efa\",\"#EF553B\",\"#00cc96\",\"#ab63fa\",\"#FFA15A\",\"#19d3f3\",\"#FF6692\",\"#B6E880\",\"#FF97FF\",\"#FECB52\"],\"font\":{\"color\":\"#f2f5fa\"},\"hovermode\":\"closest\",\"hoverlabel\":{\"align\":\"left\"},\"paper_bgcolor\":\"rgb(17,17,17)\",\"plot_bgcolor\":\"rgb(17,17,17)\",\"polar\":{\"bgcolor\":\"rgb(17,17,17)\",\"angularaxis\":{\"gridcolor\":\"#506784\",\"linecolor\":\"#506784\",\"ticks\":\"\"},\"radialaxis\":{\"gridcolor\":\"#506784\",\"linecolor\":\"#506784\",\"ticks\":\"\"}},\"ternary\":{\"bgcolor\":\"rgb(17,17,17)\",\"aaxis\":{\"gridcolor\":\"#506784\",\"linecolor\":\"#506784\",\"ticks\":\"\"},\"baxis\":{\"gridcolor\":\"#506784\",\"linecolor\":\"#506784\",\"ticks\":\"\"},\"caxis\":{\"gridcolor\":\"#506784\",\"linecolor\":\"#506784\",\"ticks\":\"\"}},\"coloraxis\":{\"colorbar\":{\"outlinewidth\":0,\"ticks\":\"\"}},\"colorscale\":{\"sequential\":[[0.0,\"#0d0887\"],[0.1111111111111111,\"#46039f\"],[0.2222222222222222,\"#7201a8\"],[0.3333333333333333,\"#9c179e\"],[0.4444444444444444,\"#bd3786\"],[0.5555555555555556,\"#d8576b\"],[0.6666666666666666,\"#ed7953\"],[0.7777777777777778,\"#fb9f3a\"],[0.8888888888888888,\"#fdca26\"],[1.0,\"#f0f921\"]],\"sequentialminus\":[[0.0,\"#0d0887\"],[0.1111111111111111,\"#46039f\"],[0.2222222222222222,\"#7201a8\"],[0.3333333333333333,\"#9c179e\"],[0.4444444444444444,\"#bd3786\"],[0.5555555555555556,\"#d8576b\"],[0.6666666666666666,\"#ed7953\"],[0.7777777777777778,\"#fb9f3a\"],[0.8888888888888888,\"#fdca26\"],[1.0,\"#f0f921\"]],\"diverging\":[[0,\"#8e0152\"],[0.1,\"#c51b7d\"],[0.2,\"#de77ae\"],[0.3,\"#f1b6da\"],[0.4,\"#fde0ef\"],[0.5,\"#f7f7f7\"],[0.6,\"#e6f5d0\"],[0.7,\"#b8e186\"],[0.8,\"#7fbc41\"],[0.9,\"#4d9221\"],[1,\"#276419\"]]},\"xaxis\":{\"gridcolor\":\"#283442\",\"linecolor\":\"#506784\",\"ticks\":\"\",\"title\":{\"standoff\":15},\"zerolinecolor\":\"#283442\",\"automargin\":true,\"zerolinewidth\":2},\"yaxis\":{\"gridcolor\":\"#283442\",\"linecolor\":\"#506784\",\"ticks\":\"\",\"title\":{\"standoff\":15},\"zerolinecolor\":\"#283442\",\"automargin\":true,\"zerolinewidth\":2},\"scene\":{\"xaxis\":{\"backgroundcolor\":\"rgb(17,17,17)\",\"gridcolor\":\"#506784\",\"linecolor\":\"#506784\",\"showbackground\":true,\"ticks\":\"\",\"zerolinecolor\":\"#C8D4E3\",\"gridwidth\":2},\"yaxis\":{\"backgroundcolor\":\"rgb(17,17,17)\",\"gridcolor\":\"#506784\",\"linecolor\":\"#506784\",\"showbackground\":true,\"ticks\":\"\",\"zerolinecolor\":\"#C8D4E3\",\"gridwidth\":2},\"zaxis\":{\"backgroundcolor\":\"rgb(17,17,17)\",\"gridcolor\":\"#506784\",\"linecolor\":\"#506784\",\"showbackground\":true,\"ticks\":\"\",\"zerolinecolor\":\"#C8D4E3\",\"gridwidth\":2}},\"shapedefaults\":{\"line\":{\"color\":\"#f2f5fa\"}},\"annotationdefaults\":{\"arrowcolor\":\"#f2f5fa\",\"arrowhead\":0,\"arrowwidth\":1},\"geo\":{\"bgcolor\":\"rgb(17,17,17)\",\"landcolor\":\"rgb(17,17,17)\",\"subunitcolor\":\"#506784\",\"showland\":true,\"showlakes\":true,\"lakecolor\":\"rgb(17,17,17)\"},\"title\":{\"x\":0.05},\"updatemenudefaults\":{\"bgcolor\":\"#506784\",\"borderwidth\":0},\"sliderdefaults\":{\"bgcolor\":\"#C8D4E3\",\"borderwidth\":1,\"bordercolor\":\"rgb(17,17,17)\",\"tickwidth\":0},\"mapbox\":{\"style\":\"dark\"}}},\"legend\":{\"tracegroupgap\":0},\"title\":{\"text\":\"Usage by Program's Type\"}},                        {\"responsive\": true}                    ).then(function(){\n                            \nvar gd = document.getElementById('0d339b32-b6d7-4ec6-afe9-f88f9a4e9304');\nvar x = new MutationObserver(function (mutations, observer) {{\n        var display = window.getComputedStyle(gd).display;\n        if (!display || display === 'none') {{\n            console.log([gd, 'removed!']);\n            Plotly.purge(gd);\n            observer.disconnect();\n        }}\n}});\n\n// Listen for the removal of the full notebook cells\nvar notebookContainer = gd.closest('#notebook-container');\nif (notebookContainer) {{\n    x.observe(notebookContainer, {childList: true});\n}}\n\n// Listen for the clearing of the current output cell\nvar outputEl = gd.closest('.output');\nif (outputEl) {{\n    x.observe(outputEl, {childList: true});\n}}\n\n                        })                };                });            </script>        </div>"
     },
     "metadata": {},
     "output_type": "display_data"
    },
    {
     "data": {
      "application/vnd.plotly.v1+json": {
       "data": [
        {
         "hovertemplate": "month=%{x}<br>Utilization Rate (%)=%{y}<extra></extra>",
         "legendgroup": "",
         "line": {
          "color": "#636efa",
          "dash": "solid"
         },
         "marker": {
          "symbol": "circle"
         },
         "mode": "lines",
         "name": "",
         "orientation": "v",
         "showlegend": false,
         "x": [
          "2023-01",
          "2023-02",
          "2023-05",
          "2023-06",
          "2023-07",
          "2023-08",
          "2023-09",
          "2023-10",
          "2023-11",
          "2023-12"
         ],
         "xaxis": "x",
         "y": [
          1.69,
          2.33,
          10.69,
          6.07,
          5.37,
          5.32,
          4.04,
          6.01,
          6.0,
          5.76
         ],
         "yaxis": "y",
         "type": "scatter"
        },
        {
         "name": "Episodes Opened",
         "x": [
          "2023-01",
          "2023-02",
          "2023-05",
          "2023-06",
          "2023-07",
          "2023-08",
          "2023-09",
          "2023-10",
          "2023-11",
          "2023-12"
         ],
         "y": [
          1,
          1,
          158,
          89,
          78,
          76,
          58,
          90,
          90,
          88
         ],
         "type": "bar"
        }
       ],
       "layout": {
        "template": {
         "data": {
          "histogram2dcontour": [
           {
            "type": "histogram2dcontour",
            "colorbar": {
             "outlinewidth": 0,
             "ticks": ""
            },
            "colorscale": [
             [
              0.0,
              "#0d0887"
             ],
             [
              0.1111111111111111,
              "#46039f"
             ],
             [
              0.2222222222222222,
              "#7201a8"
             ],
             [
              0.3333333333333333,
              "#9c179e"
             ],
             [
              0.4444444444444444,
              "#bd3786"
             ],
             [
              0.5555555555555556,
              "#d8576b"
             ],
             [
              0.6666666666666666,
              "#ed7953"
             ],
             [
              0.7777777777777778,
              "#fb9f3a"
             ],
             [
              0.8888888888888888,
              "#fdca26"
             ],
             [
              1.0,
              "#f0f921"
             ]
            ]
           }
          ],
          "choropleth": [
           {
            "type": "choropleth",
            "colorbar": {
             "outlinewidth": 0,
             "ticks": ""
            }
           }
          ],
          "histogram2d": [
           {
            "type": "histogram2d",
            "colorbar": {
             "outlinewidth": 0,
             "ticks": ""
            },
            "colorscale": [
             [
              0.0,
              "#0d0887"
             ],
             [
              0.1111111111111111,
              "#46039f"
             ],
             [
              0.2222222222222222,
              "#7201a8"
             ],
             [
              0.3333333333333333,
              "#9c179e"
             ],
             [
              0.4444444444444444,
              "#bd3786"
             ],
             [
              0.5555555555555556,
              "#d8576b"
             ],
             [
              0.6666666666666666,
              "#ed7953"
             ],
             [
              0.7777777777777778,
              "#fb9f3a"
             ],
             [
              0.8888888888888888,
              "#fdca26"
             ],
             [
              1.0,
              "#f0f921"
             ]
            ]
           }
          ],
          "heatmap": [
           {
            "type": "heatmap",
            "colorbar": {
             "outlinewidth": 0,
             "ticks": ""
            },
            "colorscale": [
             [
              0.0,
              "#0d0887"
             ],
             [
              0.1111111111111111,
              "#46039f"
             ],
             [
              0.2222222222222222,
              "#7201a8"
             ],
             [
              0.3333333333333333,
              "#9c179e"
             ],
             [
              0.4444444444444444,
              "#bd3786"
             ],
             [
              0.5555555555555556,
              "#d8576b"
             ],
             [
              0.6666666666666666,
              "#ed7953"
             ],
             [
              0.7777777777777778,
              "#fb9f3a"
             ],
             [
              0.8888888888888888,
              "#fdca26"
             ],
             [
              1.0,
              "#f0f921"
             ]
            ]
           }
          ],
          "heatmapgl": [
           {
            "type": "heatmapgl",
            "colorbar": {
             "outlinewidth": 0,
             "ticks": ""
            },
            "colorscale": [
             [
              0.0,
              "#0d0887"
             ],
             [
              0.1111111111111111,
              "#46039f"
             ],
             [
              0.2222222222222222,
              "#7201a8"
             ],
             [
              0.3333333333333333,
              "#9c179e"
             ],
             [
              0.4444444444444444,
              "#bd3786"
             ],
             [
              0.5555555555555556,
              "#d8576b"
             ],
             [
              0.6666666666666666,
              "#ed7953"
             ],
             [
              0.7777777777777778,
              "#fb9f3a"
             ],
             [
              0.8888888888888888,
              "#fdca26"
             ],
             [
              1.0,
              "#f0f921"
             ]
            ]
           }
          ],
          "contourcarpet": [
           {
            "type": "contourcarpet",
            "colorbar": {
             "outlinewidth": 0,
             "ticks": ""
            }
           }
          ],
          "contour": [
           {
            "type": "contour",
            "colorbar": {
             "outlinewidth": 0,
             "ticks": ""
            },
            "colorscale": [
             [
              0.0,
              "#0d0887"
             ],
             [
              0.1111111111111111,
              "#46039f"
             ],
             [
              0.2222222222222222,
              "#7201a8"
             ],
             [
              0.3333333333333333,
              "#9c179e"
             ],
             [
              0.4444444444444444,
              "#bd3786"
             ],
             [
              0.5555555555555556,
              "#d8576b"
             ],
             [
              0.6666666666666666,
              "#ed7953"
             ],
             [
              0.7777777777777778,
              "#fb9f3a"
             ],
             [
              0.8888888888888888,
              "#fdca26"
             ],
             [
              1.0,
              "#f0f921"
             ]
            ]
           }
          ],
          "surface": [
           {
            "type": "surface",
            "colorbar": {
             "outlinewidth": 0,
             "ticks": ""
            },
            "colorscale": [
             [
              0.0,
              "#0d0887"
             ],
             [
              0.1111111111111111,
              "#46039f"
             ],
             [
              0.2222222222222222,
              "#7201a8"
             ],
             [
              0.3333333333333333,
              "#9c179e"
             ],
             [
              0.4444444444444444,
              "#bd3786"
             ],
             [
              0.5555555555555556,
              "#d8576b"
             ],
             [
              0.6666666666666666,
              "#ed7953"
             ],
             [
              0.7777777777777778,
              "#fb9f3a"
             ],
             [
              0.8888888888888888,
              "#fdca26"
             ],
             [
              1.0,
              "#f0f921"
             ]
            ]
           }
          ],
          "mesh3d": [
           {
            "type": "mesh3d",
            "colorbar": {
             "outlinewidth": 0,
             "ticks": ""
            }
           }
          ],
          "scatter": [
           {
            "marker": {
             "line": {
              "color": "#283442"
             }
            },
            "type": "scatter"
           }
          ],
          "parcoords": [
           {
            "type": "parcoords",
            "line": {
             "colorbar": {
              "outlinewidth": 0,
              "ticks": ""
             }
            }
           }
          ],
          "scatterpolargl": [
           {
            "type": "scatterpolargl",
            "marker": {
             "colorbar": {
              "outlinewidth": 0,
              "ticks": ""
             }
            }
           }
          ],
          "bar": [
           {
            "error_x": {
             "color": "#f2f5fa"
            },
            "error_y": {
             "color": "#f2f5fa"
            },
            "marker": {
             "line": {
              "color": "rgb(17,17,17)",
              "width": 0.5
             },
             "pattern": {
              "fillmode": "overlay",
              "size": 10,
              "solidity": 0.2
             }
            },
            "type": "bar"
           }
          ],
          "scattergeo": [
           {
            "type": "scattergeo",
            "marker": {
             "colorbar": {
              "outlinewidth": 0,
              "ticks": ""
             }
            }
           }
          ],
          "scatterpolar": [
           {
            "type": "scatterpolar",
            "marker": {
             "colorbar": {
              "outlinewidth": 0,
              "ticks": ""
             }
            }
           }
          ],
          "histogram": [
           {
            "marker": {
             "pattern": {
              "fillmode": "overlay",
              "size": 10,
              "solidity": 0.2
             }
            },
            "type": "histogram"
           }
          ],
          "scattergl": [
           {
            "marker": {
             "line": {
              "color": "#283442"
             }
            },
            "type": "scattergl"
           }
          ],
          "scatter3d": [
           {
            "type": "scatter3d",
            "line": {
             "colorbar": {
              "outlinewidth": 0,
              "ticks": ""
             }
            },
            "marker": {
             "colorbar": {
              "outlinewidth": 0,
              "ticks": ""
             }
            }
           }
          ],
          "scattermapbox": [
           {
            "type": "scattermapbox",
            "marker": {
             "colorbar": {
              "outlinewidth": 0,
              "ticks": ""
             }
            }
           }
          ],
          "scatterternary": [
           {
            "type": "scatterternary",
            "marker": {
             "colorbar": {
              "outlinewidth": 0,
              "ticks": ""
             }
            }
           }
          ],
          "scattercarpet": [
           {
            "type": "scattercarpet",
            "marker": {
             "colorbar": {
              "outlinewidth": 0,
              "ticks": ""
             }
            }
           }
          ],
          "carpet": [
           {
            "aaxis": {
             "endlinecolor": "#A2B1C6",
             "gridcolor": "#506784",
             "linecolor": "#506784",
             "minorgridcolor": "#506784",
             "startlinecolor": "#A2B1C6"
            },
            "baxis": {
             "endlinecolor": "#A2B1C6",
             "gridcolor": "#506784",
             "linecolor": "#506784",
             "minorgridcolor": "#506784",
             "startlinecolor": "#A2B1C6"
            },
            "type": "carpet"
           }
          ],
          "table": [
           {
            "cells": {
             "fill": {
              "color": "#506784"
             },
             "line": {
              "color": "rgb(17,17,17)"
             }
            },
            "header": {
             "fill": {
              "color": "#2a3f5f"
             },
             "line": {
              "color": "rgb(17,17,17)"
             }
            },
            "type": "table"
           }
          ],
          "barpolar": [
           {
            "marker": {
             "line": {
              "color": "rgb(17,17,17)",
              "width": 0.5
             },
             "pattern": {
              "fillmode": "overlay",
              "size": 10,
              "solidity": 0.2
             }
            },
            "type": "barpolar"
           }
          ],
          "pie": [
           {
            "automargin": true,
            "type": "pie"
           }
          ]
         },
         "layout": {
          "autotypenumbers": "strict",
          "colorway": [
           "#636efa",
           "#EF553B",
           "#00cc96",
           "#ab63fa",
           "#FFA15A",
           "#19d3f3",
           "#FF6692",
           "#B6E880",
           "#FF97FF",
           "#FECB52"
          ],
          "font": {
           "color": "#f2f5fa"
          },
          "hovermode": "closest",
          "hoverlabel": {
           "align": "left"
          },
          "paper_bgcolor": "rgb(17,17,17)",
          "plot_bgcolor": "rgb(17,17,17)",
          "polar": {
           "bgcolor": "rgb(17,17,17)",
           "angularaxis": {
            "gridcolor": "#506784",
            "linecolor": "#506784",
            "ticks": ""
           },
           "radialaxis": {
            "gridcolor": "#506784",
            "linecolor": "#506784",
            "ticks": ""
           }
          },
          "ternary": {
           "bgcolor": "rgb(17,17,17)",
           "aaxis": {
            "gridcolor": "#506784",
            "linecolor": "#506784",
            "ticks": ""
           },
           "baxis": {
            "gridcolor": "#506784",
            "linecolor": "#506784",
            "ticks": ""
           },
           "caxis": {
            "gridcolor": "#506784",
            "linecolor": "#506784",
            "ticks": ""
           }
          },
          "coloraxis": {
           "colorbar": {
            "outlinewidth": 0,
            "ticks": ""
           }
          },
          "colorscale": {
           "sequential": [
            [
             0.0,
             "#0d0887"
            ],
            [
             0.1111111111111111,
             "#46039f"
            ],
            [
             0.2222222222222222,
             "#7201a8"
            ],
            [
             0.3333333333333333,
             "#9c179e"
            ],
            [
             0.4444444444444444,
             "#bd3786"
            ],
            [
             0.5555555555555556,
             "#d8576b"
            ],
            [
             0.6666666666666666,
             "#ed7953"
            ],
            [
             0.7777777777777778,
             "#fb9f3a"
            ],
            [
             0.8888888888888888,
             "#fdca26"
            ],
            [
             1.0,
             "#f0f921"
            ]
           ],
           "sequentialminus": [
            [
             0.0,
             "#0d0887"
            ],
            [
             0.1111111111111111,
             "#46039f"
            ],
            [
             0.2222222222222222,
             "#7201a8"
            ],
            [
             0.3333333333333333,
             "#9c179e"
            ],
            [
             0.4444444444444444,
             "#bd3786"
            ],
            [
             0.5555555555555556,
             "#d8576b"
            ],
            [
             0.6666666666666666,
             "#ed7953"
            ],
            [
             0.7777777777777778,
             "#fb9f3a"
            ],
            [
             0.8888888888888888,
             "#fdca26"
            ],
            [
             1.0,
             "#f0f921"
            ]
           ],
           "diverging": [
            [
             0,
             "#8e0152"
            ],
            [
             0.1,
             "#c51b7d"
            ],
            [
             0.2,
             "#de77ae"
            ],
            [
             0.3,
             "#f1b6da"
            ],
            [
             0.4,
             "#fde0ef"
            ],
            [
             0.5,
             "#f7f7f7"
            ],
            [
             0.6,
             "#e6f5d0"
            ],
            [
             0.7,
             "#b8e186"
            ],
            [
             0.8,
             "#7fbc41"
            ],
            [
             0.9,
             "#4d9221"
            ],
            [
             1,
             "#276419"
            ]
           ]
          },
          "xaxis": {
           "gridcolor": "#283442",
           "linecolor": "#506784",
           "ticks": "",
           "title": {
            "standoff": 15
           },
           "zerolinecolor": "#283442",
           "automargin": true,
           "zerolinewidth": 2
          },
          "yaxis": {
           "gridcolor": "#283442",
           "linecolor": "#506784",
           "ticks": "",
           "title": {
            "standoff": 15
           },
           "zerolinecolor": "#283442",
           "automargin": true,
           "zerolinewidth": 2
          },
          "scene": {
           "xaxis": {
            "backgroundcolor": "rgb(17,17,17)",
            "gridcolor": "#506784",
            "linecolor": "#506784",
            "showbackground": true,
            "ticks": "",
            "zerolinecolor": "#C8D4E3",
            "gridwidth": 2
           },
           "yaxis": {
            "backgroundcolor": "rgb(17,17,17)",
            "gridcolor": "#506784",
            "linecolor": "#506784",
            "showbackground": true,
            "ticks": "",
            "zerolinecolor": "#C8D4E3",
            "gridwidth": 2
           },
           "zaxis": {
            "backgroundcolor": "rgb(17,17,17)",
            "gridcolor": "#506784",
            "linecolor": "#506784",
            "showbackground": true,
            "ticks": "",
            "zerolinecolor": "#C8D4E3",
            "gridwidth": 2
           }
          },
          "shapedefaults": {
           "line": {
            "color": "#f2f5fa"
           }
          },
          "annotationdefaults": {
           "arrowcolor": "#f2f5fa",
           "arrowhead": 0,
           "arrowwidth": 1
          },
          "geo": {
           "bgcolor": "rgb(17,17,17)",
           "landcolor": "rgb(17,17,17)",
           "subunitcolor": "#506784",
           "showland": true,
           "showlakes": true,
           "lakecolor": "rgb(17,17,17)"
          },
          "title": {
           "x": 0.05
          },
          "updatemenudefaults": {
           "bgcolor": "#506784",
           "borderwidth": 0
          },
          "sliderdefaults": {
           "bgcolor": "#C8D4E3",
           "borderwidth": 1,
           "bordercolor": "rgb(17,17,17)",
           "tickwidth": 0
          },
          "mapbox": {
           "style": "dark"
          }
         }
        },
        "xaxis": {
         "anchor": "y",
         "domain": [
          0.0,
          1.0
         ],
         "title": {
          "text": "month"
         }
        },
        "yaxis": {
         "anchor": "x",
         "domain": [
          0.0,
          1.0
         ],
         "title": {
          "text": "Utilization Rate (%)"
         }
        },
        "legend": {
         "tracegroupgap": 0
        },
        "title": {
         "text": "Utilization Rate Percentage per Month"
        }
       },
       "config": {
        "plotlyServerURL": "https://plot.ly"
       }
      },
      "text/html": "<div>                            <div id=\"000b3a59-886c-41e1-86fa-b1d839cee6d9\" class=\"plotly-graph-div\" style=\"height:525px; width:100%;\"></div>            <script type=\"text/javascript\">                require([\"plotly\"], function(Plotly) {                    window.PLOTLYENV=window.PLOTLYENV || {};                                    if (document.getElementById(\"000b3a59-886c-41e1-86fa-b1d839cee6d9\")) {                    Plotly.newPlot(                        \"000b3a59-886c-41e1-86fa-b1d839cee6d9\",                        [{\"hovertemplate\":\"month=%{x}<br>Utilization Rate (%)=%{y}<extra></extra>\",\"legendgroup\":\"\",\"line\":{\"color\":\"#636efa\",\"dash\":\"solid\"},\"marker\":{\"symbol\":\"circle\"},\"mode\":\"lines\",\"name\":\"\",\"orientation\":\"v\",\"showlegend\":false,\"x\":[\"2023-01\",\"2023-02\",\"2023-05\",\"2023-06\",\"2023-07\",\"2023-08\",\"2023-09\",\"2023-10\",\"2023-11\",\"2023-12\"],\"xaxis\":\"x\",\"y\":[1.69,2.33,10.69,6.07,5.37,5.32,4.04,6.01,6.0,5.76],\"yaxis\":\"y\",\"type\":\"scatter\"},{\"name\":\"Episodes Opened\",\"x\":[\"2023-01\",\"2023-02\",\"2023-05\",\"2023-06\",\"2023-07\",\"2023-08\",\"2023-09\",\"2023-10\",\"2023-11\",\"2023-12\"],\"y\":[1,1,158,89,78,76,58,90,90,88],\"type\":\"bar\"}],                        {\"template\":{\"data\":{\"histogram2dcontour\":[{\"type\":\"histogram2dcontour\",\"colorbar\":{\"outlinewidth\":0,\"ticks\":\"\"},\"colorscale\":[[0.0,\"#0d0887\"],[0.1111111111111111,\"#46039f\"],[0.2222222222222222,\"#7201a8\"],[0.3333333333333333,\"#9c179e\"],[0.4444444444444444,\"#bd3786\"],[0.5555555555555556,\"#d8576b\"],[0.6666666666666666,\"#ed7953\"],[0.7777777777777778,\"#fb9f3a\"],[0.8888888888888888,\"#fdca26\"],[1.0,\"#f0f921\"]]}],\"choropleth\":[{\"type\":\"choropleth\",\"colorbar\":{\"outlinewidth\":0,\"ticks\":\"\"}}],\"histogram2d\":[{\"type\":\"histogram2d\",\"colorbar\":{\"outlinewidth\":0,\"ticks\":\"\"},\"colorscale\":[[0.0,\"#0d0887\"],[0.1111111111111111,\"#46039f\"],[0.2222222222222222,\"#7201a8\"],[0.3333333333333333,\"#9c179e\"],[0.4444444444444444,\"#bd3786\"],[0.5555555555555556,\"#d8576b\"],[0.6666666666666666,\"#ed7953\"],[0.7777777777777778,\"#fb9f3a\"],[0.8888888888888888,\"#fdca26\"],[1.0,\"#f0f921\"]]}],\"heatmap\":[{\"type\":\"heatmap\",\"colorbar\":{\"outlinewidth\":0,\"ticks\":\"\"},\"colorscale\":[[0.0,\"#0d0887\"],[0.1111111111111111,\"#46039f\"],[0.2222222222222222,\"#7201a8\"],[0.3333333333333333,\"#9c179e\"],[0.4444444444444444,\"#bd3786\"],[0.5555555555555556,\"#d8576b\"],[0.6666666666666666,\"#ed7953\"],[0.7777777777777778,\"#fb9f3a\"],[0.8888888888888888,\"#fdca26\"],[1.0,\"#f0f921\"]]}],\"heatmapgl\":[{\"type\":\"heatmapgl\",\"colorbar\":{\"outlinewidth\":0,\"ticks\":\"\"},\"colorscale\":[[0.0,\"#0d0887\"],[0.1111111111111111,\"#46039f\"],[0.2222222222222222,\"#7201a8\"],[0.3333333333333333,\"#9c179e\"],[0.4444444444444444,\"#bd3786\"],[0.5555555555555556,\"#d8576b\"],[0.6666666666666666,\"#ed7953\"],[0.7777777777777778,\"#fb9f3a\"],[0.8888888888888888,\"#fdca26\"],[1.0,\"#f0f921\"]]}],\"contourcarpet\":[{\"type\":\"contourcarpet\",\"colorbar\":{\"outlinewidth\":0,\"ticks\":\"\"}}],\"contour\":[{\"type\":\"contour\",\"colorbar\":{\"outlinewidth\":0,\"ticks\":\"\"},\"colorscale\":[[0.0,\"#0d0887\"],[0.1111111111111111,\"#46039f\"],[0.2222222222222222,\"#7201a8\"],[0.3333333333333333,\"#9c179e\"],[0.4444444444444444,\"#bd3786\"],[0.5555555555555556,\"#d8576b\"],[0.6666666666666666,\"#ed7953\"],[0.7777777777777778,\"#fb9f3a\"],[0.8888888888888888,\"#fdca26\"],[1.0,\"#f0f921\"]]}],\"surface\":[{\"type\":\"surface\",\"colorbar\":{\"outlinewidth\":0,\"ticks\":\"\"},\"colorscale\":[[0.0,\"#0d0887\"],[0.1111111111111111,\"#46039f\"],[0.2222222222222222,\"#7201a8\"],[0.3333333333333333,\"#9c179e\"],[0.4444444444444444,\"#bd3786\"],[0.5555555555555556,\"#d8576b\"],[0.6666666666666666,\"#ed7953\"],[0.7777777777777778,\"#fb9f3a\"],[0.8888888888888888,\"#fdca26\"],[1.0,\"#f0f921\"]]}],\"mesh3d\":[{\"type\":\"mesh3d\",\"colorbar\":{\"outlinewidth\":0,\"ticks\":\"\"}}],\"scatter\":[{\"marker\":{\"line\":{\"color\":\"#283442\"}},\"type\":\"scatter\"}],\"parcoords\":[{\"type\":\"parcoords\",\"line\":{\"colorbar\":{\"outlinewidth\":0,\"ticks\":\"\"}}}],\"scatterpolargl\":[{\"type\":\"scatterpolargl\",\"marker\":{\"colorbar\":{\"outlinewidth\":0,\"ticks\":\"\"}}}],\"bar\":[{\"error_x\":{\"color\":\"#f2f5fa\"},\"error_y\":{\"color\":\"#f2f5fa\"},\"marker\":{\"line\":{\"color\":\"rgb(17,17,17)\",\"width\":0.5},\"pattern\":{\"fillmode\":\"overlay\",\"size\":10,\"solidity\":0.2}},\"type\":\"bar\"}],\"scattergeo\":[{\"type\":\"scattergeo\",\"marker\":{\"colorbar\":{\"outlinewidth\":0,\"ticks\":\"\"}}}],\"scatterpolar\":[{\"type\":\"scatterpolar\",\"marker\":{\"colorbar\":{\"outlinewidth\":0,\"ticks\":\"\"}}}],\"histogram\":[{\"marker\":{\"pattern\":{\"fillmode\":\"overlay\",\"size\":10,\"solidity\":0.2}},\"type\":\"histogram\"}],\"scattergl\":[{\"marker\":{\"line\":{\"color\":\"#283442\"}},\"type\":\"scattergl\"}],\"scatter3d\":[{\"type\":\"scatter3d\",\"line\":{\"colorbar\":{\"outlinewidth\":0,\"ticks\":\"\"}},\"marker\":{\"colorbar\":{\"outlinewidth\":0,\"ticks\":\"\"}}}],\"scattermapbox\":[{\"type\":\"scattermapbox\",\"marker\":{\"colorbar\":{\"outlinewidth\":0,\"ticks\":\"\"}}}],\"scatterternary\":[{\"type\":\"scatterternary\",\"marker\":{\"colorbar\":{\"outlinewidth\":0,\"ticks\":\"\"}}}],\"scattercarpet\":[{\"type\":\"scattercarpet\",\"marker\":{\"colorbar\":{\"outlinewidth\":0,\"ticks\":\"\"}}}],\"carpet\":[{\"aaxis\":{\"endlinecolor\":\"#A2B1C6\",\"gridcolor\":\"#506784\",\"linecolor\":\"#506784\",\"minorgridcolor\":\"#506784\",\"startlinecolor\":\"#A2B1C6\"},\"baxis\":{\"endlinecolor\":\"#A2B1C6\",\"gridcolor\":\"#506784\",\"linecolor\":\"#506784\",\"minorgridcolor\":\"#506784\",\"startlinecolor\":\"#A2B1C6\"},\"type\":\"carpet\"}],\"table\":[{\"cells\":{\"fill\":{\"color\":\"#506784\"},\"line\":{\"color\":\"rgb(17,17,17)\"}},\"header\":{\"fill\":{\"color\":\"#2a3f5f\"},\"line\":{\"color\":\"rgb(17,17,17)\"}},\"type\":\"table\"}],\"barpolar\":[{\"marker\":{\"line\":{\"color\":\"rgb(17,17,17)\",\"width\":0.5},\"pattern\":{\"fillmode\":\"overlay\",\"size\":10,\"solidity\":0.2}},\"type\":\"barpolar\"}],\"pie\":[{\"automargin\":true,\"type\":\"pie\"}]},\"layout\":{\"autotypenumbers\":\"strict\",\"colorway\":[\"#636efa\",\"#EF553B\",\"#00cc96\",\"#ab63fa\",\"#FFA15A\",\"#19d3f3\",\"#FF6692\",\"#B6E880\",\"#FF97FF\",\"#FECB52\"],\"font\":{\"color\":\"#f2f5fa\"},\"hovermode\":\"closest\",\"hoverlabel\":{\"align\":\"left\"},\"paper_bgcolor\":\"rgb(17,17,17)\",\"plot_bgcolor\":\"rgb(17,17,17)\",\"polar\":{\"bgcolor\":\"rgb(17,17,17)\",\"angularaxis\":{\"gridcolor\":\"#506784\",\"linecolor\":\"#506784\",\"ticks\":\"\"},\"radialaxis\":{\"gridcolor\":\"#506784\",\"linecolor\":\"#506784\",\"ticks\":\"\"}},\"ternary\":{\"bgcolor\":\"rgb(17,17,17)\",\"aaxis\":{\"gridcolor\":\"#506784\",\"linecolor\":\"#506784\",\"ticks\":\"\"},\"baxis\":{\"gridcolor\":\"#506784\",\"linecolor\":\"#506784\",\"ticks\":\"\"},\"caxis\":{\"gridcolor\":\"#506784\",\"linecolor\":\"#506784\",\"ticks\":\"\"}},\"coloraxis\":{\"colorbar\":{\"outlinewidth\":0,\"ticks\":\"\"}},\"colorscale\":{\"sequential\":[[0.0,\"#0d0887\"],[0.1111111111111111,\"#46039f\"],[0.2222222222222222,\"#7201a8\"],[0.3333333333333333,\"#9c179e\"],[0.4444444444444444,\"#bd3786\"],[0.5555555555555556,\"#d8576b\"],[0.6666666666666666,\"#ed7953\"],[0.7777777777777778,\"#fb9f3a\"],[0.8888888888888888,\"#fdca26\"],[1.0,\"#f0f921\"]],\"sequentialminus\":[[0.0,\"#0d0887\"],[0.1111111111111111,\"#46039f\"],[0.2222222222222222,\"#7201a8\"],[0.3333333333333333,\"#9c179e\"],[0.4444444444444444,\"#bd3786\"],[0.5555555555555556,\"#d8576b\"],[0.6666666666666666,\"#ed7953\"],[0.7777777777777778,\"#fb9f3a\"],[0.8888888888888888,\"#fdca26\"],[1.0,\"#f0f921\"]],\"diverging\":[[0,\"#8e0152\"],[0.1,\"#c51b7d\"],[0.2,\"#de77ae\"],[0.3,\"#f1b6da\"],[0.4,\"#fde0ef\"],[0.5,\"#f7f7f7\"],[0.6,\"#e6f5d0\"],[0.7,\"#b8e186\"],[0.8,\"#7fbc41\"],[0.9,\"#4d9221\"],[1,\"#276419\"]]},\"xaxis\":{\"gridcolor\":\"#283442\",\"linecolor\":\"#506784\",\"ticks\":\"\",\"title\":{\"standoff\":15},\"zerolinecolor\":\"#283442\",\"automargin\":true,\"zerolinewidth\":2},\"yaxis\":{\"gridcolor\":\"#283442\",\"linecolor\":\"#506784\",\"ticks\":\"\",\"title\":{\"standoff\":15},\"zerolinecolor\":\"#283442\",\"automargin\":true,\"zerolinewidth\":2},\"scene\":{\"xaxis\":{\"backgroundcolor\":\"rgb(17,17,17)\",\"gridcolor\":\"#506784\",\"linecolor\":\"#506784\",\"showbackground\":true,\"ticks\":\"\",\"zerolinecolor\":\"#C8D4E3\",\"gridwidth\":2},\"yaxis\":{\"backgroundcolor\":\"rgb(17,17,17)\",\"gridcolor\":\"#506784\",\"linecolor\":\"#506784\",\"showbackground\":true,\"ticks\":\"\",\"zerolinecolor\":\"#C8D4E3\",\"gridwidth\":2},\"zaxis\":{\"backgroundcolor\":\"rgb(17,17,17)\",\"gridcolor\":\"#506784\",\"linecolor\":\"#506784\",\"showbackground\":true,\"ticks\":\"\",\"zerolinecolor\":\"#C8D4E3\",\"gridwidth\":2}},\"shapedefaults\":{\"line\":{\"color\":\"#f2f5fa\"}},\"annotationdefaults\":{\"arrowcolor\":\"#f2f5fa\",\"arrowhead\":0,\"arrowwidth\":1},\"geo\":{\"bgcolor\":\"rgb(17,17,17)\",\"landcolor\":\"rgb(17,17,17)\",\"subunitcolor\":\"#506784\",\"showland\":true,\"showlakes\":true,\"lakecolor\":\"rgb(17,17,17)\"},\"title\":{\"x\":0.05},\"updatemenudefaults\":{\"bgcolor\":\"#506784\",\"borderwidth\":0},\"sliderdefaults\":{\"bgcolor\":\"#C8D4E3\",\"borderwidth\":1,\"bordercolor\":\"rgb(17,17,17)\",\"tickwidth\":0},\"mapbox\":{\"style\":\"dark\"}}},\"xaxis\":{\"anchor\":\"y\",\"domain\":[0.0,1.0],\"title\":{\"text\":\"month\"}},\"yaxis\":{\"anchor\":\"x\",\"domain\":[0.0,1.0],\"title\":{\"text\":\"Utilization Rate (%)\"}},\"legend\":{\"tracegroupgap\":0},\"title\":{\"text\":\"Utilization Rate Percentage per Month\"}},                        {\"responsive\": true}                    ).then(function(){\n                            \nvar gd = document.getElementById('000b3a59-886c-41e1-86fa-b1d839cee6d9');\nvar x = new MutationObserver(function (mutations, observer) {{\n        var display = window.getComputedStyle(gd).display;\n        if (!display || display === 'none') {{\n            console.log([gd, 'removed!']);\n            Plotly.purge(gd);\n            observer.disconnect();\n        }}\n}});\n\n// Listen for the removal of the full notebook cells\nvar notebookContainer = gd.closest('#notebook-container');\nif (notebookContainer) {{\n    x.observe(notebookContainer, {childList: true});\n}}\n\n// Listen for the clearing of the current output cell\nvar outputEl = gd.closest('.output');\nif (outputEl) {{\n    x.observe(outputEl, {childList: true});\n}}\n\n                        })                };                });            </script>        </div>"
     },
     "metadata": {},
     "output_type": "display_data"
    },
    {
     "data": {
      "application/vnd.plotly.v1+json": {
       "data": [
        {
         "alignmentgroup": "True",
         "hovertemplate": "month=%{x}<br>Total Cost to Serve=%{marker.color}<extra></extra>",
         "legendgroup": "",
         "marker": {
          "color": [
           60.04,
           62.9,
           17060.23,
           10740.65,
           7915.35,
           6819.3099999999995,
           5744.32,
           7791.820000000001,
           8942.47,
           7581.48
          ],
          "coloraxis": "coloraxis",
          "pattern": {
           "shape": ""
          }
         },
         "name": "",
         "offsetgroup": "",
         "orientation": "v",
         "showlegend": false,
         "textposition": "auto",
         "x": [
          "2023-01",
          "2023-02",
          "2023-05",
          "2023-06",
          "2023-07",
          "2023-08",
          "2023-09",
          "2023-10",
          "2023-11",
          "2023-12"
         ],
         "xaxis": "x",
         "y": [
          60.04,
          62.9,
          17060.23,
          10740.65,
          7915.35,
          6819.3099999999995,
          5744.32,
          7791.820000000001,
          8942.47,
          7581.48
         ],
         "yaxis": "y",
         "type": "bar"
        }
       ],
       "layout": {
        "template": {
         "data": {
          "histogram2dcontour": [
           {
            "type": "histogram2dcontour",
            "colorbar": {
             "outlinewidth": 0,
             "ticks": ""
            },
            "colorscale": [
             [
              0.0,
              "#0d0887"
             ],
             [
              0.1111111111111111,
              "#46039f"
             ],
             [
              0.2222222222222222,
              "#7201a8"
             ],
             [
              0.3333333333333333,
              "#9c179e"
             ],
             [
              0.4444444444444444,
              "#bd3786"
             ],
             [
              0.5555555555555556,
              "#d8576b"
             ],
             [
              0.6666666666666666,
              "#ed7953"
             ],
             [
              0.7777777777777778,
              "#fb9f3a"
             ],
             [
              0.8888888888888888,
              "#fdca26"
             ],
             [
              1.0,
              "#f0f921"
             ]
            ]
           }
          ],
          "choropleth": [
           {
            "type": "choropleth",
            "colorbar": {
             "outlinewidth": 0,
             "ticks": ""
            }
           }
          ],
          "histogram2d": [
           {
            "type": "histogram2d",
            "colorbar": {
             "outlinewidth": 0,
             "ticks": ""
            },
            "colorscale": [
             [
              0.0,
              "#0d0887"
             ],
             [
              0.1111111111111111,
              "#46039f"
             ],
             [
              0.2222222222222222,
              "#7201a8"
             ],
             [
              0.3333333333333333,
              "#9c179e"
             ],
             [
              0.4444444444444444,
              "#bd3786"
             ],
             [
              0.5555555555555556,
              "#d8576b"
             ],
             [
              0.6666666666666666,
              "#ed7953"
             ],
             [
              0.7777777777777778,
              "#fb9f3a"
             ],
             [
              0.8888888888888888,
              "#fdca26"
             ],
             [
              1.0,
              "#f0f921"
             ]
            ]
           }
          ],
          "heatmap": [
           {
            "type": "heatmap",
            "colorbar": {
             "outlinewidth": 0,
             "ticks": ""
            },
            "colorscale": [
             [
              0.0,
              "#0d0887"
             ],
             [
              0.1111111111111111,
              "#46039f"
             ],
             [
              0.2222222222222222,
              "#7201a8"
             ],
             [
              0.3333333333333333,
              "#9c179e"
             ],
             [
              0.4444444444444444,
              "#bd3786"
             ],
             [
              0.5555555555555556,
              "#d8576b"
             ],
             [
              0.6666666666666666,
              "#ed7953"
             ],
             [
              0.7777777777777778,
              "#fb9f3a"
             ],
             [
              0.8888888888888888,
              "#fdca26"
             ],
             [
              1.0,
              "#f0f921"
             ]
            ]
           }
          ],
          "heatmapgl": [
           {
            "type": "heatmapgl",
            "colorbar": {
             "outlinewidth": 0,
             "ticks": ""
            },
            "colorscale": [
             [
              0.0,
              "#0d0887"
             ],
             [
              0.1111111111111111,
              "#46039f"
             ],
             [
              0.2222222222222222,
              "#7201a8"
             ],
             [
              0.3333333333333333,
              "#9c179e"
             ],
             [
              0.4444444444444444,
              "#bd3786"
             ],
             [
              0.5555555555555556,
              "#d8576b"
             ],
             [
              0.6666666666666666,
              "#ed7953"
             ],
             [
              0.7777777777777778,
              "#fb9f3a"
             ],
             [
              0.8888888888888888,
              "#fdca26"
             ],
             [
              1.0,
              "#f0f921"
             ]
            ]
           }
          ],
          "contourcarpet": [
           {
            "type": "contourcarpet",
            "colorbar": {
             "outlinewidth": 0,
             "ticks": ""
            }
           }
          ],
          "contour": [
           {
            "type": "contour",
            "colorbar": {
             "outlinewidth": 0,
             "ticks": ""
            },
            "colorscale": [
             [
              0.0,
              "#0d0887"
             ],
             [
              0.1111111111111111,
              "#46039f"
             ],
             [
              0.2222222222222222,
              "#7201a8"
             ],
             [
              0.3333333333333333,
              "#9c179e"
             ],
             [
              0.4444444444444444,
              "#bd3786"
             ],
             [
              0.5555555555555556,
              "#d8576b"
             ],
             [
              0.6666666666666666,
              "#ed7953"
             ],
             [
              0.7777777777777778,
              "#fb9f3a"
             ],
             [
              0.8888888888888888,
              "#fdca26"
             ],
             [
              1.0,
              "#f0f921"
             ]
            ]
           }
          ],
          "surface": [
           {
            "type": "surface",
            "colorbar": {
             "outlinewidth": 0,
             "ticks": ""
            },
            "colorscale": [
             [
              0.0,
              "#0d0887"
             ],
             [
              0.1111111111111111,
              "#46039f"
             ],
             [
              0.2222222222222222,
              "#7201a8"
             ],
             [
              0.3333333333333333,
              "#9c179e"
             ],
             [
              0.4444444444444444,
              "#bd3786"
             ],
             [
              0.5555555555555556,
              "#d8576b"
             ],
             [
              0.6666666666666666,
              "#ed7953"
             ],
             [
              0.7777777777777778,
              "#fb9f3a"
             ],
             [
              0.8888888888888888,
              "#fdca26"
             ],
             [
              1.0,
              "#f0f921"
             ]
            ]
           }
          ],
          "mesh3d": [
           {
            "type": "mesh3d",
            "colorbar": {
             "outlinewidth": 0,
             "ticks": ""
            }
           }
          ],
          "scatter": [
           {
            "marker": {
             "line": {
              "color": "#283442"
             }
            },
            "type": "scatter"
           }
          ],
          "parcoords": [
           {
            "type": "parcoords",
            "line": {
             "colorbar": {
              "outlinewidth": 0,
              "ticks": ""
             }
            }
           }
          ],
          "scatterpolargl": [
           {
            "type": "scatterpolargl",
            "marker": {
             "colorbar": {
              "outlinewidth": 0,
              "ticks": ""
             }
            }
           }
          ],
          "bar": [
           {
            "error_x": {
             "color": "#f2f5fa"
            },
            "error_y": {
             "color": "#f2f5fa"
            },
            "marker": {
             "line": {
              "color": "rgb(17,17,17)",
              "width": 0.5
             },
             "pattern": {
              "fillmode": "overlay",
              "size": 10,
              "solidity": 0.2
             }
            },
            "type": "bar"
           }
          ],
          "scattergeo": [
           {
            "type": "scattergeo",
            "marker": {
             "colorbar": {
              "outlinewidth": 0,
              "ticks": ""
             }
            }
           }
          ],
          "scatterpolar": [
           {
            "type": "scatterpolar",
            "marker": {
             "colorbar": {
              "outlinewidth": 0,
              "ticks": ""
             }
            }
           }
          ],
          "histogram": [
           {
            "marker": {
             "pattern": {
              "fillmode": "overlay",
              "size": 10,
              "solidity": 0.2
             }
            },
            "type": "histogram"
           }
          ],
          "scattergl": [
           {
            "marker": {
             "line": {
              "color": "#283442"
             }
            },
            "type": "scattergl"
           }
          ],
          "scatter3d": [
           {
            "type": "scatter3d",
            "line": {
             "colorbar": {
              "outlinewidth": 0,
              "ticks": ""
             }
            },
            "marker": {
             "colorbar": {
              "outlinewidth": 0,
              "ticks": ""
             }
            }
           }
          ],
          "scattermapbox": [
           {
            "type": "scattermapbox",
            "marker": {
             "colorbar": {
              "outlinewidth": 0,
              "ticks": ""
             }
            }
           }
          ],
          "scatterternary": [
           {
            "type": "scatterternary",
            "marker": {
             "colorbar": {
              "outlinewidth": 0,
              "ticks": ""
             }
            }
           }
          ],
          "scattercarpet": [
           {
            "type": "scattercarpet",
            "marker": {
             "colorbar": {
              "outlinewidth": 0,
              "ticks": ""
             }
            }
           }
          ],
          "carpet": [
           {
            "aaxis": {
             "endlinecolor": "#A2B1C6",
             "gridcolor": "#506784",
             "linecolor": "#506784",
             "minorgridcolor": "#506784",
             "startlinecolor": "#A2B1C6"
            },
            "baxis": {
             "endlinecolor": "#A2B1C6",
             "gridcolor": "#506784",
             "linecolor": "#506784",
             "minorgridcolor": "#506784",
             "startlinecolor": "#A2B1C6"
            },
            "type": "carpet"
           }
          ],
          "table": [
           {
            "cells": {
             "fill": {
              "color": "#506784"
             },
             "line": {
              "color": "rgb(17,17,17)"
             }
            },
            "header": {
             "fill": {
              "color": "#2a3f5f"
             },
             "line": {
              "color": "rgb(17,17,17)"
             }
            },
            "type": "table"
           }
          ],
          "barpolar": [
           {
            "marker": {
             "line": {
              "color": "rgb(17,17,17)",
              "width": 0.5
             },
             "pattern": {
              "fillmode": "overlay",
              "size": 10,
              "solidity": 0.2
             }
            },
            "type": "barpolar"
           }
          ],
          "pie": [
           {
            "automargin": true,
            "type": "pie"
           }
          ]
         },
         "layout": {
          "autotypenumbers": "strict",
          "colorway": [
           "#636efa",
           "#EF553B",
           "#00cc96",
           "#ab63fa",
           "#FFA15A",
           "#19d3f3",
           "#FF6692",
           "#B6E880",
           "#FF97FF",
           "#FECB52"
          ],
          "font": {
           "color": "#f2f5fa"
          },
          "hovermode": "closest",
          "hoverlabel": {
           "align": "left"
          },
          "paper_bgcolor": "rgb(17,17,17)",
          "plot_bgcolor": "rgb(17,17,17)",
          "polar": {
           "bgcolor": "rgb(17,17,17)",
           "angularaxis": {
            "gridcolor": "#506784",
            "linecolor": "#506784",
            "ticks": ""
           },
           "radialaxis": {
            "gridcolor": "#506784",
            "linecolor": "#506784",
            "ticks": ""
           }
          },
          "ternary": {
           "bgcolor": "rgb(17,17,17)",
           "aaxis": {
            "gridcolor": "#506784",
            "linecolor": "#506784",
            "ticks": ""
           },
           "baxis": {
            "gridcolor": "#506784",
            "linecolor": "#506784",
            "ticks": ""
           },
           "caxis": {
            "gridcolor": "#506784",
            "linecolor": "#506784",
            "ticks": ""
           }
          },
          "coloraxis": {
           "colorbar": {
            "outlinewidth": 0,
            "ticks": ""
           }
          },
          "colorscale": {
           "sequential": [
            [
             0.0,
             "#0d0887"
            ],
            [
             0.1111111111111111,
             "#46039f"
            ],
            [
             0.2222222222222222,
             "#7201a8"
            ],
            [
             0.3333333333333333,
             "#9c179e"
            ],
            [
             0.4444444444444444,
             "#bd3786"
            ],
            [
             0.5555555555555556,
             "#d8576b"
            ],
            [
             0.6666666666666666,
             "#ed7953"
            ],
            [
             0.7777777777777778,
             "#fb9f3a"
            ],
            [
             0.8888888888888888,
             "#fdca26"
            ],
            [
             1.0,
             "#f0f921"
            ]
           ],
           "sequentialminus": [
            [
             0.0,
             "#0d0887"
            ],
            [
             0.1111111111111111,
             "#46039f"
            ],
            [
             0.2222222222222222,
             "#7201a8"
            ],
            [
             0.3333333333333333,
             "#9c179e"
            ],
            [
             0.4444444444444444,
             "#bd3786"
            ],
            [
             0.5555555555555556,
             "#d8576b"
            ],
            [
             0.6666666666666666,
             "#ed7953"
            ],
            [
             0.7777777777777778,
             "#fb9f3a"
            ],
            [
             0.8888888888888888,
             "#fdca26"
            ],
            [
             1.0,
             "#f0f921"
            ]
           ],
           "diverging": [
            [
             0,
             "#8e0152"
            ],
            [
             0.1,
             "#c51b7d"
            ],
            [
             0.2,
             "#de77ae"
            ],
            [
             0.3,
             "#f1b6da"
            ],
            [
             0.4,
             "#fde0ef"
            ],
            [
             0.5,
             "#f7f7f7"
            ],
            [
             0.6,
             "#e6f5d0"
            ],
            [
             0.7,
             "#b8e186"
            ],
            [
             0.8,
             "#7fbc41"
            ],
            [
             0.9,
             "#4d9221"
            ],
            [
             1,
             "#276419"
            ]
           ]
          },
          "xaxis": {
           "gridcolor": "#283442",
           "linecolor": "#506784",
           "ticks": "",
           "title": {
            "standoff": 15
           },
           "zerolinecolor": "#283442",
           "automargin": true,
           "zerolinewidth": 2
          },
          "yaxis": {
           "gridcolor": "#283442",
           "linecolor": "#506784",
           "ticks": "",
           "title": {
            "standoff": 15
           },
           "zerolinecolor": "#283442",
           "automargin": true,
           "zerolinewidth": 2
          },
          "scene": {
           "xaxis": {
            "backgroundcolor": "rgb(17,17,17)",
            "gridcolor": "#506784",
            "linecolor": "#506784",
            "showbackground": true,
            "ticks": "",
            "zerolinecolor": "#C8D4E3",
            "gridwidth": 2
           },
           "yaxis": {
            "backgroundcolor": "rgb(17,17,17)",
            "gridcolor": "#506784",
            "linecolor": "#506784",
            "showbackground": true,
            "ticks": "",
            "zerolinecolor": "#C8D4E3",
            "gridwidth": 2
           },
           "zaxis": {
            "backgroundcolor": "rgb(17,17,17)",
            "gridcolor": "#506784",
            "linecolor": "#506784",
            "showbackground": true,
            "ticks": "",
            "zerolinecolor": "#C8D4E3",
            "gridwidth": 2
           }
          },
          "shapedefaults": {
           "line": {
            "color": "#f2f5fa"
           }
          },
          "annotationdefaults": {
           "arrowcolor": "#f2f5fa",
           "arrowhead": 0,
           "arrowwidth": 1
          },
          "geo": {
           "bgcolor": "rgb(17,17,17)",
           "landcolor": "rgb(17,17,17)",
           "subunitcolor": "#506784",
           "showland": true,
           "showlakes": true,
           "lakecolor": "rgb(17,17,17)"
          },
          "title": {
           "x": 0.05
          },
          "updatemenudefaults": {
           "bgcolor": "#506784",
           "borderwidth": 0
          },
          "sliderdefaults": {
           "bgcolor": "#C8D4E3",
           "borderwidth": 1,
           "bordercolor": "rgb(17,17,17)",
           "tickwidth": 0
          },
          "mapbox": {
           "style": "dark"
          }
         }
        },
        "xaxis": {
         "anchor": "y",
         "domain": [
          0.0,
          1.0
         ],
         "title": {
          "text": "month"
         }
        },
        "yaxis": {
         "anchor": "x",
         "domain": [
          0.0,
          1.0
         ],
         "title": {
          "text": "Total Cost to Serve"
         }
        },
        "coloraxis": {
         "colorbar": {
          "title": {
           "text": "Total Cost to Serve"
          }
         },
         "colorscale": [
          [
           0.0,
           "#0d0887"
          ],
          [
           0.1111111111111111,
           "#46039f"
          ],
          [
           0.2222222222222222,
           "#7201a8"
          ],
          [
           0.3333333333333333,
           "#9c179e"
          ],
          [
           0.4444444444444444,
           "#bd3786"
          ],
          [
           0.5555555555555556,
           "#d8576b"
          ],
          [
           0.6666666666666666,
           "#ed7953"
          ],
          [
           0.7777777777777778,
           "#fb9f3a"
          ],
          [
           0.8888888888888888,
           "#fdca26"
          ],
          [
           1.0,
           "#f0f921"
          ]
         ]
        },
        "legend": {
         "tracegroupgap": 0
        },
        "title": {
         "text": "Total Cost per Month"
        },
        "barmode": "relative"
       },
       "config": {
        "plotlyServerURL": "https://plot.ly"
       }
      },
      "text/html": "<div>                            <div id=\"be42c724-da63-46e4-b366-31cb2a4aaeda\" class=\"plotly-graph-div\" style=\"height:525px; width:100%;\"></div>            <script type=\"text/javascript\">                require([\"plotly\"], function(Plotly) {                    window.PLOTLYENV=window.PLOTLYENV || {};                                    if (document.getElementById(\"be42c724-da63-46e4-b366-31cb2a4aaeda\")) {                    Plotly.newPlot(                        \"be42c724-da63-46e4-b366-31cb2a4aaeda\",                        [{\"alignmentgroup\":\"True\",\"hovertemplate\":\"month=%{x}<br>Total Cost to Serve=%{marker.color}<extra></extra>\",\"legendgroup\":\"\",\"marker\":{\"color\":[60.04,62.9,17060.23,10740.65,7915.35,6819.3099999999995,5744.32,7791.820000000001,8942.47,7581.48],\"coloraxis\":\"coloraxis\",\"pattern\":{\"shape\":\"\"}},\"name\":\"\",\"offsetgroup\":\"\",\"orientation\":\"v\",\"showlegend\":false,\"textposition\":\"auto\",\"x\":[\"2023-01\",\"2023-02\",\"2023-05\",\"2023-06\",\"2023-07\",\"2023-08\",\"2023-09\",\"2023-10\",\"2023-11\",\"2023-12\"],\"xaxis\":\"x\",\"y\":[60.04,62.9,17060.23,10740.65,7915.35,6819.3099999999995,5744.32,7791.820000000001,8942.47,7581.48],\"yaxis\":\"y\",\"type\":\"bar\"}],                        {\"template\":{\"data\":{\"histogram2dcontour\":[{\"type\":\"histogram2dcontour\",\"colorbar\":{\"outlinewidth\":0,\"ticks\":\"\"},\"colorscale\":[[0.0,\"#0d0887\"],[0.1111111111111111,\"#46039f\"],[0.2222222222222222,\"#7201a8\"],[0.3333333333333333,\"#9c179e\"],[0.4444444444444444,\"#bd3786\"],[0.5555555555555556,\"#d8576b\"],[0.6666666666666666,\"#ed7953\"],[0.7777777777777778,\"#fb9f3a\"],[0.8888888888888888,\"#fdca26\"],[1.0,\"#f0f921\"]]}],\"choropleth\":[{\"type\":\"choropleth\",\"colorbar\":{\"outlinewidth\":0,\"ticks\":\"\"}}],\"histogram2d\":[{\"type\":\"histogram2d\",\"colorbar\":{\"outlinewidth\":0,\"ticks\":\"\"},\"colorscale\":[[0.0,\"#0d0887\"],[0.1111111111111111,\"#46039f\"],[0.2222222222222222,\"#7201a8\"],[0.3333333333333333,\"#9c179e\"],[0.4444444444444444,\"#bd3786\"],[0.5555555555555556,\"#d8576b\"],[0.6666666666666666,\"#ed7953\"],[0.7777777777777778,\"#fb9f3a\"],[0.8888888888888888,\"#fdca26\"],[1.0,\"#f0f921\"]]}],\"heatmap\":[{\"type\":\"heatmap\",\"colorbar\":{\"outlinewidth\":0,\"ticks\":\"\"},\"colorscale\":[[0.0,\"#0d0887\"],[0.1111111111111111,\"#46039f\"],[0.2222222222222222,\"#7201a8\"],[0.3333333333333333,\"#9c179e\"],[0.4444444444444444,\"#bd3786\"],[0.5555555555555556,\"#d8576b\"],[0.6666666666666666,\"#ed7953\"],[0.7777777777777778,\"#fb9f3a\"],[0.8888888888888888,\"#fdca26\"],[1.0,\"#f0f921\"]]}],\"heatmapgl\":[{\"type\":\"heatmapgl\",\"colorbar\":{\"outlinewidth\":0,\"ticks\":\"\"},\"colorscale\":[[0.0,\"#0d0887\"],[0.1111111111111111,\"#46039f\"],[0.2222222222222222,\"#7201a8\"],[0.3333333333333333,\"#9c179e\"],[0.4444444444444444,\"#bd3786\"],[0.5555555555555556,\"#d8576b\"],[0.6666666666666666,\"#ed7953\"],[0.7777777777777778,\"#fb9f3a\"],[0.8888888888888888,\"#fdca26\"],[1.0,\"#f0f921\"]]}],\"contourcarpet\":[{\"type\":\"contourcarpet\",\"colorbar\":{\"outlinewidth\":0,\"ticks\":\"\"}}],\"contour\":[{\"type\":\"contour\",\"colorbar\":{\"outlinewidth\":0,\"ticks\":\"\"},\"colorscale\":[[0.0,\"#0d0887\"],[0.1111111111111111,\"#46039f\"],[0.2222222222222222,\"#7201a8\"],[0.3333333333333333,\"#9c179e\"],[0.4444444444444444,\"#bd3786\"],[0.5555555555555556,\"#d8576b\"],[0.6666666666666666,\"#ed7953\"],[0.7777777777777778,\"#fb9f3a\"],[0.8888888888888888,\"#fdca26\"],[1.0,\"#f0f921\"]]}],\"surface\":[{\"type\":\"surface\",\"colorbar\":{\"outlinewidth\":0,\"ticks\":\"\"},\"colorscale\":[[0.0,\"#0d0887\"],[0.1111111111111111,\"#46039f\"],[0.2222222222222222,\"#7201a8\"],[0.3333333333333333,\"#9c179e\"],[0.4444444444444444,\"#bd3786\"],[0.5555555555555556,\"#d8576b\"],[0.6666666666666666,\"#ed7953\"],[0.7777777777777778,\"#fb9f3a\"],[0.8888888888888888,\"#fdca26\"],[1.0,\"#f0f921\"]]}],\"mesh3d\":[{\"type\":\"mesh3d\",\"colorbar\":{\"outlinewidth\":0,\"ticks\":\"\"}}],\"scatter\":[{\"marker\":{\"line\":{\"color\":\"#283442\"}},\"type\":\"scatter\"}],\"parcoords\":[{\"type\":\"parcoords\",\"line\":{\"colorbar\":{\"outlinewidth\":0,\"ticks\":\"\"}}}],\"scatterpolargl\":[{\"type\":\"scatterpolargl\",\"marker\":{\"colorbar\":{\"outlinewidth\":0,\"ticks\":\"\"}}}],\"bar\":[{\"error_x\":{\"color\":\"#f2f5fa\"},\"error_y\":{\"color\":\"#f2f5fa\"},\"marker\":{\"line\":{\"color\":\"rgb(17,17,17)\",\"width\":0.5},\"pattern\":{\"fillmode\":\"overlay\",\"size\":10,\"solidity\":0.2}},\"type\":\"bar\"}],\"scattergeo\":[{\"type\":\"scattergeo\",\"marker\":{\"colorbar\":{\"outlinewidth\":0,\"ticks\":\"\"}}}],\"scatterpolar\":[{\"type\":\"scatterpolar\",\"marker\":{\"colorbar\":{\"outlinewidth\":0,\"ticks\":\"\"}}}],\"histogram\":[{\"marker\":{\"pattern\":{\"fillmode\":\"overlay\",\"size\":10,\"solidity\":0.2}},\"type\":\"histogram\"}],\"scattergl\":[{\"marker\":{\"line\":{\"color\":\"#283442\"}},\"type\":\"scattergl\"}],\"scatter3d\":[{\"type\":\"scatter3d\",\"line\":{\"colorbar\":{\"outlinewidth\":0,\"ticks\":\"\"}},\"marker\":{\"colorbar\":{\"outlinewidth\":0,\"ticks\":\"\"}}}],\"scattermapbox\":[{\"type\":\"scattermapbox\",\"marker\":{\"colorbar\":{\"outlinewidth\":0,\"ticks\":\"\"}}}],\"scatterternary\":[{\"type\":\"scatterternary\",\"marker\":{\"colorbar\":{\"outlinewidth\":0,\"ticks\":\"\"}}}],\"scattercarpet\":[{\"type\":\"scattercarpet\",\"marker\":{\"colorbar\":{\"outlinewidth\":0,\"ticks\":\"\"}}}],\"carpet\":[{\"aaxis\":{\"endlinecolor\":\"#A2B1C6\",\"gridcolor\":\"#506784\",\"linecolor\":\"#506784\",\"minorgridcolor\":\"#506784\",\"startlinecolor\":\"#A2B1C6\"},\"baxis\":{\"endlinecolor\":\"#A2B1C6\",\"gridcolor\":\"#506784\",\"linecolor\":\"#506784\",\"minorgridcolor\":\"#506784\",\"startlinecolor\":\"#A2B1C6\"},\"type\":\"carpet\"}],\"table\":[{\"cells\":{\"fill\":{\"color\":\"#506784\"},\"line\":{\"color\":\"rgb(17,17,17)\"}},\"header\":{\"fill\":{\"color\":\"#2a3f5f\"},\"line\":{\"color\":\"rgb(17,17,17)\"}},\"type\":\"table\"}],\"barpolar\":[{\"marker\":{\"line\":{\"color\":\"rgb(17,17,17)\",\"width\":0.5},\"pattern\":{\"fillmode\":\"overlay\",\"size\":10,\"solidity\":0.2}},\"type\":\"barpolar\"}],\"pie\":[{\"automargin\":true,\"type\":\"pie\"}]},\"layout\":{\"autotypenumbers\":\"strict\",\"colorway\":[\"#636efa\",\"#EF553B\",\"#00cc96\",\"#ab63fa\",\"#FFA15A\",\"#19d3f3\",\"#FF6692\",\"#B6E880\",\"#FF97FF\",\"#FECB52\"],\"font\":{\"color\":\"#f2f5fa\"},\"hovermode\":\"closest\",\"hoverlabel\":{\"align\":\"left\"},\"paper_bgcolor\":\"rgb(17,17,17)\",\"plot_bgcolor\":\"rgb(17,17,17)\",\"polar\":{\"bgcolor\":\"rgb(17,17,17)\",\"angularaxis\":{\"gridcolor\":\"#506784\",\"linecolor\":\"#506784\",\"ticks\":\"\"},\"radialaxis\":{\"gridcolor\":\"#506784\",\"linecolor\":\"#506784\",\"ticks\":\"\"}},\"ternary\":{\"bgcolor\":\"rgb(17,17,17)\",\"aaxis\":{\"gridcolor\":\"#506784\",\"linecolor\":\"#506784\",\"ticks\":\"\"},\"baxis\":{\"gridcolor\":\"#506784\",\"linecolor\":\"#506784\",\"ticks\":\"\"},\"caxis\":{\"gridcolor\":\"#506784\",\"linecolor\":\"#506784\",\"ticks\":\"\"}},\"coloraxis\":{\"colorbar\":{\"outlinewidth\":0,\"ticks\":\"\"}},\"colorscale\":{\"sequential\":[[0.0,\"#0d0887\"],[0.1111111111111111,\"#46039f\"],[0.2222222222222222,\"#7201a8\"],[0.3333333333333333,\"#9c179e\"],[0.4444444444444444,\"#bd3786\"],[0.5555555555555556,\"#d8576b\"],[0.6666666666666666,\"#ed7953\"],[0.7777777777777778,\"#fb9f3a\"],[0.8888888888888888,\"#fdca26\"],[1.0,\"#f0f921\"]],\"sequentialminus\":[[0.0,\"#0d0887\"],[0.1111111111111111,\"#46039f\"],[0.2222222222222222,\"#7201a8\"],[0.3333333333333333,\"#9c179e\"],[0.4444444444444444,\"#bd3786\"],[0.5555555555555556,\"#d8576b\"],[0.6666666666666666,\"#ed7953\"],[0.7777777777777778,\"#fb9f3a\"],[0.8888888888888888,\"#fdca26\"],[1.0,\"#f0f921\"]],\"diverging\":[[0,\"#8e0152\"],[0.1,\"#c51b7d\"],[0.2,\"#de77ae\"],[0.3,\"#f1b6da\"],[0.4,\"#fde0ef\"],[0.5,\"#f7f7f7\"],[0.6,\"#e6f5d0\"],[0.7,\"#b8e186\"],[0.8,\"#7fbc41\"],[0.9,\"#4d9221\"],[1,\"#276419\"]]},\"xaxis\":{\"gridcolor\":\"#283442\",\"linecolor\":\"#506784\",\"ticks\":\"\",\"title\":{\"standoff\":15},\"zerolinecolor\":\"#283442\",\"automargin\":true,\"zerolinewidth\":2},\"yaxis\":{\"gridcolor\":\"#283442\",\"linecolor\":\"#506784\",\"ticks\":\"\",\"title\":{\"standoff\":15},\"zerolinecolor\":\"#283442\",\"automargin\":true,\"zerolinewidth\":2},\"scene\":{\"xaxis\":{\"backgroundcolor\":\"rgb(17,17,17)\",\"gridcolor\":\"#506784\",\"linecolor\":\"#506784\",\"showbackground\":true,\"ticks\":\"\",\"zerolinecolor\":\"#C8D4E3\",\"gridwidth\":2},\"yaxis\":{\"backgroundcolor\":\"rgb(17,17,17)\",\"gridcolor\":\"#506784\",\"linecolor\":\"#506784\",\"showbackground\":true,\"ticks\":\"\",\"zerolinecolor\":\"#C8D4E3\",\"gridwidth\":2},\"zaxis\":{\"backgroundcolor\":\"rgb(17,17,17)\",\"gridcolor\":\"#506784\",\"linecolor\":\"#506784\",\"showbackground\":true,\"ticks\":\"\",\"zerolinecolor\":\"#C8D4E3\",\"gridwidth\":2}},\"shapedefaults\":{\"line\":{\"color\":\"#f2f5fa\"}},\"annotationdefaults\":{\"arrowcolor\":\"#f2f5fa\",\"arrowhead\":0,\"arrowwidth\":1},\"geo\":{\"bgcolor\":\"rgb(17,17,17)\",\"landcolor\":\"rgb(17,17,17)\",\"subunitcolor\":\"#506784\",\"showland\":true,\"showlakes\":true,\"lakecolor\":\"rgb(17,17,17)\"},\"title\":{\"x\":0.05},\"updatemenudefaults\":{\"bgcolor\":\"#506784\",\"borderwidth\":0},\"sliderdefaults\":{\"bgcolor\":\"#C8D4E3\",\"borderwidth\":1,\"bordercolor\":\"rgb(17,17,17)\",\"tickwidth\":0},\"mapbox\":{\"style\":\"dark\"}}},\"xaxis\":{\"anchor\":\"y\",\"domain\":[0.0,1.0],\"title\":{\"text\":\"month\"}},\"yaxis\":{\"anchor\":\"x\",\"domain\":[0.0,1.0],\"title\":{\"text\":\"Total Cost to Serve\"}},\"coloraxis\":{\"colorbar\":{\"title\":{\"text\":\"Total Cost to Serve\"}},\"colorscale\":[[0.0,\"#0d0887\"],[0.1111111111111111,\"#46039f\"],[0.2222222222222222,\"#7201a8\"],[0.3333333333333333,\"#9c179e\"],[0.4444444444444444,\"#bd3786\"],[0.5555555555555556,\"#d8576b\"],[0.6666666666666666,\"#ed7953\"],[0.7777777777777778,\"#fb9f3a\"],[0.8888888888888888,\"#fdca26\"],[1.0,\"#f0f921\"]]},\"legend\":{\"tracegroupgap\":0},\"title\":{\"text\":\"Total Cost per Month\"},\"barmode\":\"relative\"},                        {\"responsive\": true}                    ).then(function(){\n                            \nvar gd = document.getElementById('be42c724-da63-46e4-b366-31cb2a4aaeda');\nvar x = new MutationObserver(function (mutations, observer) {{\n        var display = window.getComputedStyle(gd).display;\n        if (!display || display === 'none') {{\n            console.log([gd, 'removed!']);\n            Plotly.purge(gd);\n            observer.disconnect();\n        }}\n}});\n\n// Listen for the removal of the full notebook cells\nvar notebookContainer = gd.closest('#notebook-container');\nif (notebookContainer) {{\n    x.observe(notebookContainer, {childList: true});\n}}\n\n// Listen for the clearing of the current output cell\nvar outputEl = gd.closest('.output');\nif (outputEl) {{\n    x.observe(outputEl, {childList: true});\n}}\n\n                        })                };                });            </script>        </div>"
     },
     "metadata": {},
     "output_type": "display_data"
    },
    {
     "data": {
      "text/plain": "/Users/carambolas/DataspellProjects/data-analytics-new-oojcsi/user_engagement_report.pdf",
      "text/html": "<a href='user_engagement_report.pdf' target='_blank'>user_engagement_report.pdf</a><br>"
     },
     "execution_count": 28,
     "metadata": {},
     "output_type": "execute_result"
    }
   ],
   "source": [
    "import plotly.express as px\n",
    "import plotly.io as pio\n",
    "from IPython.display import FileLink\n",
    "from reportlab.pdfgen import canvas\n",
    "from reportlab.lib.pagesizes import letter\n",
    "\n",
    "# SQL Queries\n",
    "query_monthly_members = \"\"\"\n",
    "SELECT strftime('%Y-%m', date_month) AS month, eligible_members AS ELIGIBLE_MEMBERS\n",
    "FROM organizations_monthly\n",
    "WHERE organization_id = 4\n",
    "GROUP BY month\n",
    "ORDER BY month;\n",
    "\"\"\"\n",
    "\n",
    "query_episodes_by_program = \"\"\"\n",
    "SELECT PROGRAM, COUNT(*) AS EPISODES_COUNT\n",
    "FROM episodes\n",
    "WHERE ORGANIZATION_ID = 4\n",
    "GROUP BY PROGRAM;\n",
    "\"\"\"\n",
    "\n",
    "query_utilization_rate = \"\"\"\n",
    "WITH monthly_episodes AS (\n",
    "  SELECT strftime('%Y-%m', EPISODE_CREATED_AT) AS month, COUNT(EPISODE_ID) AS episodes_opened\n",
    "  FROM episodes\n",
    "  WHERE organization_id = 4\n",
    "  GROUP BY month\n",
    "), monthly_members AS (\n",
    "  SELECT strftime('%Y-%m', date_month) AS month, eligible_members AS ELIGIBLE_MEMBERS\n",
    "  FROM organizations_monthly\n",
    "WHERE organization_id = 4\n",
    "GROUP BY month\n",
    ")\n",
    "SELECT me.month, me.episodes_opened, mm.ELIGIBLE_MEMBERS,\n",
    "ROUND(((me.episodes_opened * 1.0/ mm.ELIGIBLE_MEMBERS) * 100), 2) AS utilization_rate_percentage\n",
    "FROM monthly_episodes me\n",
    "JOIN monthly_members mm ON me.month = mm.month\n",
    "ORDER BY me.month;\n",
    "\"\"\"\n",
    "\n",
    "# Fetching data\n",
    "df_monthly_members = pd.read_sql_query(query_monthly_members, conn)\n",
    "df_episodes_by_program = pd.read_sql_query(query_episodes_by_program, conn)\n",
    "df_utilization_rate = pd.read_sql_query(query_utilization_rate, conn)\n",
    "df_monthly_costs_total = pd.read_sql_query(query_monthly_costs_total, conn)\n",
    "\n",
    "# Visualization 1: Total Members per Month\n",
    "fig_members_per_month = px.bar(df_monthly_members, x='month', y='ELIGIBLE_MEMBERS', title='Total Eligible Members per Month', labels={'ELIGIBLE_MEMBERS': 'Eligible Members'}, color='ELIGIBLE_MEMBERS')\n",
    "fig_members_per_month.show()\n",
    "\n",
    "# Visualization 2: Episodes by Program\n",
    "fig_episodes_by_program = px.pie(df_episodes_by_program, names='PROGRAM', values='EPISODES_COUNT', title=\"Usage by Program's Type\", hole=.3)\n",
    "fig_episodes_by_program.show()\n",
    "\n",
    "# Visualization 3: Utilization Rate per Month\n",
    "fig_utilization_rate = px.line(df_utilization_rate, x='month', y='utilization_rate_percentage', title='Utilization Rate Percentage per Month', labels={'utilization_rate_percentage': 'Utilization Rate (%)'})\n",
    "fig_utilization_rate.add_bar(x=df_utilization_rate['month'], y=df_utilization_rate['episodes_opened'], name='Episodes Opened')\n",
    "fig_utilization_rate.show()\n",
    "\n",
    "# Visualization 4: Total Cost to Serve per Month\n",
    "fig_total_cost_to_serve = px.bar(\n",
    "    df_monthly_costs_total,\n",
    "    x='month',\n",
    "    y='total_cost_to_serve',\n",
    "    title='Total Cost per Month',\n",
    "    labels={'total_cost_to_serve': 'Total Cost to Serve'},\n",
    "    color='total_cost_to_serve'\n",
    ")\n",
    "fig_total_cost_to_serve.show()\n",
    "\n",
    "# Save Plotly figures as images\n",
    "pio.write_image(fig_members_per_month, 'Sample Data/fig_members_per_month.png')\n",
    "pio.write_image(fig_episodes_by_program, 'Sample Data/fig_episodes_by_program.png')\n",
    "pio.write_image(fig_utilization_rate, 'Sample Data/fig_utilization_rate.png')\n",
    "pio.write_image(fig_total_cost_to_serve, 'Sample Data/fig_total_cost_per_month.png')\n",
    "\n",
    "\n",
    "# Create a PDF canvas with the letter page size\n",
    "c = canvas.Canvas(\"user_engagement_report.pdf\", pagesize=letter)\n",
    "width, height = letter\n",
    "\n",
    "# Set title with a contrasting color (e.g., black) and larger size\n",
    "c.setFont(\"Helvetica-Bold\", 24)\n",
    "c.setFillColorRGB(0, 0, 0)  # Set text color to black\n",
    "c.drawCentredString(width / 2.0, height - 100, \"User Engagement Report for Dunder Miflin\")\n",
    "\n",
    "# Function to add images without cutting off\n",
    "def add_image(image_path, position, c, width=500, height=180):\n",
    "    x = (letter[0] - width) / 2  # Center the image\n",
    "    c.drawImage(image_path, x, position, width=width, height=height, mask='auto')\n",
    "\n",
    "# Calculate positions for images and add them\n",
    "positions = [height - 150 - ((i + 1) * (height / 5)) for i in range(4)]\n",
    "images = ['Sample Data/fig_members_per_month.png', 'Sample Data/fig_episodes_by_program.png', 'Sample Data/fig_utilization_rate.png', 'Sample Data/fig_total_cost_per_month.png']\n",
    "\n",
    "for position, image in zip(positions, images):\n",
    "    add_image(image, position, c)\n",
    "\n",
    "c.showPage()\n",
    "c.save()\n",
    "\n",
    "# Generate a download link for the PDF (This line works in Jupyter notebooks)\n",
    "FileLink(r'user_engagement_report.pdf')"
   ],
   "metadata": {
    "collapsed": false,
    "ExecuteTime": {
     "end_time": "2024-03-04T06:05:10.029187Z",
     "start_time": "2024-03-04T06:05:09.624904Z"
    }
   }
  },
  {
   "cell_type": "code",
   "execution_count": 29,
   "outputs": [],
   "source": [
    "conn.close()"
   ],
   "metadata": {
    "collapsed": false,
    "ExecuteTime": {
     "end_time": "2024-03-04T06:08:46.052082Z",
     "start_time": "2024-03-04T06:08:46.024959Z"
    }
   }
  }
 ],
 "metadata": {
  "kernelspec": {
   "display_name": "Python 3",
   "language": "python",
   "name": "python3"
  },
  "language_info": {
   "codemirror_mode": {
    "name": "ipython",
    "version": 2
   },
   "file_extension": ".py",
   "mimetype": "text/x-python",
   "name": "python",
   "nbconvert_exporter": "python",
   "pygments_lexer": "ipython2",
   "version": "2.7.6"
  }
 },
 "nbformat": 4,
 "nbformat_minor": 0
}
