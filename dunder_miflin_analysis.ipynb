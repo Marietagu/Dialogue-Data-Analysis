{
 "cells": [
  {
   "cell_type": "code",
   "execution_count": 20,
   "outputs": [],
   "source": [
    "import pandas as pd\n",
    "import sqlite3"
   ],
   "metadata": {
    "collapsed": false,
    "ExecuteTime": {
     "end_time": "2024-03-04T00:21:43.281777Z",
     "start_time": "2024-03-04T00:21:43.269163Z"
    }
   }
  },
  {
   "cell_type": "code",
   "execution_count": 24,
   "outputs": [],
   "source": [
    "conn = sqlite3.connect('dialogue_analysis.db')"
   ],
   "metadata": {
    "collapsed": false,
    "ExecuteTime": {
     "end_time": "2024-03-04T00:22:05.721659Z",
     "start_time": "2024-03-04T00:22:05.710760Z"
    }
   }
  },
  {
   "cell_type": "code",
   "execution_count": 22,
   "outputs": [],
   "source": [
    "episodes_df = pd.read_csv('Sample Data/episodes.csv')\n",
    "organizations_monthly_df = pd.read_csv('Sample Data/organizations_monthly.csv')\n",
    "cost_to_serve_monthly_df = pd.read_csv('Sample Data/cost_to_serve_monthly.csv')"
   ],
   "metadata": {
    "collapsed": false,
    "ExecuteTime": {
     "end_time": "2024-03-04T00:21:44.994863Z",
     "start_time": "2024-03-04T00:21:44.983887Z"
    }
   }
  },
  {
   "cell_type": "code",
   "execution_count": 25,
   "outputs": [
    {
     "data": {
      "text/plain": "12"
     },
     "execution_count": 25,
     "metadata": {},
     "output_type": "execute_result"
    }
   ],
   "source": [
    "episodes_df.to_sql('episodes', conn, if_exists='replace', index=False)\n",
    "organizations_monthly_df.to_sql('organizations_monthly', conn, if_exists='replace', index=False)\n",
    "cost_to_serve_monthly_df.to_sql('cost_to_serve_monthly', conn, if_exists='replace', index=False)"
   ],
   "metadata": {
    "collapsed": false,
    "ExecuteTime": {
     "end_time": "2024-03-04T00:33:02.455568Z",
     "start_time": "2024-03-04T00:33:02.422083Z"
    }
   }
  },
  {
   "cell_type": "markdown",
   "source": [
    "## Utilization Analysis"
   ],
   "metadata": {
    "collapsed": false
   }
  },
  {
   "cell_type": "markdown",
   "source": [
    "Previewing Tables"
   ],
   "metadata": {
    "collapsed": false
   }
  },
  {
   "cell_type": "code",
   "execution_count": 26,
   "outputs": [
    {
     "name": "stdout",
     "output_type": "stream",
     "text": [
      "Episodes Preview:\n"
     ]
    },
    {
     "data": {
      "text/plain": "                                 EPISODE_ID  ORGANIZATION_ID  \\\n0  d0d178b23004534a5ff6723959785ba20ce1971d                5   \n1  ea85cffb681a06788b364d9ce49b61649f8688a5                5   \n2  7624c12a4ef8847e1951c0918d7193a9c3326dc1                5   \n3  9d994173c5775829c6b6badd898972522f038794                5   \n4  6be180209d276715e9256a78e8a73b13fe6a460d                2   \n\n         EPISODE_CREATED_AT       PROGRAM            OUTCOME  \n0  2023-04-10T12:31:41.107Z  primary_care      walkin_clinic  \n1  2023-05-26T12:19:44.878Z  primary_care      walkin_clinic  \n2  2023-06-02T11:22:07.744Z  primary_care  md_np_appointment  \n3  2023-11-24T14:00:17.658Z  primary_care       mhs_coaching  \n4  2023-02-25T12:20:49.917Z  primary_care  md_np_appointment  ",
      "text/html": "<div>\n<style scoped>\n    .dataframe tbody tr th:only-of-type {\n        vertical-align: middle;\n    }\n\n    .dataframe tbody tr th {\n        vertical-align: top;\n    }\n\n    .dataframe thead th {\n        text-align: right;\n    }\n</style>\n<table border=\"1\" class=\"dataframe\">\n  <thead>\n    <tr style=\"text-align: right;\">\n      <th></th>\n      <th>EPISODE_ID</th>\n      <th>ORGANIZATION_ID</th>\n      <th>EPISODE_CREATED_AT</th>\n      <th>PROGRAM</th>\n      <th>OUTCOME</th>\n    </tr>\n  </thead>\n  <tbody>\n    <tr>\n      <th>0</th>\n      <td>d0d178b23004534a5ff6723959785ba20ce1971d</td>\n      <td>5</td>\n      <td>2023-04-10T12:31:41.107Z</td>\n      <td>primary_care</td>\n      <td>walkin_clinic</td>\n    </tr>\n    <tr>\n      <th>1</th>\n      <td>ea85cffb681a06788b364d9ce49b61649f8688a5</td>\n      <td>5</td>\n      <td>2023-05-26T12:19:44.878Z</td>\n      <td>primary_care</td>\n      <td>walkin_clinic</td>\n    </tr>\n    <tr>\n      <th>2</th>\n      <td>7624c12a4ef8847e1951c0918d7193a9c3326dc1</td>\n      <td>5</td>\n      <td>2023-06-02T11:22:07.744Z</td>\n      <td>primary_care</td>\n      <td>md_np_appointment</td>\n    </tr>\n    <tr>\n      <th>3</th>\n      <td>9d994173c5775829c6b6badd898972522f038794</td>\n      <td>5</td>\n      <td>2023-11-24T14:00:17.658Z</td>\n      <td>primary_care</td>\n      <td>mhs_coaching</td>\n    </tr>\n    <tr>\n      <th>4</th>\n      <td>6be180209d276715e9256a78e8a73b13fe6a460d</td>\n      <td>2</td>\n      <td>2023-02-25T12:20:49.917Z</td>\n      <td>primary_care</td>\n      <td>md_np_appointment</td>\n    </tr>\n  </tbody>\n</table>\n</div>"
     },
     "metadata": {},
     "output_type": "display_data"
    },
    {
     "name": "stdout",
     "output_type": "stream",
     "text": [
      "\n",
      "Organizations Monthly Preview:\n"
     ]
    },
    {
     "data": {
      "text/plain": "             DATE_MONTH  ORGANIZATION_ID  ELIGIBLE_MEMBERS   PEPM  \\\n0  2023-10-01T00:00:00Z                6               185   7.47   \n1  2023-06-01T00:00:00Z                6               219   7.47   \n2  2023-01-01T00:00:00Z                1               268  15.71   \n3  2023-03-01T00:00:00Z                1               272  15.71   \n4  2023-09-01T00:00:00Z                4              1436  14.21   \n\n  HAS_PRIMARY_CARE_SINCE    HAS_MENTAL_HEALTH_SINCE  \\\n0   2000-01-01T00:00:00Z                       None   \n1   2000-01-01T00:00:00Z                       None   \n2   2000-01-01T00:00:00Z  2021-01-19T22:58:24.2361Z   \n3   2000-01-01T00:00:00Z  2021-01-19T22:58:24.2361Z   \n4   2000-01-01T00:00:00Z  2021-06-01T12:15:33.8532Z   \n\n                HAS_EAP_SINCE  \n0                        None  \n1                        None  \n2   2021-11-01T16:05:28.0127Z  \n3   2021-11-01T16:05:28.0127Z  \n4  2023-04-05T21:32:35.77486Z  ",
      "text/html": "<div>\n<style scoped>\n    .dataframe tbody tr th:only-of-type {\n        vertical-align: middle;\n    }\n\n    .dataframe tbody tr th {\n        vertical-align: top;\n    }\n\n    .dataframe thead th {\n        text-align: right;\n    }\n</style>\n<table border=\"1\" class=\"dataframe\">\n  <thead>\n    <tr style=\"text-align: right;\">\n      <th></th>\n      <th>DATE_MONTH</th>\n      <th>ORGANIZATION_ID</th>\n      <th>ELIGIBLE_MEMBERS</th>\n      <th>PEPM</th>\n      <th>HAS_PRIMARY_CARE_SINCE</th>\n      <th>HAS_MENTAL_HEALTH_SINCE</th>\n      <th>HAS_EAP_SINCE</th>\n    </tr>\n  </thead>\n  <tbody>\n    <tr>\n      <th>0</th>\n      <td>2023-10-01T00:00:00Z</td>\n      <td>6</td>\n      <td>185</td>\n      <td>7.47</td>\n      <td>2000-01-01T00:00:00Z</td>\n      <td>None</td>\n      <td>None</td>\n    </tr>\n    <tr>\n      <th>1</th>\n      <td>2023-06-01T00:00:00Z</td>\n      <td>6</td>\n      <td>219</td>\n      <td>7.47</td>\n      <td>2000-01-01T00:00:00Z</td>\n      <td>None</td>\n      <td>None</td>\n    </tr>\n    <tr>\n      <th>2</th>\n      <td>2023-01-01T00:00:00Z</td>\n      <td>1</td>\n      <td>268</td>\n      <td>15.71</td>\n      <td>2000-01-01T00:00:00Z</td>\n      <td>2021-01-19T22:58:24.2361Z</td>\n      <td>2021-11-01T16:05:28.0127Z</td>\n    </tr>\n    <tr>\n      <th>3</th>\n      <td>2023-03-01T00:00:00Z</td>\n      <td>1</td>\n      <td>272</td>\n      <td>15.71</td>\n      <td>2000-01-01T00:00:00Z</td>\n      <td>2021-01-19T22:58:24.2361Z</td>\n      <td>2021-11-01T16:05:28.0127Z</td>\n    </tr>\n    <tr>\n      <th>4</th>\n      <td>2023-09-01T00:00:00Z</td>\n      <td>4</td>\n      <td>1436</td>\n      <td>14.21</td>\n      <td>2000-01-01T00:00:00Z</td>\n      <td>2021-06-01T12:15:33.8532Z</td>\n      <td>2023-04-05T21:32:35.77486Z</td>\n    </tr>\n  </tbody>\n</table>\n</div>"
     },
     "metadata": {},
     "output_type": "display_data"
    },
    {
     "name": "stdout",
     "output_type": "stream",
     "text": [
      "\n",
      "Cost to Serve Monthly Preview:\n"
     ]
    },
    {
     "data": {
      "text/plain": "   DATE_MONTH  COST_TO_SERVE_PRIMARY_CARE  COST_TO_SERVE_MENTAL_HEALTH  \\\n0  2023-01-01                       60.04                       334.29   \n1  2023-02-01                       62.90                       312.29   \n2  2023-03-01                       62.96                       298.27   \n3  2023-04-01                       63.77                       320.80   \n4  2023-05-01                       65.27                       276.54   \n\n   COST_TO_SERVE_EAP  \n0             112.27  \n1             111.19  \n2             119.29  \n3             120.93  \n4             114.95  ",
      "text/html": "<div>\n<style scoped>\n    .dataframe tbody tr th:only-of-type {\n        vertical-align: middle;\n    }\n\n    .dataframe tbody tr th {\n        vertical-align: top;\n    }\n\n    .dataframe thead th {\n        text-align: right;\n    }\n</style>\n<table border=\"1\" class=\"dataframe\">\n  <thead>\n    <tr style=\"text-align: right;\">\n      <th></th>\n      <th>DATE_MONTH</th>\n      <th>COST_TO_SERVE_PRIMARY_CARE</th>\n      <th>COST_TO_SERVE_MENTAL_HEALTH</th>\n      <th>COST_TO_SERVE_EAP</th>\n    </tr>\n  </thead>\n  <tbody>\n    <tr>\n      <th>0</th>\n      <td>2023-01-01</td>\n      <td>60.04</td>\n      <td>334.29</td>\n      <td>112.27</td>\n    </tr>\n    <tr>\n      <th>1</th>\n      <td>2023-02-01</td>\n      <td>62.90</td>\n      <td>312.29</td>\n      <td>111.19</td>\n    </tr>\n    <tr>\n      <th>2</th>\n      <td>2023-03-01</td>\n      <td>62.96</td>\n      <td>298.27</td>\n      <td>119.29</td>\n    </tr>\n    <tr>\n      <th>3</th>\n      <td>2023-04-01</td>\n      <td>63.77</td>\n      <td>320.80</td>\n      <td>120.93</td>\n    </tr>\n    <tr>\n      <th>4</th>\n      <td>2023-05-01</td>\n      <td>65.27</td>\n      <td>276.54</td>\n      <td>114.95</td>\n    </tr>\n  </tbody>\n</table>\n</div>"
     },
     "metadata": {},
     "output_type": "display_data"
    }
   ],
   "source": [
    "# episodes table\n",
    "episodes_preview = pd.read_sql_query(\"SELECT * FROM episodes LIMIT 5;\", conn)\n",
    "print(\"Episodes Preview:\")\n",
    "display(episodes_preview)\n",
    "\n",
    "# organizations_monthly table\n",
    "org_monthly_preview = pd.read_sql_query(\"SELECT * FROM organizations_monthly LIMIT 5;\", conn)\n",
    "print(\"\\nOrganizations Monthly Preview:\")\n",
    "display(org_monthly_preview)\n",
    "\n",
    "# cost_to_serve_monthly table\n",
    "cost_serve_monthly_preview = pd.read_sql_query(\"SELECT * FROM cost_to_serve_monthly LIMIT 5;\", conn)\n",
    "print(\"\\nCost to Serve Monthly Preview:\")\n",
    "display(cost_serve_monthly_preview)"
   ],
   "metadata": {
    "collapsed": false,
    "ExecuteTime": {
     "end_time": "2024-03-04T00:38:14.919614Z",
     "start_time": "2024-03-04T00:38:14.887247Z"
    }
   }
  },
  {
   "cell_type": "markdown",
   "source": [
    "Number of episodes by category for the year 2023"
   ],
   "metadata": {
    "collapsed": false
   }
  },
  {
   "cell_type": "code",
   "execution_count": 27,
   "outputs": [
    {
     "data": {
      "text/plain": "         PROGRAM  EPISODES_COUNT\n0            eap              67\n1  mental_health             112\n2   primary_care             550",
      "text/html": "<div>\n<style scoped>\n    .dataframe tbody tr th:only-of-type {\n        vertical-align: middle;\n    }\n\n    .dataframe tbody tr th {\n        vertical-align: top;\n    }\n\n    .dataframe thead th {\n        text-align: right;\n    }\n</style>\n<table border=\"1\" class=\"dataframe\">\n  <thead>\n    <tr style=\"text-align: right;\">\n      <th></th>\n      <th>PROGRAM</th>\n      <th>EPISODES_COUNT</th>\n    </tr>\n  </thead>\n  <tbody>\n    <tr>\n      <th>0</th>\n      <td>eap</td>\n      <td>67</td>\n    </tr>\n    <tr>\n      <th>1</th>\n      <td>mental_health</td>\n      <td>112</td>\n    </tr>\n    <tr>\n      <th>2</th>\n      <td>primary_care</td>\n      <td>550</td>\n    </tr>\n  </tbody>\n</table>\n</div>"
     },
     "metadata": {},
     "output_type": "display_data"
    }
   ],
   "source": [
    "query = \"\"\"\n",
    "SELECT PROGRAM, COUNT(*) AS EPISODES_COUNT\n",
    "FROM episodes\n",
    "WHERE ORGANIZATION_ID = 4\n",
    "GROUP BY PROGRAM;\n",
    "\"\"\"\n",
    "df = pd.read_sql_query(query, conn)\n",
    "display(df)"
   ],
   "metadata": {
    "collapsed": false,
    "ExecuteTime": {
     "end_time": "2024-03-04T00:39:24.762563Z",
     "start_time": "2024-03-04T00:39:24.743069Z"
    }
   }
  },
  {
   "cell_type": "markdown",
   "source": [
    "Episodes opened by month"
   ],
   "metadata": {
    "collapsed": false
   }
  },
  {
   "cell_type": "code",
   "execution_count": 28,
   "outputs": [
    {
     "data": {
      "text/plain": "     month  episodes_opened\n0  2023-01                1\n1  2023-02                1\n2  2023-05              158\n3  2023-06               89\n4  2023-07               78\n5  2023-08               76\n6  2023-09               58\n7  2023-10               90\n8  2023-11               90\n9  2023-12               88",
      "text/html": "<div>\n<style scoped>\n    .dataframe tbody tr th:only-of-type {\n        vertical-align: middle;\n    }\n\n    .dataframe tbody tr th {\n        vertical-align: top;\n    }\n\n    .dataframe thead th {\n        text-align: right;\n    }\n</style>\n<table border=\"1\" class=\"dataframe\">\n  <thead>\n    <tr style=\"text-align: right;\">\n      <th></th>\n      <th>month</th>\n      <th>episodes_opened</th>\n    </tr>\n  </thead>\n  <tbody>\n    <tr>\n      <th>0</th>\n      <td>2023-01</td>\n      <td>1</td>\n    </tr>\n    <tr>\n      <th>1</th>\n      <td>2023-02</td>\n      <td>1</td>\n    </tr>\n    <tr>\n      <th>2</th>\n      <td>2023-05</td>\n      <td>158</td>\n    </tr>\n    <tr>\n      <th>3</th>\n      <td>2023-06</td>\n      <td>89</td>\n    </tr>\n    <tr>\n      <th>4</th>\n      <td>2023-07</td>\n      <td>78</td>\n    </tr>\n    <tr>\n      <th>5</th>\n      <td>2023-08</td>\n      <td>76</td>\n    </tr>\n    <tr>\n      <th>6</th>\n      <td>2023-09</td>\n      <td>58</td>\n    </tr>\n    <tr>\n      <th>7</th>\n      <td>2023-10</td>\n      <td>90</td>\n    </tr>\n    <tr>\n      <th>8</th>\n      <td>2023-11</td>\n      <td>90</td>\n    </tr>\n    <tr>\n      <th>9</th>\n      <td>2023-12</td>\n      <td>88</td>\n    </tr>\n  </tbody>\n</table>\n</div>"
     },
     "metadata": {},
     "output_type": "display_data"
    }
   ],
   "source": [
    "query_monthly_episodes = \"\"\"\n",
    "SELECT\n",
    "  strftime('%Y-%m', EPISODE_CREATED_AT) AS month,\n",
    "  COUNT(EPISODE_ID) AS episodes_opened\n",
    "FROM episodes\n",
    "WHERE organization_id = 4\n",
    "GROUP BY month\n",
    "ORDER BY month;\n",
    "\n",
    "\n",
    "\"\"\"\n",
    "\n",
    "df = pd.read_sql_query(query_monthly_episodes, conn)\n",
    "display(df)"
   ],
   "metadata": {
    "collapsed": false,
    "ExecuteTime": {
     "end_time": "2024-03-04T00:44:07.366818Z",
     "start_time": "2024-03-04T00:44:07.348622Z"
    }
   }
  },
  {
   "cell_type": "markdown",
   "source": [
    "Eligible members per month"
   ],
   "metadata": {
    "collapsed": false
   }
  },
  {
   "cell_type": "code",
   "execution_count": 29,
   "outputs": [
    {
     "data": {
      "text/plain": "      month  ELIGIBLE_MEMBERS\n0   2023-01                59\n1   2023-02                43\n2   2023-03                42\n3   2023-04                43\n4   2023-05              1478\n5   2023-06              1466\n6   2023-07              1453\n7   2023-08              1429\n8   2023-09              1436\n9   2023-10              1497\n10  2023-11              1500\n11  2023-12              1528",
      "text/html": "<div>\n<style scoped>\n    .dataframe tbody tr th:only-of-type {\n        vertical-align: middle;\n    }\n\n    .dataframe tbody tr th {\n        vertical-align: top;\n    }\n\n    .dataframe thead th {\n        text-align: right;\n    }\n</style>\n<table border=\"1\" class=\"dataframe\">\n  <thead>\n    <tr style=\"text-align: right;\">\n      <th></th>\n      <th>month</th>\n      <th>ELIGIBLE_MEMBERS</th>\n    </tr>\n  </thead>\n  <tbody>\n    <tr>\n      <th>0</th>\n      <td>2023-01</td>\n      <td>59</td>\n    </tr>\n    <tr>\n      <th>1</th>\n      <td>2023-02</td>\n      <td>43</td>\n    </tr>\n    <tr>\n      <th>2</th>\n      <td>2023-03</td>\n      <td>42</td>\n    </tr>\n    <tr>\n      <th>3</th>\n      <td>2023-04</td>\n      <td>43</td>\n    </tr>\n    <tr>\n      <th>4</th>\n      <td>2023-05</td>\n      <td>1478</td>\n    </tr>\n    <tr>\n      <th>5</th>\n      <td>2023-06</td>\n      <td>1466</td>\n    </tr>\n    <tr>\n      <th>6</th>\n      <td>2023-07</td>\n      <td>1453</td>\n    </tr>\n    <tr>\n      <th>7</th>\n      <td>2023-08</td>\n      <td>1429</td>\n    </tr>\n    <tr>\n      <th>8</th>\n      <td>2023-09</td>\n      <td>1436</td>\n    </tr>\n    <tr>\n      <th>9</th>\n      <td>2023-10</td>\n      <td>1497</td>\n    </tr>\n    <tr>\n      <th>10</th>\n      <td>2023-11</td>\n      <td>1500</td>\n    </tr>\n    <tr>\n      <th>11</th>\n      <td>2023-12</td>\n      <td>1528</td>\n    </tr>\n  </tbody>\n</table>\n</div>"
     },
     "metadata": {},
     "output_type": "display_data"
    }
   ],
   "source": [
    "query_monthly_members = \"\"\"\n",
    "SELECT\n",
    "  strftime('%Y-%m', date_month) AS month,\n",
    "  eligible_members\n",
    "FROM organizations_monthly\n",
    "WHERE organization_id = 4\n",
    "GROUP BY month\n",
    "ORDER BY month;\n",
    "\"\"\"\n",
    "\n",
    "df = pd.read_sql_query(query_monthly_members, conn)\n",
    "display(df)"
   ],
   "metadata": {
    "collapsed": false,
    "ExecuteTime": {
     "end_time": "2024-03-04T00:45:19.452709Z",
     "start_time": "2024-03-04T00:45:19.447235Z"
    }
   }
  },
  {
   "cell_type": "code",
   "execution_count": null,
   "outputs": [],
   "source": [],
   "metadata": {
    "collapsed": false
   }
  }
 ],
 "metadata": {
  "kernelspec": {
   "display_name": "Python 3",
   "language": "python",
   "name": "python3"
  },
  "language_info": {
   "codemirror_mode": {
    "name": "ipython",
    "version": 2
   },
   "file_extension": ".py",
   "mimetype": "text/x-python",
   "name": "python",
   "nbconvert_exporter": "python",
   "pygments_lexer": "ipython2",
   "version": "2.7.6"
  }
 },
 "nbformat": 4,
 "nbformat_minor": 0
}
